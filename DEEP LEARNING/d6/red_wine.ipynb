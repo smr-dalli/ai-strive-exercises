{
  "cells": [
    {
      "cell_type": "code",
      "metadata": {
        "tags": [],
        "cell_id": "00000-2f5a45a1-9ad2-4b67-a642-665988ef1a78",
        "deepnote_to_be_reexecuted": false,
        "source_hash": "81709bda",
        "execution_start": 1614878803536,
        "execution_millis": 0,
        "deepnote_cell_type": "code"
      },
      "source": "import pandas as pd\nfrom IPython.display import display",
      "execution_count": 4,
      "outputs": []
    },
    {
      "cell_type": "code",
      "metadata": {
        "tags": [],
        "cell_id": "00000-e2e1268c-11b3-47fb-b341-c96c463074da",
        "deepnote_to_be_reexecuted": false,
        "source_hash": "b1454db0",
        "execution_millis": 2022,
        "execution_start": 1614880644482,
        "deepnote_cell_type": "code"
      },
      "source": "# Start writing code here...\n\ndata = pd.read_csv('red-wine.csv')\n\n##split\ntrain = data.sample(frac = 0.7,random_state = 0)\nvalid = data.drop(train.index)\n\n## scaling \nmax_ = train.max(axis = 0)\nmin_ = train.min(axis = 0)\n\ntrain = (train - min_) / (max_ - min_)\nvalid = (valid - min_) / (max_ - min_)\n\n##train and test\nX_train = train.drop('quality',axis = 1)\nX_test = valid.drop('quality',axis = 1)\n\ny_train = train.quality\ny_test  = valid.quality\n\n##model\nfrom tensorflow import keras\nfrom tensorflow.keras.layers import Dense\nfrom tensorflow.keras.models import Sequential\n\nmodel = Sequential([Dense(512,activation='relu',input_shape = [11]),\nDense(1024,activation= 'relu'),\nDense(512,activation='relu'),\nDense(1)])\n\nmodel.compile(loss= 'mse',optimizer = 'adam')\nred_wine = model.fit(X_train,y_train,validation_data=(X_test,y_test),batch_size = 256,epochs = 10)\n\n\n\n\n\n\n\n",
      "execution_count": 30,
      "outputs": [
        {
          "name": "stdout",
          "text": "Epoch 1/10\n5/5 [==============================] - 0s 50ms/step - loss: 0.1484 - val_loss: 0.0399\nEpoch 2/10\n5/5 [==============================] - 0s 33ms/step - loss: 0.0408 - val_loss: 0.0263\nEpoch 3/10\n5/5 [==============================] - 0s 35ms/step - loss: 0.0266 - val_loss: 0.0233\nEpoch 4/10\n5/5 [==============================] - 0s 35ms/step - loss: 0.0232 - val_loss: 0.0228\nEpoch 5/10\n5/5 [==============================] - 0s 39ms/step - loss: 0.0228 - val_loss: 0.0193\nEpoch 6/10\n5/5 [==============================] - 0s 35ms/step - loss: 0.0214 - val_loss: 0.0197\nEpoch 7/10\n5/5 [==============================] - 0s 34ms/step - loss: 0.0207 - val_loss: 0.0180\nEpoch 8/10\n5/5 [==============================] - 0s 38ms/step - loss: 0.0186 - val_loss: 0.0187\nEpoch 9/10\n5/5 [==============================] - 0s 34ms/step - loss: 0.0185 - val_loss: 0.0178\nEpoch 10/10\n5/5 [==============================] - 0s 35ms/step - loss: 0.0187 - val_loss: 0.0176\n",
          "output_type": "stream"
        }
      ]
    },
    {
      "cell_type": "code",
      "metadata": {
        "tags": [],
        "cell_id": "00002-333165ee-8586-410b-be61-b2e8f46280ff",
        "deepnote_to_be_reexecuted": false,
        "source_hash": "66902763",
        "execution_millis": 4,
        "execution_start": 1614880698134,
        "deepnote_cell_type": "code"
      },
      "source": "final_data = pd.DataFrame(red_wine.history)\nfinal_data",
      "execution_count": 32,
      "outputs": [
        {
          "output_type": "execute_result",
          "execution_count": 32,
          "data": {
            "application/vnd.deepnote.dataframe.v2+json": {
              "row_count": 10,
              "column_count": 2,
              "columns": [
                {
                  "name": "loss",
                  "dtype": "float64",
                  "stats": {
                    "unique_count": 10,
                    "nan_count": 0,
                    "min": 0.018965937197208405,
                    "max": 0.11047885566949844,
                    "histogram": [
                      {
                        "bin_start": 0.018965937197208405,
                        "bin_end": 0.02811722904443741,
                        "count": 8
                      },
                      {
                        "bin_start": 0.02811722904443741,
                        "bin_end": 0.037268520891666414,
                        "count": 0
                      },
                      {
                        "bin_start": 0.037268520891666414,
                        "bin_end": 0.04641981273889542,
                        "count": 1
                      },
                      {
                        "bin_start": 0.04641981273889542,
                        "bin_end": 0.05557110458612442,
                        "count": 0
                      },
                      {
                        "bin_start": 0.05557110458612442,
                        "bin_end": 0.06472239643335342,
                        "count": 0
                      },
                      {
                        "bin_start": 0.06472239643335342,
                        "bin_end": 0.07387368828058244,
                        "count": 0
                      },
                      {
                        "bin_start": 0.07387368828058244,
                        "bin_end": 0.08302498012781144,
                        "count": 0
                      },
                      {
                        "bin_start": 0.08302498012781144,
                        "bin_end": 0.09217627197504044,
                        "count": 0
                      },
                      {
                        "bin_start": 0.09217627197504044,
                        "bin_end": 0.10132756382226944,
                        "count": 0
                      },
                      {
                        "bin_start": 0.10132756382226944,
                        "bin_end": 0.11047885566949844,
                        "count": 1
                      }
                    ]
                  }
                },
                {
                  "name": "val_loss",
                  "dtype": "float64",
                  "stats": {
                    "unique_count": 10,
                    "nan_count": 0,
                    "min": 0.017629491165280342,
                    "max": 0.03990786895155907,
                    "histogram": [
                      {
                        "bin_start": 0.017629491165280342,
                        "bin_end": 0.019857328943908216,
                        "count": 6
                      },
                      {
                        "bin_start": 0.019857328943908216,
                        "bin_end": 0.022085166722536086,
                        "count": 0
                      },
                      {
                        "bin_start": 0.022085166722536086,
                        "bin_end": 0.02431300450116396,
                        "count": 2
                      },
                      {
                        "bin_start": 0.02431300450116396,
                        "bin_end": 0.02654084227979183,
                        "count": 1
                      },
                      {
                        "bin_start": 0.02654084227979183,
                        "bin_end": 0.028768680058419704,
                        "count": 0
                      },
                      {
                        "bin_start": 0.028768680058419704,
                        "bin_end": 0.03099651783704758,
                        "count": 0
                      },
                      {
                        "bin_start": 0.03099651783704758,
                        "bin_end": 0.03322435561567545,
                        "count": 0
                      },
                      {
                        "bin_start": 0.03322435561567545,
                        "bin_end": 0.03545219339430332,
                        "count": 0
                      },
                      {
                        "bin_start": 0.03545219339430332,
                        "bin_end": 0.0376800311729312,
                        "count": 0
                      },
                      {
                        "bin_start": 0.0376800311729312,
                        "bin_end": 0.03990786895155907,
                        "count": 1
                      }
                    ]
                  }
                },
                {
                  "name": "_deepnote_index_column",
                  "dtype": "int64"
                }
              ],
              "rows_top": [
                {
                  "loss": 0.11047885566949844,
                  "val_loss": 0.03990786895155907,
                  "_deepnote_index_column": 0
                },
                {
                  "loss": 0.0393119640648365,
                  "val_loss": 0.02630191668868065,
                  "_deepnote_index_column": 1
                },
                {
                  "loss": 0.02693776786327362,
                  "val_loss": 0.023311205208301544,
                  "_deepnote_index_column": 2
                },
                {
                  "loss": 0.023708151653409004,
                  "val_loss": 0.022822167724370956,
                  "_deepnote_index_column": 3
                },
                {
                  "loss": 0.02231460064649582,
                  "val_loss": 0.019276250153779984,
                  "_deepnote_index_column": 4
                },
                {
                  "loss": 0.02105097658932209,
                  "val_loss": 0.0197125356644392,
                  "_deepnote_index_column": 5
                },
                {
                  "loss": 0.02053760550916195,
                  "val_loss": 0.017992934212088585,
                  "_deepnote_index_column": 6
                },
                {
                  "loss": 0.019588667899370193,
                  "val_loss": 0.018660934641957283,
                  "_deepnote_index_column": 7
                },
                {
                  "loss": 0.018965937197208405,
                  "val_loss": 0.017847904935479164,
                  "_deepnote_index_column": 8
                },
                {
                  "loss": 0.01909576542675495,
                  "val_loss": 0.017629491165280342,
                  "_deepnote_index_column": 9
                }
              ],
              "rows_bottom": null
            },
            "text/plain": "       loss  val_loss\n0  0.110479  0.039908\n1  0.039312  0.026302\n2  0.026938  0.023311\n3  0.023708  0.022822\n4  0.022315  0.019276\n5  0.021051  0.019713\n6  0.020538  0.017993\n7  0.019589  0.018661\n8  0.018966  0.017848\n9  0.019096  0.017629",
            "text/html": "<div>\n<style scoped>\n    .dataframe tbody tr th:only-of-type {\n        vertical-align: middle;\n    }\n\n    .dataframe tbody tr th {\n        vertical-align: top;\n    }\n\n    .dataframe thead th {\n        text-align: right;\n    }\n</style>\n<table border=\"1\" class=\"dataframe\">\n  <thead>\n    <tr style=\"text-align: right;\">\n      <th></th>\n      <th>loss</th>\n      <th>val_loss</th>\n    </tr>\n  </thead>\n  <tbody>\n    <tr>\n      <th>0</th>\n      <td>0.110479</td>\n      <td>0.039908</td>\n    </tr>\n    <tr>\n      <th>1</th>\n      <td>0.039312</td>\n      <td>0.026302</td>\n    </tr>\n    <tr>\n      <th>2</th>\n      <td>0.026938</td>\n      <td>0.023311</td>\n    </tr>\n    <tr>\n      <th>3</th>\n      <td>0.023708</td>\n      <td>0.022822</td>\n    </tr>\n    <tr>\n      <th>4</th>\n      <td>0.022315</td>\n      <td>0.019276</td>\n    </tr>\n    <tr>\n      <th>5</th>\n      <td>0.021051</td>\n      <td>0.019713</td>\n    </tr>\n    <tr>\n      <th>6</th>\n      <td>0.020538</td>\n      <td>0.017993</td>\n    </tr>\n    <tr>\n      <th>7</th>\n      <td>0.019589</td>\n      <td>0.018661</td>\n    </tr>\n    <tr>\n      <th>8</th>\n      <td>0.018966</td>\n      <td>0.017848</td>\n    </tr>\n    <tr>\n      <th>9</th>\n      <td>0.019096</td>\n      <td>0.017629</td>\n    </tr>\n  </tbody>\n</table>\n</div>"
          },
          "metadata": {}
        }
      ]
    },
    {
      "cell_type": "code",
      "metadata": {
        "tags": [],
        "cell_id": "00003-c7987571-9e49-4688-ab49-de8077788775",
        "deepnote_to_be_reexecuted": false,
        "source_hash": "b1fbe8a6",
        "execution_millis": 157,
        "execution_start": 1614880868314,
        "deepnote_cell_type": "code"
      },
      "source": "import matplotlib.pyplot as plt\nepoch = 10\nfinal_data.loss.plot()\nplt.xticks(range(epoch))\nplt.xlabel('Epochs')\nplt.ylabel('loss of each epochs')",
      "execution_count": 38,
      "outputs": [
        {
          "output_type": "execute_result",
          "execution_count": 38,
          "data": {
            "text/plain": "Text(0, 0.5, 'loss of each epochs')"
          },
          "metadata": {}
        },
        {
          "data": {
            "text/plain": "<Figure size 432x288 with 1 Axes>",
            "image/png": "[encoded data removed]"
          },
          "metadata": {
            "needs_background": "light"
          },
          "output_type": "display_data"
        }
      ]
    },
    {
      "cell_type": "markdown",
      "source": "<a style='text-decoration:none;line-height:16px;display:flex;color:#5B5B62;padding:10px;justify-content:end;' href='https://deepnote.com?utm_source=created-in-deepnote-cell&projectId=88190736-eb57-4922-a018-2ff5a44a7537' target=\"_blank\">\n<img style='display:inline;max-height:16px;margin:0px;margin-right:7.5px;' src='data:image/svg+xml;base64,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' > </img>\nCreated in <span style='font-weight:600;margin-left:4px;'>Deepnote</span></a>",
      "metadata": {
        "tags": [],
        "created_in_deepnote_cell": true,
        "deepnote_cell_type": "markdown"
      }
    }
  ],
  "nbformat": 4,
  "nbformat_minor": 2,
  "metadata": {
    "orig_nbformat": 2,
    "deepnote_notebook_id": "e183df05-1f2a-4025-805f-b89dc5ba8313",
    "deepnote": {},
    "deepnote_execution_queue": []
  }
}