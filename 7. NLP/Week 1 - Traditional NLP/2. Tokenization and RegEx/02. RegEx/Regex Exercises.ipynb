{
 "cells": [
  {
   "cell_type": "markdown",
   "id": "vital-selection",
   "metadata": {},
   "source": [
    "### Quick recap\n",
    "\n",
    "\n",
    "| Symbols | Explaination                                                               | Example        |\n",
    "|---------|----------------------------------------------------------------------------|----------------|\n",
    "| `[]`    | A set of characters                                                        | \"[a-m]\"        |\n",
    "| `\\`     | Signals a special sequence (can also be used to escape special characters) | \"\\d\"           |\n",
    "| `.`     | Any character (except newline character)                                   | \"he..o\"        |\n",
    "| `^`     | Starts with                                                                | \"^hello\"       |\n",
    "| `$`     | Ends with                                                                  | \"world$\"       |\n",
    "| `*`     | Zero or more occurrences                                                   | \"aix*\"         |\n",
    "| `+`     | One or more occurrences                                                    | \"aix+\"         |\n",
    "| `{}`    | Exactly the specified number of occurrences                                | \"al{2}\"        |\n",
    "| `\\|`    | Either or                                                                  | \"falls\\|stays\" |\n",
    "| `()`    | Capture and group                                                          |                |\n",
    "\n",
    "**Deeper recap:**\n",
    "\n",
    "| Code | Meaning                                |\n",
    "|------|----------------------------------------|\n",
    "| \\d   | a digit                                |\n",
    "| \\D   | a non-digit                            |\n",
    "| \\s   | whitespace (tab, space, newline, etc.) |\n",
    "| \\S   | non-whitespace                         |\n",
    "| \\w   | alphanumeric                           |\n",
    "| \\W   | non-alphanumeric                       |\n",
    "| [abc] | any of a,b, or c                      |\n",
    "| [^abc] | not a,b, or c                        |\n",
    "| [a-g] | characters between a & g              |\n",
    "\n",
    "**Anchors**\n",
    "\n",
    "`\\b`\n",
    "Matches the empty string, but only at the beginning or end of a word. A word is defined as a sequence of word characters. Note that formally, \\b is defined as the boundary between a \\w and a \\W character (or vice versa), or between \\w and the beginning/end of the string. This means that r'\\bfoo\\b' matches 'foo', 'foo.', '(foo)', 'bar foo baz' but not 'foobar' or 'foo3'.\n",
    "\n",
    "`\\B`\n",
    "\n",
    "Matches the empty string, but only when **it is not at the beginning or end of a word**. This means that r'py\\B' matches 'python', 'py3', 'py2', but not 'py', 'py.', or 'py!'. \\B is just the opposite of \\b.\n",
    "\n",
    "\n",
    "**Escaped characters**\n",
    "\n",
    "| Class | Explanation |\n",
    "|:-----:|:-----------:|\n",
    "| \\\\. \\\\* \\\\\\\\ | escaped special characters |\n",
    "| \\t \\n \\r | tab, linefeed, carriage return |\n",
    "\n",
    "**Repetitions**\n",
    "\n",
    "1.) A pattern followed by the meta-character * is repeated zero or more times. \n",
    "\n",
    "2.) Replace the * with + and the pattern must appear at least once. \n",
    "\n",
    "3.) Using ? means the pattern appears zero or one time. \n",
    "\n",
    "4.) For a specific number of occurrences, use {m} after the pattern, where m is replaced with the number of times         the pattern should repeat. \n",
    "\n",
    "5.) Use {m,n} where m is the minimum number of repetitions and n is the maximum. Leaving out n ({m,}) means the           value appears at least m times, with no maximum.\n",
    "\n",
    "\n",
    "**Summary Table**\n",
    "\n",
    "\n",
    "| Symbol   |      Meaning      |\n",
    "|:----------:|:-------------:|\n",
    "| * |  zero or more times |\n",
    "| + |    at least once   |\n",
    "| ? | zero or one time |\n",
    "| {m} | exactly m times |\n",
    "| {m,n} | m for minimum reps, n for maximum. |\n",
    "| {m,} | at least m times, no maximum|\n",
    "\n",
    "**Lookaround**\n",
    "\n",
    "\n",
    "| Lookaround | Name                | What it Does                                                                         |\n",
    "|------------|---------------------|--------------------------------------------------------------------------------------|\n",
    "| (?=foo)    | Lookahead           | Asserts that what immediately follows the current position in the string is foo      |\n",
    "| (?<=foo)   | Lookbehind          | Asserts that what immediately precedes the current position in the string is foo     |\n",
    "| (?!foo)    | Negative Lookahead  | Asserts that what immediately follows the current position in the string is not foo  |\n",
    "| (?<!foo)   | Negative Lookbehind | Asserts that what immediately precedes the current position in the string is not foo |\n",
    "\n",
    "More on https://www.regular-expressions.info/ .\n"
   ]
  },
  {
   "cell_type": "markdown",
   "id": "conventional-brook",
   "metadata": {},
   "source": [
    "**Exercise 1.0**\n",
    "\n",
    "Check if the given sentence contains \"ab\" in it using regex."
   ]
  },
  {
   "cell_type": "code",
   "execution_count": 1,
   "id": "behavioral-newcastle",
   "metadata": {},
   "outputs": [
    {
     "data": {
      "text/plain": [
       "<re.Match object; span=(24, 26), match='ab'>"
      ]
     },
     "execution_count": 1,
     "metadata": {},
     "output_type": "execute_result"
    }
   ],
   "source": [
    "import re\n",
    "text = \"This is exercise is the abc of the regex\"\n",
    "# your code here"
   ]
  },
  {
   "cell_type": "markdown",
   "id": "engaging-blond",
   "metadata": {},
   "source": [
    "**Exercise 1.1**\n",
    "\n",
    "Check which of the given sentences contains \"ab\" in it."
   ]
  },
  {
   "cell_type": "code",
   "execution_count": 3,
   "id": "million-smart",
   "metadata": {},
   "outputs": [
    {
     "name": "stdout",
     "output_type": "stream",
     "text": [
      "Sentence 0 doesn't contain the pattern.\n",
      "Sentence 1 contains the pattern.\n",
      "Sentence 2 contains the pattern.\n"
     ]
    }
   ],
   "source": [
    "texts = [\"This string doesn't contain what you are looking for\", \n",
    "         \"This string contains abc\", \n",
    "         \"Everyab wordab endab withab whatab yourab lookingab forab.\"]\n",
    "\n",
    "for i, text in enumerate(texts):\n",
    "    if # your code here\n",
    "        print(f\"Sentence {i} contains the pattern.\")\n",
    "    else:\n",
    "        print(f\"Sentence {i} doesn't contain the pattern.\")    "
   ]
  },
  {
   "cell_type": "markdown",
   "id": "prescribed-programming",
   "metadata": {},
   "source": [
    "**Exercise 1.2**\n",
    "\n",
    "Check which of the given sentences contains digits in it."
   ]
  },
  {
   "cell_type": "code",
   "execution_count": 5,
   "id": "possible-trace",
   "metadata": {},
   "outputs": [
    {
     "name": "stdout",
     "output_type": "stream",
     "text": [
      "Sentence 0 contains the pattern.\n",
      "Sentence 1 doesn't contain the pattern.\n",
      "Sentence 2 contains the pattern.\n"
     ]
    }
   ],
   "source": [
    "texts = [ \"1'm wr1t1ng us1ng numb3r5 4nd of l3tt3r5.\",\n",
    "        \"This string doesn't contain any number\", \n",
    "         \"This string contains 4 numbers: 1, 2 and 3\"]\n",
    "\n",
    "for i, text in enumerate(texts):\n",
    "    if # your code here\n",
    "        print(f\"Sentence {i} contains the pattern.\")\n",
    "    else:\n",
    "        print(f\"Sentence {i} doesn't contain the pattern.\")    "
   ]
  },
  {
   "cell_type": "markdown",
   "id": "american-december",
   "metadata": {},
   "source": [
    "**Exercise 1.3**\n",
    "\n",
    "Count how many digits are in the given text."
   ]
  },
  {
   "cell_type": "code",
   "execution_count": 8,
   "id": "incident-benjamin",
   "metadata": {},
   "outputs": [
    {
     "data": {
      "text/plain": [
       "10"
      ]
     },
     "execution_count": 8,
     "metadata": {},
     "output_type": "execute_result"
    }
   ],
   "source": [
    "text = \"1'm wr1t1ng us1ng numb3r5 4nd of l3tt3r5.\"\n",
    "# your code here"
   ]
  },
  {
   "cell_type": "markdown",
   "id": "heated-botswana",
   "metadata": {},
   "source": [
    "**Exercise 1.4**\n",
    "\n",
    "Count how many numbers sequences are in the given text."
   ]
  },
  {
   "cell_type": "code",
   "execution_count": 10,
   "id": "municipal-captain",
   "metadata": {},
   "outputs": [
    {
     "data": {
      "text/plain": [
       "3"
      ]
     },
     "execution_count": 10,
     "metadata": {},
     "output_type": "execute_result"
    }
   ],
   "source": [
    "text = \"In this sentence there are 3 sequences: 123, 456.\"\n",
    "\n",
    "# your code here\n"
   ]
  },
  {
   "cell_type": "markdown",
   "id": "premier-citizen",
   "metadata": {},
   "source": [
    "**Exercise 1.5**\n",
    "\n",
    "Count how many letters between \"A\" and \"G\" there are in the given text.  Consider only capital letters."
   ]
  },
  {
   "cell_type": "code",
   "execution_count": 14,
   "id": "velvet-sandwich",
   "metadata": {},
   "outputs": [
    {
     "data": {
      "text/plain": [
       "5"
      ]
     },
     "execution_count": 14,
     "metadata": {},
     "output_type": "execute_result"
    }
   ],
   "source": [
    "text = \"ThIs An ExAmPlE.\"\n",
    "\n",
    "# your code here\n"
   ]
  },
  {
   "cell_type": "markdown",
   "id": "equipped-nelson",
   "metadata": {},
   "source": [
    "**Exercise 1.6**\n",
    "\n",
    "Count how many letters between \"A\" and \"G\" there are in the given text.  Consider only capital letters."
   ]
  },
  {
   "cell_type": "code",
   "execution_count": null,
   "id": "outdoor-collapse",
   "metadata": {},
   "outputs": [],
   "source": [
    "import re\n",
    "\n",
    "def text_match(text):\n",
    "        # your code here\n",
    "        if # your code here:\n",
    "                return 'Found a match!'\n",
    "        else:\n",
    "                return('Not matched!')\n",
    "\n",
    "print(text_match(\"ab\"))\n",
    "print(text_match(\"abc\"))\n",
    "print(text_match(\"abbc\"))\n",
    "print(text_match(\"aabbc\"))"
   ]
  },
  {
   "cell_type": "markdown",
   "id": "directed-boost",
   "metadata": {},
   "source": [
    "**Exercise 1.7**\n",
    "\n",
    "Write a Python program to find sequences of lowercase letters (whatever length) joined with a underscore.\n"
   ]
  },
  {
   "cell_type": "code",
   "execution_count": 1,
   "id": "hourly-protest",
   "metadata": {
    "ExecuteTime": {
     "end_time": "2021-03-29T19:15:44.569412Z",
     "start_time": "2021-03-29T19:15:44.556191Z"
    }
   },
   "outputs": [
    {
     "name": "stdout",
     "output_type": "stream",
     "text": [
      "Found a match!\n",
      "Not matched!\n",
      "Not matched!\n"
     ]
    }
   ],
   "source": [
    "def text_match(text):\n",
    "        # your code here\n",
    "        if # your code here:\n",
    "                return 'Found a match!'\n",
    "        else:\n",
    "                return('Not matched!')\n",
    "\n",
    "print(text_match(\"aab_cbbbc\"))\n",
    "print(text_match(\"aab_Abbbc\"))\n",
    "print(text_match(\"Aaab_abbbc\"))"
   ]
  },
  {
   "cell_type": "markdown",
   "id": "flexible-thousand",
   "metadata": {},
   "source": [
    " **Exercise 1.8**\n",
    " \n",
    " \n",
    " Write a Python program that matches a word at the end of string, with optional punctuation."
   ]
  },
  {
   "cell_type": "code",
   "execution_count": 4,
   "id": "legislative-liberty",
   "metadata": {
    "ExecuteTime": {
     "end_time": "2021-03-29T19:19:19.903724Z",
     "start_time": "2021-03-29T19:19:19.896867Z"
    }
   },
   "outputs": [
    {
     "name": "stdout",
     "output_type": "stream",
     "text": [
      "Found a match!\n",
      "Found a match!\n",
      "Not matched!\n"
     ]
    }
   ],
   "source": [
    "def text_match(text):\n",
    "        # your code here\n",
    "        if # your code here:\n",
    "                return 'Found a match!'\n",
    "        else:\n",
    "                return('Not matched!')\n",
    "\n",
    "print(text_match(\"The quick brown fox jumps over the lazy dog.\"))\n",
    "print(text_match(\"The quick brown fox jumps over the lazy dog...!!\"))\n",
    "print(text_match(\"The quick brown fox jumps over the lazy dog \"))"
   ]
  },
  {
   "cell_type": "markdown",
   "id": "driving-termination",
   "metadata": {},
   "source": [
    "**Exercise 1.9**\n",
    "\n",
    "Write a Python program that matches a numerical sequence of the form `+39 + (possible spaces) + ten numbers` that starts with a specified prefix (in the example it should be +39).\n",
    "\n"
   ]
  },
  {
   "cell_type": "code",
   "execution_count": 14,
   "id": "physical-charles",
   "metadata": {
    "ExecuteTime": {
     "end_time": "2021-03-29T19:27:02.698550Z",
     "start_time": "2021-03-29T19:27:02.692171Z"
    }
   },
   "outputs": [
    {
     "name": "stdout",
     "output_type": "stream",
     "text": [
      "True\n",
      "False\n"
     ]
    }
   ],
   "source": [
    "def match_num(string):\n",
    "    # your code here\n",
    "    if # your code here:\n",
    "        return True\n",
    "    else:\n",
    "        return False\n",
    "    \n",
    "print(match_num('+39 3333333333'))\n",
    "print(match_num('+45 2345861123'))"
   ]
  },
  {
   "cell_type": "markdown",
   "id": "military-bhutan",
   "metadata": {},
   "source": [
    "**Exercise 2.0**\n",
    "\n",
    "Write a Python program to search a literals string in a string and also find the location within the original string where the pattern occurs.\n",
    "\n"
   ]
  },
  {
   "cell_type": "code",
   "execution_count": 15,
   "id": "incorporate-citizen",
   "metadata": {
    "ExecuteTime": {
     "end_time": "2021-03-29T19:28:55.997968Z",
     "start_time": "2021-03-29T19:28:55.983097Z"
    }
   },
   "outputs": [
    {
     "name": "stdout",
     "output_type": "stream",
     "text": [
      "Found \"fox\" in \"The quick brown fox jumps over the lazy dog.\" from 16 to 19 \n"
     ]
    }
   ],
   "source": [
    "pattern = 'fox'\n",
    "text = 'The quick brown fox jumps over the lazy dog.'\n",
    "# your code here\n",
    "s = # your code here\n",
    "e = # your code here\n",
    "print(f'Found {} in \"{}\" from {} to {}')"
   ]
  },
  {
   "cell_type": "markdown",
   "id": "anticipated-implement",
   "metadata": {},
   "source": [
    "**Exercise 2.1**\n",
    "\n",
    "\n",
    "Write a Python program to abbreviate 'Road' as 'Rd.' in a given string"
   ]
  },
  {
   "cell_type": "code",
   "execution_count": 17,
   "id": "documented-hopkins",
   "metadata": {
    "ExecuteTime": {
     "end_time": "2021-03-29T19:35:16.436906Z",
     "start_time": "2021-03-29T19:35:16.295425Z"
    }
   },
   "outputs": [
    {
     "name": "stdout",
     "output_type": "stream",
     "text": [
      "21 Ramkrishna Rd.\n"
     ]
    }
   ],
   "source": [
    "street = '21 Ramkrishna Road'\n",
    "# your code here"
   ]
  },
  {
   "cell_type": "markdown",
   "id": "consolidated-basic",
   "metadata": {},
   "source": [
    "**Exercise 2.2**\n",
    "\n",
    "Write a Python program to replace all occurrences of space, comma, or dot with an underscore.\n",
    "\n",
    "\n",
    "\n",
    "\n",
    "\n"
   ]
  },
  {
   "cell_type": "code",
   "execution_count": 18,
   "id": "complimentary-brush",
   "metadata": {
    "ExecuteTime": {
     "end_time": "2021-03-29T19:37:01.079874Z",
     "start_time": "2021-03-29T19:37:01.030324Z"
    }
   },
   "outputs": [
    {
     "name": "stdout",
     "output_type": "stream",
     "text": [
      "M7_W1_D2_NLP_Module\n"
     ]
    }
   ],
   "source": [
    "text = 'M7 W1 D2 NLP Module'\n",
    "# your code here"
   ]
  },
  {
   "cell_type": "markdown",
   "id": "athletic-personal",
   "metadata": {},
   "source": [
    "**Exercise 2.3**\n",
    "\n",
    "Write a Python program to replace all occurrences of space, comma, or dot with an underscore in a the name of a file except for the extension.\n",
    "\n",
    "Hint: use the |: in the left part match the space and the commas and on the right part use a negative lookahead that ensure that a dot is not followed by some text at the end of the string.\n",
    "\n",
    "For the negative lookahed: `\\.(?!\\w*$)`"
   ]
  },
  {
   "cell_type": "code",
   "execution_count": 31,
   "id": "documentary-floor",
   "metadata": {
    "ExecuteTime": {
     "end_time": "2021-03-29T19:52:32.924432Z",
     "start_time": "2021-03-29T19:52:32.915909Z"
    },
    "scrolled": true
   },
   "outputs": [
    {
     "name": "stdout",
     "output_type": "stream",
     "text": [
      "M7_W1_D2_NLP_Module.ipynb\n"
     ]
    }
   ],
   "source": [
    "text = 'M7 W1 D2 NLP Module.ipynb'\n",
    "# your code here"
   ]
  },
  {
   "cell_type": "markdown",
   "id": "chemical-supervisor",
   "metadata": {},
   "source": [
    "**Exercise 2.4**\n",
    "\n",
    "Write a Python program to remove all the words between brackets, brackets included.\n",
    "\n",
    "This: https://stackoverflow.com/questions/3075130/what-is-the-difference-between-and-regular-expressions\n",
    "can be helpful"
   ]
  },
  {
   "cell_type": "code",
   "execution_count": 59,
   "id": "complicated-dover",
   "metadata": {
    "ExecuteTime": {
     "end_time": "2021-03-29T20:38:22.296293Z",
     "start_time": "2021-03-29T20:38:22.292096Z"
    }
   },
   "outputs": [
    {
     "name": "stdout",
     "output_type": "stream",
     "text": [
      "This is an exercise that is very easy.\n"
     ]
    }
   ],
   "source": [
    "text = \"This is an (hard) exercise that is very easy (to fail).\"\n",
    "\n",
    "# your code here"
   ]
  },
  {
   "cell_type": "markdown",
   "id": "published-hamilton",
   "metadata": {},
   "source": [
    "**Exercise 2.5**\n",
    "\n",
    "Write a Python program to remove all the words between <>, brackets included."
   ]
  },
  {
   "cell_type": "code",
   "execution_count": 58,
   "id": "curious-township",
   "metadata": {
    "ExecuteTime": {
     "end_time": "2021-03-29T20:38:17.479539Z",
     "start_time": "2021-03-29T20:38:17.471872Z"
    }
   },
   "outputs": [
    {
     "name": "stdout",
     "output_type": "stream",
     "text": [
      "Remove tags please!\n"
     ]
    }
   ],
   "source": [
    "text = \"Remove <this> tags </this> please!\"\n",
    "\n",
    "# your code here"
   ]
  },
  {
   "cell_type": "markdown",
   "id": "complimentary-house",
   "metadata": {},
   "source": [
    "**Exercise 2.6**\n",
    "\n",
    "Write a Python program to extract values between quotation marks of a string.\n",
    "\n"
   ]
  },
  {
   "cell_type": "code",
   "execution_count": 60,
   "id": "promotional-robin",
   "metadata": {
    "ExecuteTime": {
     "end_time": "2021-03-29T20:39:28.185656Z",
     "start_time": "2021-03-29T20:39:28.111663Z"
    }
   },
   "outputs": [
    {
     "name": "stdout",
     "output_type": "stream",
     "text": [
      "['Python', 'PHP', 'Java']\n"
     ]
    }
   ],
   "source": [
    "text = '\"Python\", \"PHP\", \"Java\"'\n",
    "# your code here"
   ]
  },
  {
   "cell_type": "markdown",
   "id": "forbidden-serbia",
   "metadata": {},
   "source": [
    "**Exercise 2.7**\n",
    "\n",
    "Write a Python program to insert spaces between words starting with capital letters.\n",
    "\n"
   ]
  },
  {
   "cell_type": "code",
   "execution_count": 64,
   "id": "appointed-universe",
   "metadata": {
    "ExecuteTime": {
     "end_time": "2021-03-29T20:47:13.993891Z",
     "start_time": "2021-03-29T20:47:13.988882Z"
    }
   },
   "outputs": [
    {
     "name": "stdout",
     "output_type": "stream",
     "text": [
      "Python\n",
      "Python Exercises\n",
      "Python Exercises Practice Solution\n"
     ]
    }
   ],
   "source": [
    "def capital_words_spaces(str1):\n",
    "    # your code here\n",
    "\n",
    "print(capital_words_spaces(\"Python\"))\n",
    "print(capital_words_spaces(\"PythonExercises\"))\n",
    "print(capital_words_spaces(\"PythonExercisesPracticeSolution\"))"
   ]
  },
  {
   "cell_type": "markdown",
   "id": "satisfactory-nursery",
   "metadata": {},
   "source": [
    "**Exercise 2.8**\n",
    "\n",
    "Extract the table of content of the text.\n",
    "\n"
   ]
  },
  {
   "cell_type": "code",
   "execution_count": 4,
   "id": "educated-reform",
   "metadata": {
    "ExecuteTime": {
     "end_time": "2021-03-30T05:39:20.466837Z",
     "start_time": "2021-03-30T05:39:20.440659Z"
    }
   },
   "outputs": [
    {
     "data": {
      "text/plain": [
       "['Introduction', 'Chapter 1', 'Chapter 2', 'Chapter 3', 'Conclusions']"
      ]
     },
     "execution_count": 4,
     "metadata": {},
     "output_type": "execute_result"
    }
   ],
   "source": [
    "text = \"\"\"\n",
    "\n",
    "Introduction\n",
    "-------\n",
    "\n",
    "This is the intro.\n",
    "\n",
    "Chapter 1\n",
    "-------\n",
    "\n",
    "Hello. This is the first chapter and it contains numbers.\n",
    "\n",
    "Chapter 2\n",
    "-------\n",
    "\n",
    "The middle of the book.\n",
    "\n",
    "Chapter 3\n",
    "-------\n",
    "\n",
    "Finally the last chapter...\n",
    "\n",
    "Conclusions\n",
    "-------\n",
    "\n",
    "The end of this torture.\n",
    "\"\"\"\n",
    "\n",
    "# your code here"
   ]
  },
  {
   "cell_type": "code",
   "execution_count": null,
   "id": "trying-notice",
   "metadata": {},
   "outputs": [],
   "source": []
  }
 ],
 "metadata": {
  "kernelspec": {
   "display_name": "Python 3",
   "language": "python",
   "name": "python3"
  },
  "language_info": {
   "codemirror_mode": {
    "name": "ipython",
    "version": 3
   },
   "file_extension": ".py",
   "mimetype": "text/x-python",
   "name": "python",
   "nbconvert_exporter": "python",
   "pygments_lexer": "ipython3",
   "version": "3.9.1"
  },
  "varInspector": {
   "cols": {
    "lenName": 16,
    "lenType": 16,
    "lenVar": 40
   },
   "kernels_config": {
    "python": {
     "delete_cmd_postfix": "",
     "delete_cmd_prefix": "del ",
     "library": "var_list.py",
     "varRefreshCmd": "print(var_dic_list())"
    },
    "r": {
     "delete_cmd_postfix": ") ",
     "delete_cmd_prefix": "rm(",
     "library": "var_list.r",
     "varRefreshCmd": "cat(var_dic_list()) "
    }
   },
   "types_to_exclude": [
    "module",
    "function",
    "builtin_function_or_method",
    "instance",
    "_Feature"
   ],
   "window_display": false
  }
 },
 "nbformat": 4,
 "nbformat_minor": 5
}
