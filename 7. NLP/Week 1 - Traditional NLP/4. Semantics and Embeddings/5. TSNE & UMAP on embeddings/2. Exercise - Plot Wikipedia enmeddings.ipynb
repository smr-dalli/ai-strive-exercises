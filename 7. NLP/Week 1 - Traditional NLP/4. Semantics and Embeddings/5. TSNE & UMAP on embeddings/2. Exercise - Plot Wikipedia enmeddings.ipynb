{
 "cells": [
  {
   "cell_type": "code",
   "execution_count": 7,
   "metadata": {},
   "outputs": [],
   "source": [
    "from fastai.text.all import *\n",
    "import torch\n",
    "import pickle"
   ]
  },
  {
   "cell_type": "markdown",
   "metadata": {},
   "source": [
    "### Get pretrained AWD-LSTM protrained model (on wikitext103) from Fast.ai"
   ]
  },
  {
   "cell_type": "code",
   "execution_count": 9,
   "metadata": {},
   "outputs": [
    {
     "data": {
      "text/plain": [
       "'https://s3.amazonaws.com/fast-ai-modelzoo/wt103-fwd.tgz'"
      ]
     },
     "execution_count": 9,
     "metadata": {},
     "output_type": "execute_result"
    }
   ],
   "source": [
    "URLs.WT103_FWD"
   ]
  },
  {
   "cell_type": "code",
   "execution_count": 23,
   "metadata": {},
   "outputs": [
    {
     "data": {
      "text/plain": [
       "Path('/home/javi/.fastai/data/wt103-fwd')"
      ]
     },
     "execution_count": 23,
     "metadata": {},
     "output_type": "execute_result"
    }
   ],
   "source": [
    "AWDLSTM_PATH = untar_data(URLs.WT103_FWD)\n",
    "AWDLSTM_PATH"
   ]
  },
  {
   "cell_type": "markdown",
   "metadata": {},
   "source": [
    "### Load the vocab (list of string tokens)"
   ]
  },
  {
   "cell_type": "code",
   "execution_count": 25,
   "metadata": {},
   "outputs": [
    {
     "name": "stdout",
     "output_type": "stream",
     "text": [
      "/home/javi/.fastai/data/wt103-fwd/itos_wt103.pkl\n"
     ]
    }
   ],
   "source": [
    "vocab_path = AWDLSTM_PATH.ls()[0]\n",
    "print(vocab_path)"
   ]
  },
  {
   "cell_type": "code",
   "execution_count": 26,
   "metadata": {},
   "outputs": [
    {
     "name": "stdout",
     "output_type": "stream",
     "text": [
      "60000\n",
      "['xxunk', 'xxpad', 'xxbos', 'xxeos', 'xxfld', 'xxmaj', 'xxup', 'xxrep', 'xxwrep', 'the', ',', '.', 'of', 'and', 'in', 'to', 'a', '=', '\"', 'was', 'on', '-', \"'s\", 'as', 'for', 'that', 'with', 'by', '\\n ', ')', '(', '\\n \\n ', 'is', 'his', 'at', 'he', 'it', 'from', 'were', 'an', 'had', 'which', 'be', 'this', 'but', \"'\", 'are', 'not', 'first', 'their', 'after', ';', 'one', 'her', '–', 'also', 'its', ':', 'they', 'two', 'or', 'have', 'who', 'new', 'been', 'has', 'she', 'when', 'time', 'during', 'other', 'would', 'into', 'all', 'more', 'while', 'over', 'i', 'him', 'game', 'only', 'later', 'up', 'most', 'three', 'about', 'out', 'between', 'there', 'than', 'some', 'film', 'may', 'no', 'before', 'made', 'such', 'season', 'second', 'where']\n"
     ]
    }
   ],
   "source": [
    "with open(vocab_path, \"rb\") as f:\n",
    "     vocab = pickle.load(f)\n",
    "        \n",
    "print(len(vocab))\n",
    "print(vocab[:100])"
   ]
  },
  {
   "cell_type": "markdown",
   "metadata": {},
   "source": [
    "### Load the weights"
   ]
  },
  {
   "cell_type": "code",
   "execution_count": 31,
   "metadata": {},
   "outputs": [
    {
     "name": "stdout",
     "output_type": "stream",
     "text": [
      "/home/javi/.fastai/data/wt103-fwd/lstm_fwd.pth\n"
     ]
    }
   ],
   "source": [
    "weights_path = AWDLSTM_PATH.ls()[1]\n",
    "print(weights_path)"
   ]
  },
  {
   "cell_type": "code",
   "execution_count": 36,
   "metadata": {},
   "outputs": [
    {
     "name": "stdout",
     "output_type": "stream",
     "text": [
      "odict_keys(['0.encoder.weight', '0.encoder_dp.emb.weight', '0.rnns.0.weight_hh_l0_raw', '0.rnns.0.module.weight_ih_l0', '0.rnns.0.module.weight_hh_l0', '0.rnns.0.module.bias_ih_l0', '0.rnns.0.module.bias_hh_l0', '0.rnns.1.weight_hh_l0_raw', '0.rnns.1.module.weight_ih_l0', '0.rnns.1.module.weight_hh_l0', '0.rnns.1.module.bias_ih_l0', '0.rnns.1.module.bias_hh_l0', '0.rnns.2.weight_hh_l0_raw', '0.rnns.2.module.weight_ih_l0', '0.rnns.2.module.weight_hh_l0', '0.rnns.2.module.bias_ih_l0', '0.rnns.2.module.bias_hh_l0', '1.decoder.weight', '1.decoder.bias'])\n"
     ]
    }
   ],
   "source": [
    "model_weights = torch.load(weights_path)\n",
    "print(model_weights.keys())"
   ]
  },
  {
   "cell_type": "code",
   "execution_count": 37,
   "metadata": {},
   "outputs": [
    {
     "name": "stdout",
     "output_type": "stream",
     "text": [
      "torch.Size([60000, 400])\n",
      "tensor([[-0.1276,  0.0161,  0.1617,  ..., -0.1396,  0.6899, -0.0399],\n",
      "        [ 0.0272,  0.0011,  0.0401,  ...,  0.0161,  0.0666, -0.0014],\n",
      "        [ 0.6069, -0.5239,  0.1544,  ..., -0.2551, -0.3308, -0.0702],\n",
      "        ...,\n",
      "        [ 0.0096,  0.0814,  0.0213,  ...,  0.0712,  0.0810, -0.0045],\n",
      "        [ 0.0283, -0.0176,  0.0361,  ...,  0.0756,  0.1470, -0.0139],\n",
      "        [ 0.1267, -0.0656,  0.0362,  ..., -0.0191,  0.0673,  0.0154]],\n",
      "       device='cuda:0')\n"
     ]
    }
   ],
   "source": [
    "embedding = model_weights[\"0.encoder.weight\"]\n",
    "print(embedding.shape)\n",
    "print(embedding)"
   ]
  },
  {
   "cell_type": "markdown",
   "metadata": {},
   "source": [
    "# Exercise: Visualize embeddings in 2 dimensions\n",
    "We need to apply a dimensionality reduction method to convert the 400 dimensions of the embedding to 2 dimensions. We can use:\n",
    "- TSNE (in [Sklearn](https://scikit-learn.org/stable/modules/generated/sklearn.manifold.TSNE.html))\n",
    "- UMAP (in [umap-learn](https://umap-learn.readthedocs.io/))\n",
    "\n",
    "> ### Tip 1\n",
    "This methods takes time, if we want to get faster results we can get the first 1000 embedding (or other number) for applying the TSNE or UMAP method."
   ]
  },
  {
   "cell_type": "code",
   "execution_count": 39,
   "metadata": {},
   "outputs": [],
   "source": [
    "N_EMBEDDINGS = 1000\n",
    "embedding_subset = embedding[:N_EMBEDDINGS]\n",
    "vocab_subset     = vocab[:N_EMBEDDINGS]"
   ]
  },
  {
   "cell_type": "markdown",
   "metadata": {},
   "source": [
    "> ### Tip 2\n",
    "> You can use plotly for plotting the 2d scatter of the embeding cloud. See https://plotly.com/python/text-and-annotations/"
   ]
  },
  {
   "cell_type": "code",
   "execution_count": null,
   "metadata": {},
   "outputs": [],
   "source": []
  }
 ],
 "metadata": {
  "kernelspec": {
   "display_name": "Python 3",
   "language": "python",
   "name": "python3"
  },
  "language_info": {
   "codemirror_mode": {
    "name": "ipython",
    "version": 3
   },
   "file_extension": ".py",
   "mimetype": "text/x-python",
   "name": "python",
   "nbconvert_exporter": "python",
   "pygments_lexer": "ipython3",
   "version": "3.9.2"
  }
 },
 "nbformat": 4,
 "nbformat_minor": 4
}
