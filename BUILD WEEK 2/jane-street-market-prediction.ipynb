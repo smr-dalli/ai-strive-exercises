{
 "cells": [
  {
   "cell_type": "code",
   "execution_count": null,
   "metadata": {
    "papermill": {
     "duration": 0.017343,
     "end_time": "2021-02-19T15:56:35.188081",
     "exception": false,
     "start_time": "2021-02-19T15:56:35.170738",
     "status": "completed"
    },
    "tags": []
   },
   "outputs": [],
   "source": []
  },
  {
   "cell_type": "code",
   "execution_count": 1,
   "metadata": {
    "_cell_guid": "b1076dfc-b9ad-4769-8c92-a6c4dae69d19",
    "_uuid": "8f2839f25d086af736a60e9eeb907d3b93b6e0e5",
    "execution": {
     "iopub.execute_input": "2021-02-19T15:56:35.227169Z",
     "iopub.status.busy": "2021-02-19T15:56:35.226442Z",
     "iopub.status.idle": "2021-02-19T15:56:35.237180Z",
     "shell.execute_reply": "2021-02-19T15:56:35.236527Z"
    },
    "papermill": {
     "duration": 0.032671,
     "end_time": "2021-02-19T15:56:35.237388",
     "exception": false,
     "start_time": "2021-02-19T15:56:35.204717",
     "status": "completed"
    },
    "tags": []
   },
   "outputs": [
    {
     "name": "stdout",
     "output_type": "stream",
     "text": [
      "/kaggle/input/jane-street-market-prediction/example_sample_submission.csv\n",
      "/kaggle/input/jane-street-market-prediction/features.csv\n",
      "/kaggle/input/jane-street-market-prediction/example_test.csv\n",
      "/kaggle/input/jane-street-market-prediction/train.csv\n",
      "/kaggle/input/jane-street-market-prediction/janestreet/competition.cpython-37m-x86_64-linux-gnu.so\n",
      "/kaggle/input/jane-street-market-prediction/janestreet/__init__.py\n"
     ]
    }
   ],
   "source": [
    "# This Python 3 environment comes with many helpful analytics libraries installed\n",
    "# It is defined by the kaggle/python Docker image: https://github.com/kaggle/docker-python\n",
    "# For example, here's several helpful packages to load\n",
    "\n",
    "import numpy as np # linear algebra\n",
    "import pandas as pd # data processing, CSV file I/O (e.g. pd.read_csv)\n",
    "\n",
    "# Input data files are available in the read-only \"../input/\" directory\n",
    "# For example, running this (by clicking run or pressing Shift+Enter) will list all files under the input directory\n",
    "\n",
    "import os\n",
    "for dirname, _, filenames in os.walk('/kaggle/input'):\n",
    "    for filename in filenames:\n",
    "        print(os.path.join(dirname, filename))\n",
    "\n",
    "# You can write up to 20GB to the current directory (/kaggle/working/) that gets preserved as output when you create a version using \"Save & Run All\" \n",
    "# You can also write temporary files to /kaggle/temp/, but they won't be saved outside of the current session"
   ]
  },
  {
   "cell_type": "code",
   "execution_count": null,
   "metadata": {
    "papermill": {
     "duration": 0.016465,
     "end_time": "2021-02-19T15:56:35.271325",
     "exception": false,
     "start_time": "2021-02-19T15:56:35.254860",
     "status": "completed"
    },
    "tags": []
   },
   "outputs": [],
   "source": []
  },
  {
   "cell_type": "code",
   "execution_count": 2,
   "metadata": {
    "execution": {
     "iopub.execute_input": "2021-02-19T15:56:35.308713Z",
     "iopub.status.busy": "2021-02-19T15:56:35.308179Z",
     "iopub.status.idle": "2021-02-19T15:56:38.779715Z",
     "shell.execute_reply": "2021-02-19T15:56:38.778797Z"
    },
    "papermill": {
     "duration": 3.491883,
     "end_time": "2021-02-19T15:56:38.779864",
     "exception": false,
     "start_time": "2021-02-19T15:56:35.287981",
     "status": "completed"
    },
    "tags": []
   },
   "outputs": [],
   "source": [
    "import matplotlib.pyplot as plt\n",
    "import seaborn as sns\n",
    "import plotly as pt\n",
    "import plotly.express as px"
   ]
  },
  {
   "cell_type": "code",
   "execution_count": 3,
   "metadata": {
    "execution": {
     "iopub.execute_input": "2021-02-19T15:56:38.821087Z",
     "iopub.status.busy": "2021-02-19T15:56:38.820393Z",
     "iopub.status.idle": "2021-02-19T15:56:38.823897Z",
     "shell.execute_reply": "2021-02-19T15:56:38.823472Z"
    },
    "papermill": {
     "duration": 0.027132,
     "end_time": "2021-02-19T15:56:38.824008",
     "exception": false,
     "start_time": "2021-02-19T15:56:38.796876",
     "status": "completed"
    },
    "tags": []
   },
   "outputs": [],
   "source": [
    "def remove_collinear_features(x, threshold):\n",
    "    '''\n",
    "    Objective:\n",
    "        Remove collinear features in a dataframe with a correlation coefficient\n",
    "        greater than the threshold. Removing collinear features can help a model \n",
    "        to generalize and improves the interpretability of the model.\n",
    "\n",
    "    Inputs: \n",
    "        x: features dataframe\n",
    "        threshold: features with correlations greater than this value are removed\n",
    "\n",
    "    Output: \n",
    "        dataframe that contains only the non-highly-collinear features\n",
    "    '''\n",
    "\n",
    "    # Calculate the correlation matrix\n",
    "    corr_matrix = x.corr()\n",
    "    iters = range(len(corr_matrix.columns) - 1)\n",
    "    drop_cols = []\n",
    "\n",
    "    # Iterate through the correlation matrix and compare correlations\n",
    "    for i in iters:\n",
    "        for j in range(i+1):\n",
    "            item = corr_matrix.iloc[j:(j+1), (i+1):(i+2)]\n",
    "            col = item.columns\n",
    "            row = item.index\n",
    "            val = abs(item.values)\n",
    "\n",
    "            # If correlation exceeds the threshold\n",
    "            if val >= threshold:\n",
    "                # Print the correlated features and the correlation value\n",
    "                #print(col.values[0], \"|\", row.values[0], \"|\", round(val[0][0], 2))\n",
    "                drop_cols.append(col.values[0])\n",
    "\n",
    "    # Drop one of each pair of correlated columns\n",
    "    drops = set(drop_cols)\n",
    "    x = x.drop(columns=drops)\n",
    "    print('Removed Columns {}'.format(drops))\n",
    "    return x\n",
    "\n",
    "\n"
   ]
  },
  {
   "cell_type": "code",
   "execution_count": 4,
   "metadata": {
    "execution": {
     "iopub.execute_input": "2021-02-19T15:56:38.864407Z",
     "iopub.status.busy": "2021-02-19T15:56:38.863905Z",
     "iopub.status.idle": "2021-02-19T15:58:53.812451Z",
     "shell.execute_reply": "2021-02-19T15:58:53.811394Z"
    },
    "papermill": {
     "duration": 134.970746,
     "end_time": "2021-02-19T15:58:53.812644",
     "exception": false,
     "start_time": "2021-02-19T15:56:38.841898",
     "status": "completed"
    },
    "tags": []
   },
   "outputs": [],
   "source": [
    "train = pd.read_csv('/kaggle/input/jane-street-market-prediction/train.csv')"
   ]
  },
  {
   "cell_type": "code",
   "execution_count": 5,
   "metadata": {
    "execution": {
     "iopub.execute_input": "2021-02-19T15:58:53.851978Z",
     "iopub.status.busy": "2021-02-19T15:58:53.851033Z",
     "iopub.status.idle": "2021-02-19T15:58:54.546250Z",
     "shell.execute_reply": "2021-02-19T15:58:54.546674Z"
    },
    "papermill": {
     "duration": 0.716629,
     "end_time": "2021-02-19T15:58:54.546822",
     "exception": false,
     "start_time": "2021-02-19T15:58:53.830193",
     "status": "completed"
    },
    "tags": []
   },
   "outputs": [
    {
     "data": {
      "text/plain": [
       "6762701"
      ]
     },
     "execution_count": 5,
     "metadata": {},
     "output_type": "execute_result"
    }
   ],
   "source": [
    "train.isna().sum().sum()"
   ]
  },
  {
   "cell_type": "code",
   "execution_count": 6,
   "metadata": {
    "execution": {
     "iopub.execute_input": "2021-02-19T15:58:54.586488Z",
     "iopub.status.busy": "2021-02-19T15:58:54.585660Z",
     "iopub.status.idle": "2021-02-19T15:58:56.820980Z",
     "shell.execute_reply": "2021-02-19T15:58:56.820502Z"
    },
    "papermill": {
     "duration": 2.256394,
     "end_time": "2021-02-19T15:58:56.821105",
     "exception": false,
     "start_time": "2021-02-19T15:58:54.564711",
     "status": "completed"
    },
    "tags": []
   },
   "outputs": [
    {
     "data": {
      "text/plain": [
       "0"
      ]
     },
     "execution_count": 6,
     "metadata": {},
     "output_type": "execute_result"
    }
   ],
   "source": [
    "train.dropna(inplace = True)\n",
    "train.isna().sum().sum()"
   ]
  },
  {
   "cell_type": "code",
   "execution_count": 7,
   "metadata": {
    "execution": {
     "iopub.execute_input": "2021-02-19T15:58:57.442800Z",
     "iopub.status.busy": "2021-02-19T15:58:57.442019Z",
     "iopub.status.idle": "2021-02-19T15:58:57.446456Z",
     "shell.execute_reply": "2021-02-19T15:58:57.447212Z"
    },
    "papermill": {
     "duration": 0.608535,
     "end_time": "2021-02-19T15:58:57.447407",
     "exception": false,
     "start_time": "2021-02-19T15:58:56.838872",
     "status": "completed"
    },
    "tags": []
   },
   "outputs": [],
   "source": [
    "feats = train[[str(col) for col in train.columns if 'feature' in col]]"
   ]
  },
  {
   "cell_type": "code",
   "execution_count": 8,
   "metadata": {
    "execution": {
     "iopub.execute_input": "2021-02-19T15:58:57.512531Z",
     "iopub.status.busy": "2021-02-19T15:58:57.511498Z",
     "iopub.status.idle": "2021-02-19T16:00:11.086582Z",
     "shell.execute_reply": "2021-02-19T16:00:11.086119Z"
    },
    "papermill": {
     "duration": 73.610717,
     "end_time": "2021-02-19T16:00:11.086718",
     "exception": false,
     "start_time": "2021-02-19T15:58:57.476001",
     "status": "completed"
    },
    "tags": []
   },
   "outputs": [
    {
     "name": "stdout",
     "output_type": "stream",
     "text": [
      "Removed Columns {'feature_68', 'feature_126', 'feature_35', 'feature_38', 'feature_100', 'feature_128', 'feature_66', 'feature_28', 'feature_125', 'feature_113', 'feature_40', 'feature_110', 'feature_107', 'feature_61', 'feature_23', 'feature_122', 'feature_108', 'feature_69', 'feature_36', 'feature_88', 'feature_26', 'feature_57', 'feature_119', 'feature_4', 'feature_25', 'feature_76', 'feature_6', 'feature_114', 'feature_58', 'feature_127', 'feature_101', 'feature_129', 'feature_33', 'feature_124', 'feature_24', 'feature_63', 'feature_116', 'feature_32', 'feature_18'}\n"
     ]
    }
   ],
   "source": [
    "X = pd.concat([remove_collinear_features(feats, 0.9), train['weight'], train['ts_id']], axis = 1)\n",
    "\n",
    "y = pd.Series([1 if x > 0 else 0 for x in train['resp']])"
   ]
  },
  {
   "cell_type": "code",
   "execution_count": 9,
   "metadata": {
    "execution": {
     "iopub.execute_input": "2021-02-19T16:00:11.130206Z",
     "iopub.status.busy": "2021-02-19T16:00:11.129604Z",
     "iopub.status.idle": "2021-02-19T16:00:11.132851Z",
     "shell.execute_reply": "2021-02-19T16:00:11.133237Z"
    },
    "papermill": {
     "duration": 0.02809,
     "end_time": "2021-02-19T16:00:11.133353",
     "exception": false,
     "start_time": "2021-02-19T16:00:11.105263",
     "status": "completed"
    },
    "tags": []
   },
   "outputs": [
    {
     "data": {
      "text/plain": [
       "Index(['feature_0', 'feature_1', 'feature_2', 'feature_3', 'feature_5',\n",
       "       'feature_7', 'feature_8', 'feature_9', 'feature_10', 'feature_11',\n",
       "       'feature_12', 'feature_13', 'feature_14', 'feature_15', 'feature_16',\n",
       "       'feature_17', 'feature_19', 'feature_20', 'feature_21', 'feature_22',\n",
       "       'feature_27', 'feature_29', 'feature_30', 'feature_31', 'feature_34',\n",
       "       'feature_37', 'feature_39', 'feature_41', 'feature_42', 'feature_43',\n",
       "       'feature_44', 'feature_45', 'feature_46', 'feature_47', 'feature_48',\n",
       "       'feature_49', 'feature_50', 'feature_51', 'feature_52', 'feature_53',\n",
       "       'feature_54', 'feature_55', 'feature_56', 'feature_59', 'feature_60',\n",
       "       'feature_62', 'feature_64', 'feature_65', 'feature_67', 'feature_70',\n",
       "       'feature_71', 'feature_72', 'feature_73', 'feature_74', 'feature_75',\n",
       "       'feature_77', 'feature_78', 'feature_79', 'feature_80', 'feature_81',\n",
       "       'feature_82', 'feature_83', 'feature_84', 'feature_85', 'feature_86',\n",
       "       'feature_87', 'feature_89', 'feature_90', 'feature_91', 'feature_92',\n",
       "       'feature_93', 'feature_94', 'feature_95', 'feature_96', 'feature_97',\n",
       "       'feature_98', 'feature_99', 'feature_102', 'feature_103', 'feature_104',\n",
       "       'feature_105', 'feature_106', 'feature_109', 'feature_111',\n",
       "       'feature_112', 'feature_115', 'feature_117', 'feature_118',\n",
       "       'feature_120', 'feature_121', 'feature_123', 'weight', 'ts_id'],\n",
       "      dtype='object')"
      ]
     },
     "execution_count": 9,
     "metadata": {},
     "output_type": "execute_result"
    }
   ],
   "source": [
    "X.columns"
   ]
  },
  {
   "cell_type": "code",
   "execution_count": 10,
   "metadata": {
    "execution": {
     "iopub.execute_input": "2021-02-19T16:00:11.180228Z",
     "iopub.status.busy": "2021-02-19T16:00:11.179057Z",
     "iopub.status.idle": "2021-02-19T16:00:11.181633Z",
     "shell.execute_reply": "2021-02-19T16:00:11.182048Z"
    },
    "papermill": {
     "duration": 0.030105,
     "end_time": "2021-02-19T16:00:11.182166",
     "exception": false,
     "start_time": "2021-02-19T16:00:11.152061",
     "status": "completed"
    },
    "tags": []
   },
   "outputs": [],
   "source": [
    "del train"
   ]
  },
  {
   "cell_type": "code",
   "execution_count": 11,
   "metadata": {
    "execution": {
     "iopub.execute_input": "2021-02-19T16:00:11.225253Z",
     "iopub.status.busy": "2021-02-19T16:00:11.224376Z",
     "iopub.status.idle": "2021-02-19T16:00:13.659860Z",
     "shell.execute_reply": "2021-02-19T16:00:13.659389Z"
    },
    "papermill": {
     "duration": 2.458878,
     "end_time": "2021-02-19T16:00:13.659988",
     "exception": false,
     "start_time": "2021-02-19T16:00:11.201110",
     "status": "completed"
    },
    "tags": []
   },
   "outputs": [],
   "source": [
    "##train_test_split\n",
    "from sklearn.model_selection import train_test_split\n",
    "X_train,X_test,y_train,y_test = train_test_split(X,y,test_size = 0.2,random_state = 42)\n",
    "#X_train,X_val,y_train,y_val = train_test_split(X_train,y_train,test_size = 0.1,random_state = 42)"
   ]
  },
  {
   "cell_type": "code",
   "execution_count": 12,
   "metadata": {
    "execution": {
     "iopub.execute_input": "2021-02-19T16:00:13.705221Z",
     "iopub.status.busy": "2021-02-19T16:00:13.704100Z",
     "iopub.status.idle": "2021-02-19T16:00:17.808689Z",
     "shell.execute_reply": "2021-02-19T16:00:17.808208Z"
    },
    "papermill": {
     "duration": 4.129889,
     "end_time": "2021-02-19T16:00:17.808817",
     "exception": false,
     "start_time": "2021-02-19T16:00:13.678928",
     "status": "completed"
    },
    "tags": []
   },
   "outputs": [],
   "source": [
    "from sklearn.preprocessing import StandardScaler\n",
    "scale = StandardScaler()\n",
    "X_train = scale.fit_transform(X_train)\n",
    "X_test = scale.transform(X_test)\n"
   ]
  },
  {
   "cell_type": "code",
   "execution_count": 13,
   "metadata": {
    "execution": {
     "iopub.execute_input": "2021-02-19T16:00:17.851401Z",
     "iopub.status.busy": "2021-02-19T16:00:17.850867Z",
     "iopub.status.idle": "2021-02-19T21:38:31.598754Z",
     "shell.execute_reply": "2021-02-19T21:38:31.599204Z"
    },
    "papermill": {
     "duration": 20293.771201,
     "end_time": "2021-02-19T21:38:31.599377",
     "exception": false,
     "start_time": "2021-02-19T16:00:17.828176",
     "status": "completed"
    },
    "tags": []
   },
   "outputs": [
    {
     "name": "stdout",
     "output_type": "stream",
     "text": [
      "[16:00:22] WARNING: ../src/learner.cc:541: \n",
      "Parameters: { tree_model } might not be used.\n",
      "\n",
      "  This may not be accurate due to some parameters are only used in language bindings but\n",
      "  passed down to XGBoost core.  Or some parameters are not used but slip through this\n",
      "  verification. Please open an issue if you find above cases.\n",
      "\n",
      "\n",
      "[16:02:38] WARNING: ../src/learner.cc:1061: Starting in XGBoost 1.3.0, the default evaluation metric used with the objective 'binary:logistic' was changed from 'error' to 'logloss'. Explicitly set eval_metric if you'd like to restore the old behavior.\n"
     ]
    },
    {
     "data": {
      "text/plain": [
       "XGBClassifier(base_score=0.5, booster='gbtree', colsample_bylevel=1,\n",
       "              colsample_bynode=1, colsample_bytree=1, gamma=0, gpu_id=-1,\n",
       "              importance_type='gain', interaction_constraints='',\n",
       "              learning_rate=0.1, max_delta_step=0, max_depth=20,\n",
       "              min_child_weight=1, missing=nan, monotone_constraints='()',\n",
       "              n_estimators=200, n_jobs=2, num_parallel_tree=1, random_state=0,\n",
       "              reg_alpha=0, reg_lambda=1, scale_pos_weight=1, subsample=1,\n",
       "              tree_method='exact', tree_model='gpu_hist',\n",
       "              use_label_encoder=False, validate_parameters=1, verbosity=None)"
      ]
     },
     "execution_count": 13,
     "metadata": {},
     "output_type": "execute_result"
    }
   ],
   "source": [
    "import xgboost\n",
    "from xgboost import XGBClassifier,XGBRegressor\n",
    "model = XGBClassifier(booster='gbtree', n_estimators=200, learning_rate=0.1, max_depth=20, use_label_encoder=False, tree_model='gpu_hist')\n",
    "model.fit(X_train,y_train)\n"
   ]
  },
  {
   "cell_type": "code",
   "execution_count": 14,
   "metadata": {
    "execution": {
     "iopub.execute_input": "2021-02-19T21:38:31.645215Z",
     "iopub.status.busy": "2021-02-19T21:38:31.644550Z",
     "iopub.status.idle": "2021-02-19T21:38:52.670408Z",
     "shell.execute_reply": "2021-02-19T21:38:52.669465Z"
    },
    "papermill": {
     "duration": 21.049799,
     "end_time": "2021-02-19T21:38:52.670564",
     "exception": false,
     "start_time": "2021-02-19T21:38:31.620765",
     "status": "completed"
    },
    "tags": []
   },
   "outputs": [
    {
     "data": {
      "text/plain": [
       "0.7007763215651847"
      ]
     },
     "execution_count": 14,
     "metadata": {},
     "output_type": "execute_result"
    }
   ],
   "source": [
    "yprd = model.predict(X_test)\n",
    "model.score(X_test,y_test)"
   ]
  },
  {
   "cell_type": "code",
   "execution_count": 15,
   "metadata": {
    "execution": {
     "iopub.execute_input": "2021-02-19T21:38:52.715940Z",
     "iopub.status.busy": "2021-02-19T21:38:52.715234Z",
     "iopub.status.idle": "2021-02-19T21:38:58.359963Z",
     "shell.execute_reply": "2021-02-19T21:38:58.358926Z"
    },
    "papermill": {
     "duration": 5.668894,
     "end_time": "2021-02-19T21:38:58.360117",
     "exception": false,
     "start_time": "2021-02-19T21:38:52.691223",
     "status": "completed"
    },
    "tags": []
   },
   "outputs": [],
   "source": [
    "model.save_model('./best.json')"
   ]
  },
  {
   "cell_type": "code",
   "execution_count": 16,
   "metadata": {
    "execution": {
     "iopub.execute_input": "2021-02-19T21:38:58.411552Z",
     "iopub.status.busy": "2021-02-19T21:38:58.411013Z",
     "iopub.status.idle": "2021-02-19T21:38:59.391740Z",
     "shell.execute_reply": "2021-02-19T21:38:59.390703Z"
    },
    "papermill": {
     "duration": 1.009588,
     "end_time": "2021-02-19T21:38:59.391884",
     "exception": false,
     "start_time": "2021-02-19T21:38:58.382296",
     "status": "completed"
    },
    "tags": []
   },
   "outputs": [],
   "source": [
    "test = pd.read_csv('../input/jane-street-market-prediction/example_test.csv')\n",
    "\n"
   ]
  },
  {
   "cell_type": "code",
   "execution_count": 17,
   "metadata": {
    "execution": {
     "iopub.execute_input": "2021-02-19T21:38:59.443954Z",
     "iopub.status.busy": "2021-02-19T21:38:59.442196Z",
     "iopub.status.idle": "2021-02-19T21:38:59.444537Z",
     "shell.execute_reply": "2021-02-19T21:38:59.444926Z"
    },
    "papermill": {
     "duration": 0.03223,
     "end_time": "2021-02-19T21:38:59.445066",
     "exception": false,
     "start_time": "2021-02-19T21:38:59.412836",
     "status": "completed"
    },
    "tags": []
   },
   "outputs": [],
   "source": [
    "test.drop('date', axis = 'columns',inplace = True)"
   ]
  },
  {
   "cell_type": "code",
   "execution_count": 18,
   "metadata": {
    "execution": {
     "iopub.execute_input": "2021-02-19T21:38:59.502838Z",
     "iopub.status.busy": "2021-02-19T21:38:59.501502Z",
     "iopub.status.idle": "2021-02-19T21:38:59.504003Z",
     "shell.execute_reply": "2021-02-19T21:38:59.504414Z"
    },
    "papermill": {
     "duration": 0.038278,
     "end_time": "2021-02-19T21:38:59.504559",
     "exception": false,
     "start_time": "2021-02-19T21:38:59.466281",
     "status": "completed"
    },
    "tags": []
   },
   "outputs": [],
   "source": [
    "feats = test[[str(col) for col in test.columns if 'feature' in col]]"
   ]
  },
  {
   "cell_type": "code",
   "execution_count": 19,
   "metadata": {
    "execution": {
     "iopub.execute_input": "2021-02-19T21:38:59.552568Z",
     "iopub.status.busy": "2021-02-19T21:38:59.551098Z",
     "iopub.status.idle": "2021-02-19T21:39:00.655118Z",
     "shell.execute_reply": "2021-02-19T21:39:00.655579Z"
    },
    "papermill": {
     "duration": 1.130289,
     "end_time": "2021-02-19T21:39:00.655724",
     "exception": false,
     "start_time": "2021-02-19T21:38:59.525435",
     "status": "completed"
    },
    "tags": []
   },
   "outputs": [
    {
     "name": "stdout",
     "output_type": "stream",
     "text": [
      "Removed Columns {'feature_68', 'feature_126', 'feature_35', 'feature_34', 'feature_38', 'feature_128', 'feature_66', 'feature_28', 'feature_125', 'feature_10', 'feature_113', 'feature_71', 'feature_40', 'feature_107', 'feature_61', 'feature_23', 'feature_122', 'feature_108', 'feature_69', 'feature_36', 'feature_2', 'feature_16', 'feature_26', 'feature_57', 'feature_119', 'feature_4', 'feature_25', 'feature_49', 'feature_6', 'feature_14', 'feature_22', 'feature_20', 'feature_12', 'feature_8', 'feature_58', 'feature_114', 'feature_101', 'feature_30', 'feature_127', 'feature_129', 'feature_33', 'feature_124', 'feature_24', 'feature_63', 'feature_116', 'feature_32', 'feature_31', 'feature_18'}\n"
     ]
    }
   ],
   "source": [
    "X = pd.concat([remove_collinear_features(feats, 0.9), test['weight'], test['ts_id']], axis = 1)\n"
   ]
  },
  {
   "cell_type": "code",
   "execution_count": 20,
   "metadata": {
    "execution": {
     "iopub.execute_input": "2021-02-19T21:39:00.708425Z",
     "iopub.status.busy": "2021-02-19T21:39:00.706577Z",
     "iopub.status.idle": "2021-02-19T21:39:00.709096Z",
     "shell.execute_reply": "2021-02-19T21:39:00.709498Z"
    },
    "papermill": {
     "duration": 0.03218,
     "end_time": "2021-02-19T21:39:00.709636",
     "exception": false,
     "start_time": "2021-02-19T21:39:00.677456",
     "status": "completed"
    },
    "tags": []
   },
   "outputs": [],
   "source": [
    "testx = test.drop(columns=['feature_127', 'feature_26', 'feature_23', 'feature_35', 'feature_100', 'feature_32', 'feature_101', 'feature_125', 'feature_40', 'feature_88', 'feature_119', 'feature_129', 'feature_33', 'feature_124', 'feature_36', 'feature_76', 'feature_24', 'feature_116', 'feature_58', 'feature_68', 'feature_113', 'feature_6', 'feature_110', 'feature_128', 'feature_69', 'feature_122', 'feature_107', 'feature_126', 'feature_28', 'feature_57', 'feature_108', 'feature_25', 'feature_66', 'feature_38', 'feature_114', 'feature_18', 'feature_61', 'feature_63', 'feature_4'])"
   ]
  },
  {
   "cell_type": "code",
   "execution_count": 21,
   "metadata": {
    "execution": {
     "iopub.execute_input": "2021-02-19T21:39:00.759151Z",
     "iopub.status.busy": "2021-02-19T21:39:00.758385Z",
     "iopub.status.idle": "2021-02-19T21:39:00.788858Z",
     "shell.execute_reply": "2021-02-19T21:39:00.789329Z"
    },
    "papermill": {
     "duration": 0.058481,
     "end_time": "2021-02-19T21:39:00.789448",
     "exception": false,
     "start_time": "2021-02-19T21:39:00.730967",
     "status": "completed"
    },
    "tags": []
   },
   "outputs": [
    {
     "data": {
      "text/html": [
       "<div>\n",
       "<style scoped>\n",
       "    .dataframe tbody tr th:only-of-type {\n",
       "        vertical-align: middle;\n",
       "    }\n",
       "\n",
       "    .dataframe tbody tr th {\n",
       "        vertical-align: top;\n",
       "    }\n",
       "\n",
       "    .dataframe thead th {\n",
       "        text-align: right;\n",
       "    }\n",
       "</style>\n",
       "<table border=\"1\" class=\"dataframe\">\n",
       "  <thead>\n",
       "    <tr style=\"text-align: right;\">\n",
       "      <th></th>\n",
       "      <th>weight</th>\n",
       "      <th>feature_0</th>\n",
       "      <th>feature_1</th>\n",
       "      <th>feature_2</th>\n",
       "      <th>feature_3</th>\n",
       "      <th>feature_5</th>\n",
       "      <th>feature_7</th>\n",
       "      <th>feature_8</th>\n",
       "      <th>feature_9</th>\n",
       "      <th>feature_10</th>\n",
       "      <th>...</th>\n",
       "      <th>feature_109</th>\n",
       "      <th>feature_111</th>\n",
       "      <th>feature_112</th>\n",
       "      <th>feature_115</th>\n",
       "      <th>feature_117</th>\n",
       "      <th>feature_118</th>\n",
       "      <th>feature_120</th>\n",
       "      <th>feature_121</th>\n",
       "      <th>feature_123</th>\n",
       "      <th>ts_id</th>\n",
       "    </tr>\n",
       "  </thead>\n",
       "  <tbody>\n",
       "    <tr>\n",
       "      <th>0</th>\n",
       "      <td>0.000000</td>\n",
       "      <td>1</td>\n",
       "      <td>-1.872746</td>\n",
       "      <td>-2.191242</td>\n",
       "      <td>-0.474163</td>\n",
       "      <td>0.014688</td>\n",
       "      <td>NaN</td>\n",
       "      <td>NaN</td>\n",
       "      <td>-0.989982</td>\n",
       "      <td>-1.055090</td>\n",
       "      <td>...</td>\n",
       "      <td>-0.892724</td>\n",
       "      <td>-0.156332</td>\n",
       "      <td>0.622816</td>\n",
       "      <td>2.561593</td>\n",
       "      <td>3.457757</td>\n",
       "      <td>6.649580</td>\n",
       "      <td>NaN</td>\n",
       "      <td>NaN</td>\n",
       "      <td>8.313583</td>\n",
       "      <td>0</td>\n",
       "    </tr>\n",
       "    <tr>\n",
       "      <th>1</th>\n",
       "      <td>16.673515</td>\n",
       "      <td>-1</td>\n",
       "      <td>-1.349537</td>\n",
       "      <td>-1.704709</td>\n",
       "      <td>0.068058</td>\n",
       "      <td>0.193794</td>\n",
       "      <td>NaN</td>\n",
       "      <td>NaN</td>\n",
       "      <td>-0.151877</td>\n",
       "      <td>-0.384952</td>\n",
       "      <td>...</td>\n",
       "      <td>-1.332492</td>\n",
       "      <td>-0.586619</td>\n",
       "      <td>-1.040491</td>\n",
       "      <td>0.983440</td>\n",
       "      <td>1.357907</td>\n",
       "      <td>1.612348</td>\n",
       "      <td>NaN</td>\n",
       "      <td>NaN</td>\n",
       "      <td>1.777472</td>\n",
       "      <td>1</td>\n",
       "    </tr>\n",
       "    <tr>\n",
       "      <th>2</th>\n",
       "      <td>0.000000</td>\n",
       "      <td>-1</td>\n",
       "      <td>0.812780</td>\n",
       "      <td>-0.256156</td>\n",
       "      <td>0.806463</td>\n",
       "      <td>-0.614188</td>\n",
       "      <td>NaN</td>\n",
       "      <td>NaN</td>\n",
       "      <td>5.448261</td>\n",
       "      <td>2.668029</td>\n",
       "      <td>...</td>\n",
       "      <td>1.193823</td>\n",
       "      <td>0.097345</td>\n",
       "      <td>0.796214</td>\n",
       "      <td>2.548596</td>\n",
       "      <td>0.882588</td>\n",
       "      <td>1.817895</td>\n",
       "      <td>NaN</td>\n",
       "      <td>NaN</td>\n",
       "      <td>9.667908</td>\n",
       "      <td>2</td>\n",
       "    </tr>\n",
       "    <tr>\n",
       "      <th>3</th>\n",
       "      <td>0.000000</td>\n",
       "      <td>-1</td>\n",
       "      <td>1.174378</td>\n",
       "      <td>0.344640</td>\n",
       "      <td>0.066872</td>\n",
       "      <td>-1.006373</td>\n",
       "      <td>NaN</td>\n",
       "      <td>NaN</td>\n",
       "      <td>4.508206</td>\n",
       "      <td>2.484260</td>\n",
       "      <td>...</td>\n",
       "      <td>2.513074</td>\n",
       "      <td>0.424964</td>\n",
       "      <td>1.992887</td>\n",
       "      <td>0.561528</td>\n",
       "      <td>-0.994041</td>\n",
       "      <td>0.099560</td>\n",
       "      <td>NaN</td>\n",
       "      <td>NaN</td>\n",
       "      <td>0.499251</td>\n",
       "      <td>3</td>\n",
       "    </tr>\n",
       "    <tr>\n",
       "      <th>4</th>\n",
       "      <td>0.138531</td>\n",
       "      <td>1</td>\n",
       "      <td>-3.172026</td>\n",
       "      <td>-3.093182</td>\n",
       "      <td>-0.161518</td>\n",
       "      <td>-0.195006</td>\n",
       "      <td>NaN</td>\n",
       "      <td>NaN</td>\n",
       "      <td>2.683018</td>\n",
       "      <td>1.450991</td>\n",
       "      <td>...</td>\n",
       "      <td>-0.934675</td>\n",
       "      <td>-0.373013</td>\n",
       "      <td>-1.213540</td>\n",
       "      <td>2.684119</td>\n",
       "      <td>2.861848</td>\n",
       "      <td>2.134804</td>\n",
       "      <td>NaN</td>\n",
       "      <td>NaN</td>\n",
       "      <td>4.101145</td>\n",
       "      <td>4</td>\n",
       "    </tr>\n",
       "    <tr>\n",
       "      <th>...</th>\n",
       "      <td>...</td>\n",
       "      <td>...</td>\n",
       "      <td>...</td>\n",
       "      <td>...</td>\n",
       "      <td>...</td>\n",
       "      <td>...</td>\n",
       "      <td>...</td>\n",
       "      <td>...</td>\n",
       "      <td>...</td>\n",
       "      <td>...</td>\n",
       "      <td>...</td>\n",
       "      <td>...</td>\n",
       "      <td>...</td>\n",
       "      <td>...</td>\n",
       "      <td>...</td>\n",
       "      <td>...</td>\n",
       "      <td>...</td>\n",
       "      <td>...</td>\n",
       "      <td>...</td>\n",
       "      <td>...</td>\n",
       "      <td>...</td>\n",
       "    </tr>\n",
       "    <tr>\n",
       "      <th>15214</th>\n",
       "      <td>0.000000</td>\n",
       "      <td>1</td>\n",
       "      <td>-1.213240</td>\n",
       "      <td>-1.557117</td>\n",
       "      <td>0.530793</td>\n",
       "      <td>0.316811</td>\n",
       "      <td>0.741902</td>\n",
       "      <td>0.680989</td>\n",
       "      <td>0.501501</td>\n",
       "      <td>0.135505</td>\n",
       "      <td>...</td>\n",
       "      <td>1.641019</td>\n",
       "      <td>0.768819</td>\n",
       "      <td>1.917005</td>\n",
       "      <td>2.445685</td>\n",
       "      <td>1.666364</td>\n",
       "      <td>2.567707</td>\n",
       "      <td>0.169029</td>\n",
       "      <td>0.200094</td>\n",
       "      <td>2.551488</td>\n",
       "      <td>15214</td>\n",
       "    </tr>\n",
       "    <tr>\n",
       "      <th>15215</th>\n",
       "      <td>0.000000</td>\n",
       "      <td>1</td>\n",
       "      <td>-0.413328</td>\n",
       "      <td>-0.642504</td>\n",
       "      <td>0.429951</td>\n",
       "      <td>-0.728263</td>\n",
       "      <td>0.204294</td>\n",
       "      <td>0.138052</td>\n",
       "      <td>5.595514</td>\n",
       "      <td>4.562532</td>\n",
       "      <td>...</td>\n",
       "      <td>0.668457</td>\n",
       "      <td>0.570189</td>\n",
       "      <td>1.162564</td>\n",
       "      <td>5.046764</td>\n",
       "      <td>4.722535</td>\n",
       "      <td>5.901139</td>\n",
       "      <td>-0.551901</td>\n",
       "      <td>2.070960</td>\n",
       "      <td>22.159397</td>\n",
       "      <td>15215</td>\n",
       "    </tr>\n",
       "    <tr>\n",
       "      <th>15216</th>\n",
       "      <td>0.000000</td>\n",
       "      <td>1</td>\n",
       "      <td>-1.378947</td>\n",
       "      <td>-1.702976</td>\n",
       "      <td>0.548763</td>\n",
       "      <td>0.328203</td>\n",
       "      <td>0.784458</td>\n",
       "      <td>0.730435</td>\n",
       "      <td>0.816203</td>\n",
       "      <td>0.372920</td>\n",
       "      <td>...</td>\n",
       "      <td>2.225468</td>\n",
       "      <td>0.938165</td>\n",
       "      <td>2.364939</td>\n",
       "      <td>3.210722</td>\n",
       "      <td>1.956503</td>\n",
       "      <td>3.108164</td>\n",
       "      <td>0.169612</td>\n",
       "      <td>0.200728</td>\n",
       "      <td>2.685696</td>\n",
       "      <td>15216</td>\n",
       "    </tr>\n",
       "    <tr>\n",
       "      <th>15217</th>\n",
       "      <td>0.000000</td>\n",
       "      <td>1</td>\n",
       "      <td>-0.324708</td>\n",
       "      <td>-1.089962</td>\n",
       "      <td>-0.873900</td>\n",
       "      <td>-1.265208</td>\n",
       "      <td>2.302628</td>\n",
       "      <td>1.978776</td>\n",
       "      <td>5.817695</td>\n",
       "      <td>3.277066</td>\n",
       "      <td>...</td>\n",
       "      <td>0.635171</td>\n",
       "      <td>2.047227</td>\n",
       "      <td>1.136469</td>\n",
       "      <td>5.237434</td>\n",
       "      <td>11.283541</td>\n",
       "      <td>6.153315</td>\n",
       "      <td>-0.395420</td>\n",
       "      <td>0.300244</td>\n",
       "      <td>11.789678</td>\n",
       "      <td>15217</td>\n",
       "    </tr>\n",
       "    <tr>\n",
       "      <th>15218</th>\n",
       "      <td>0.000000</td>\n",
       "      <td>1</td>\n",
       "      <td>-1.652183</td>\n",
       "      <td>-1.857245</td>\n",
       "      <td>0.451629</td>\n",
       "      <td>-0.716532</td>\n",
       "      <td>0.268371</td>\n",
       "      <td>0.208574</td>\n",
       "      <td>5.806581</td>\n",
       "      <td>4.752806</td>\n",
       "      <td>...</td>\n",
       "      <td>0.698287</td>\n",
       "      <td>0.583433</td>\n",
       "      <td>1.014636</td>\n",
       "      <td>5.128528</td>\n",
       "      <td>4.771167</td>\n",
       "      <td>5.506925</td>\n",
       "      <td>-0.550845</td>\n",
       "      <td>2.073743</td>\n",
       "      <td>22.254007</td>\n",
       "      <td>15218</td>\n",
       "    </tr>\n",
       "  </tbody>\n",
       "</table>\n",
       "<p>15219 rows × 93 columns</p>\n",
       "</div>"
      ],
      "text/plain": [
       "          weight  feature_0  feature_1  feature_2  feature_3  feature_5  \\\n",
       "0       0.000000          1  -1.872746  -2.191242  -0.474163   0.014688   \n",
       "1      16.673515         -1  -1.349537  -1.704709   0.068058   0.193794   \n",
       "2       0.000000         -1   0.812780  -0.256156   0.806463  -0.614188   \n",
       "3       0.000000         -1   1.174378   0.344640   0.066872  -1.006373   \n",
       "4       0.138531          1  -3.172026  -3.093182  -0.161518  -0.195006   \n",
       "...          ...        ...        ...        ...        ...        ...   \n",
       "15214   0.000000          1  -1.213240  -1.557117   0.530793   0.316811   \n",
       "15215   0.000000          1  -0.413328  -0.642504   0.429951  -0.728263   \n",
       "15216   0.000000          1  -1.378947  -1.702976   0.548763   0.328203   \n",
       "15217   0.000000          1  -0.324708  -1.089962  -0.873900  -1.265208   \n",
       "15218   0.000000          1  -1.652183  -1.857245   0.451629  -0.716532   \n",
       "\n",
       "       feature_7  feature_8  feature_9  feature_10  ...  feature_109  \\\n",
       "0            NaN        NaN  -0.989982   -1.055090  ...    -0.892724   \n",
       "1            NaN        NaN  -0.151877   -0.384952  ...    -1.332492   \n",
       "2            NaN        NaN   5.448261    2.668029  ...     1.193823   \n",
       "3            NaN        NaN   4.508206    2.484260  ...     2.513074   \n",
       "4            NaN        NaN   2.683018    1.450991  ...    -0.934675   \n",
       "...          ...        ...        ...         ...  ...          ...   \n",
       "15214   0.741902   0.680989   0.501501    0.135505  ...     1.641019   \n",
       "15215   0.204294   0.138052   5.595514    4.562532  ...     0.668457   \n",
       "15216   0.784458   0.730435   0.816203    0.372920  ...     2.225468   \n",
       "15217   2.302628   1.978776   5.817695    3.277066  ...     0.635171   \n",
       "15218   0.268371   0.208574   5.806581    4.752806  ...     0.698287   \n",
       "\n",
       "       feature_111  feature_112  feature_115  feature_117  feature_118  \\\n",
       "0        -0.156332     0.622816     2.561593     3.457757     6.649580   \n",
       "1        -0.586619    -1.040491     0.983440     1.357907     1.612348   \n",
       "2         0.097345     0.796214     2.548596     0.882588     1.817895   \n",
       "3         0.424964     1.992887     0.561528    -0.994041     0.099560   \n",
       "4        -0.373013    -1.213540     2.684119     2.861848     2.134804   \n",
       "...            ...          ...          ...          ...          ...   \n",
       "15214     0.768819     1.917005     2.445685     1.666364     2.567707   \n",
       "15215     0.570189     1.162564     5.046764     4.722535     5.901139   \n",
       "15216     0.938165     2.364939     3.210722     1.956503     3.108164   \n",
       "15217     2.047227     1.136469     5.237434    11.283541     6.153315   \n",
       "15218     0.583433     1.014636     5.128528     4.771167     5.506925   \n",
       "\n",
       "       feature_120  feature_121  feature_123  ts_id  \n",
       "0              NaN          NaN     8.313583      0  \n",
       "1              NaN          NaN     1.777472      1  \n",
       "2              NaN          NaN     9.667908      2  \n",
       "3              NaN          NaN     0.499251      3  \n",
       "4              NaN          NaN     4.101145      4  \n",
       "...            ...          ...          ...    ...  \n",
       "15214     0.169029     0.200094     2.551488  15214  \n",
       "15215    -0.551901     2.070960    22.159397  15215  \n",
       "15216     0.169612     0.200728     2.685696  15216  \n",
       "15217    -0.395420     0.300244    11.789678  15217  \n",
       "15218    -0.550845     2.073743    22.254007  15218  \n",
       "\n",
       "[15219 rows x 93 columns]"
      ]
     },
     "execution_count": 21,
     "metadata": {},
     "output_type": "execute_result"
    }
   ],
   "source": [
    "testx"
   ]
  },
  {
   "cell_type": "code",
   "execution_count": 22,
   "metadata": {
    "execution": {
     "iopub.execute_input": "2021-02-19T21:39:00.840362Z",
     "iopub.status.busy": "2021-02-19T21:39:00.839813Z",
     "iopub.status.idle": "2021-02-19T21:39:00.843021Z",
     "shell.execute_reply": "2021-02-19T21:39:00.843401Z"
    },
    "papermill": {
     "duration": 0.031326,
     "end_time": "2021-02-19T21:39:00.843528",
     "exception": false,
     "start_time": "2021-02-19T21:39:00.812202",
     "status": "completed"
    },
    "tags": []
   },
   "outputs": [
    {
     "data": {
      "text/plain": [
       "Index(['weight', 'feature_0', 'feature_1', 'feature_2', 'feature_3',\n",
       "       'feature_5', 'feature_7', 'feature_8', 'feature_9', 'feature_10',\n",
       "       'feature_11', 'feature_12', 'feature_13', 'feature_14', 'feature_15',\n",
       "       'feature_16', 'feature_17', 'feature_19', 'feature_20', 'feature_21',\n",
       "       'feature_22', 'feature_27', 'feature_29', 'feature_30', 'feature_31',\n",
       "       'feature_34', 'feature_37', 'feature_39', 'feature_41', 'feature_42',\n",
       "       'feature_43', 'feature_44', 'feature_45', 'feature_46', 'feature_47',\n",
       "       'feature_48', 'feature_49', 'feature_50', 'feature_51', 'feature_52',\n",
       "       'feature_53', 'feature_54', 'feature_55', 'feature_56', 'feature_59',\n",
       "       'feature_60', 'feature_62', 'feature_64', 'feature_65', 'feature_67',\n",
       "       'feature_70', 'feature_71', 'feature_72', 'feature_73', 'feature_74',\n",
       "       'feature_75', 'feature_77', 'feature_78', 'feature_79', 'feature_80',\n",
       "       'feature_81', 'feature_82', 'feature_83', 'feature_84', 'feature_85',\n",
       "       'feature_86', 'feature_87', 'feature_89', 'feature_90', 'feature_91',\n",
       "       'feature_92', 'feature_93', 'feature_94', 'feature_95', 'feature_96',\n",
       "       'feature_97', 'feature_98', 'feature_99', 'feature_102', 'feature_103',\n",
       "       'feature_104', 'feature_105', 'feature_106', 'feature_109',\n",
       "       'feature_111', 'feature_112', 'feature_115', 'feature_117',\n",
       "       'feature_118', 'feature_120', 'feature_121', 'feature_123', 'ts_id'],\n",
       "      dtype='object')"
      ]
     },
     "execution_count": 22,
     "metadata": {},
     "output_type": "execute_result"
    }
   ],
   "source": [
    "testx.columns"
   ]
  },
  {
   "cell_type": "code",
   "execution_count": 23,
   "metadata": {
    "execution": {
     "iopub.execute_input": "2021-02-19T21:39:00.895941Z",
     "iopub.status.busy": "2021-02-19T21:39:00.895101Z",
     "iopub.status.idle": "2021-02-19T21:39:01.067466Z",
     "shell.execute_reply": "2021-02-19T21:39:01.067043Z"
    },
    "papermill": {
     "duration": 0.201626,
     "end_time": "2021-02-19T21:39:01.067616",
     "exception": false,
     "start_time": "2021-02-19T21:39:00.865990",
     "status": "completed"
    },
    "tags": []
   },
   "outputs": [
    {
     "ename": "ValueError",
     "evalue": "feature_names mismatch: ['f0', 'f1', 'f2', 'f3', 'f4', 'f5', 'f6', 'f7', 'f8', 'f9', 'f10', 'f11', 'f12', 'f13', 'f14', 'f15', 'f16', 'f17', 'f18', 'f19', 'f20', 'f21', 'f22', 'f23', 'f24', 'f25', 'f26', 'f27', 'f28', 'f29', 'f30', 'f31', 'f32', 'f33', 'f34', 'f35', 'f36', 'f37', 'f38', 'f39', 'f40', 'f41', 'f42', 'f43', 'f44', 'f45', 'f46', 'f47', 'f48', 'f49', 'f50', 'f51', 'f52', 'f53', 'f54', 'f55', 'f56', 'f57', 'f58', 'f59', 'f60', 'f61', 'f62', 'f63', 'f64', 'f65', 'f66', 'f67', 'f68', 'f69', 'f70', 'f71', 'f72', 'f73', 'f74', 'f75', 'f76', 'f77', 'f78', 'f79', 'f80', 'f81', 'f82', 'f83', 'f84', 'f85', 'f86', 'f87', 'f88', 'f89', 'f90', 'f91', 'f92'] ['weight', 'feature_0', 'feature_1', 'feature_2', 'feature_3', 'feature_5', 'feature_7', 'feature_8', 'feature_9', 'feature_10', 'feature_11', 'feature_12', 'feature_13', 'feature_14', 'feature_15', 'feature_16', 'feature_17', 'feature_19', 'feature_20', 'feature_21', 'feature_22', 'feature_27', 'feature_29', 'feature_30', 'feature_31', 'feature_34', 'feature_37', 'feature_39', 'feature_41', 'feature_42', 'feature_43', 'feature_44', 'feature_45', 'feature_46', 'feature_47', 'feature_48', 'feature_49', 'feature_50', 'feature_51', 'feature_52', 'feature_53', 'feature_54', 'feature_55', 'feature_56', 'feature_59', 'feature_60', 'feature_62', 'feature_64', 'feature_65', 'feature_67', 'feature_70', 'feature_71', 'feature_72', 'feature_73', 'feature_74', 'feature_75', 'feature_77', 'feature_78', 'feature_79', 'feature_80', 'feature_81', 'feature_82', 'feature_83', 'feature_84', 'feature_85', 'feature_86', 'feature_87', 'feature_89', 'feature_90', 'feature_91', 'feature_92', 'feature_93', 'feature_94', 'feature_95', 'feature_96', 'feature_97', 'feature_98', 'feature_99', 'feature_102', 'feature_103', 'feature_104', 'feature_105', 'feature_106', 'feature_109', 'feature_111', 'feature_112', 'feature_115', 'feature_117', 'feature_118', 'feature_120', 'feature_121', 'feature_123', 'ts_id']\nexpected f87, f90, f55, f17, f70, f77, f30, f75, f27, f89, f25, f60, f7, f67, f1, f69, f46, f16, f85, f8, f54, f68, f19, f71, f74, f65, f9, f41, f84, f3, f56, f32, f34, f24, f81, f2, f76, f18, f37, f28, f47, f66, f13, f5, f44, f20, f26, f88, f43, f86, f78, f36, f10, f35, f14, f21, f0, f49, f23, f83, f4, f42, f91, f50, f73, f58, f33, f64, f12, f29, f79, f80, f52, f62, f51, f22, f72, f48, f82, f53, f40, f61, f63, f45, f92, f15, f11, f39, f6, f31, f38, f57, f59 in input data\ntraining data did not have the following fields: feature_65, feature_103, feature_34, feature_0, feature_5, feature_53, feature_45, feature_3, feature_27, feature_77, feature_123, feature_39, feature_95, ts_id, feature_46, feature_51, feature_79, feature_64, feature_47, feature_93, feature_22, feature_20, feature_48, feature_50, feature_19, feature_109, feature_10, weight, feature_75, feature_70, feature_106, feature_83, feature_60, feature_117, feature_9, feature_13, feature_112, feature_62, feature_94, feature_14, feature_7, feature_118, feature_41, feature_67, feature_121, feature_55, feature_87, feature_78, feature_31, feature_92, feature_54, feature_98, feature_71, feature_1, feature_102, feature_37, feature_52, feature_91, feature_97, feature_2, feature_16, feature_115, feature_90, feature_89, feature_85, feature_72, feature_111, feature_84, feature_96, feature_86, feature_73, feature_80, feature_81, feature_105, feature_99, feature_21, feature_74, feature_43, feature_120, feature_104, feature_56, feature_49, feature_82, feature_59, feature_11, feature_44, feature_12, feature_8, feature_30, feature_29, feature_17, feature_15, feature_42",
     "output_type": "error",
     "traceback": [
      "\u001b[0;31m---------------------------------------------------------------------------\u001b[0m",
      "\u001b[0;31mValueError\u001b[0m                                Traceback (most recent call last)",
      "\u001b[0;32m<ipython-input-23-bf79df4e85f6>\u001b[0m in \u001b[0;36m<module>\u001b[0;34m\u001b[0m\n\u001b[0;32m----> 1\u001b[0;31m \u001b[0mypred\u001b[0m \u001b[0;34m=\u001b[0m \u001b[0mmodel\u001b[0m\u001b[0;34m.\u001b[0m\u001b[0mpredict\u001b[0m\u001b[0;34m(\u001b[0m\u001b[0mtestx\u001b[0m\u001b[0;34m)\u001b[0m\u001b[0;34m\u001b[0m\u001b[0;34m\u001b[0m\u001b[0m\n\u001b[0m",
      "\u001b[0;32m/opt/conda/lib/python3.7/site-packages/xgboost/sklearn.py\u001b[0m in \u001b[0;36mpredict\u001b[0;34m(self, data, output_margin, ntree_limit, validate_features, base_margin)\u001b[0m\n\u001b[1;32m    972\u001b[0m             \u001b[0moutput_margin\u001b[0m\u001b[0;34m=\u001b[0m\u001b[0moutput_margin\u001b[0m\u001b[0;34m,\u001b[0m\u001b[0;34m\u001b[0m\u001b[0;34m\u001b[0m\u001b[0m\n\u001b[1;32m    973\u001b[0m             \u001b[0mntree_limit\u001b[0m\u001b[0;34m=\u001b[0m\u001b[0mntree_limit\u001b[0m\u001b[0;34m,\u001b[0m\u001b[0;34m\u001b[0m\u001b[0;34m\u001b[0m\u001b[0m\n\u001b[0;32m--> 974\u001b[0;31m             validate_features=validate_features)\n\u001b[0m\u001b[1;32m    975\u001b[0m         \u001b[0;32mif\u001b[0m \u001b[0moutput_margin\u001b[0m\u001b[0;34m:\u001b[0m\u001b[0;34m\u001b[0m\u001b[0;34m\u001b[0m\u001b[0m\n\u001b[1;32m    976\u001b[0m             \u001b[0;31m# If output_margin is active, simply return the scores\u001b[0m\u001b[0;34m\u001b[0m\u001b[0;34m\u001b[0m\u001b[0;34m\u001b[0m\u001b[0m\n",
      "\u001b[0;32m/opt/conda/lib/python3.7/site-packages/xgboost/core.py\u001b[0m in \u001b[0;36mpredict\u001b[0;34m(self, data, output_margin, ntree_limit, pred_leaf, pred_contribs, approx_contribs, pred_interactions, validate_features, training)\u001b[0m\n\u001b[1;32m   1483\u001b[0m \u001b[0;34m\u001b[0m\u001b[0m\n\u001b[1;32m   1484\u001b[0m         \u001b[0;32mif\u001b[0m \u001b[0mvalidate_features\u001b[0m\u001b[0;34m:\u001b[0m\u001b[0;34m\u001b[0m\u001b[0;34m\u001b[0m\u001b[0m\n\u001b[0;32m-> 1485\u001b[0;31m             \u001b[0mself\u001b[0m\u001b[0;34m.\u001b[0m\u001b[0m_validate_features\u001b[0m\u001b[0;34m(\u001b[0m\u001b[0mdata\u001b[0m\u001b[0;34m)\u001b[0m\u001b[0;34m\u001b[0m\u001b[0;34m\u001b[0m\u001b[0m\n\u001b[0m\u001b[1;32m   1486\u001b[0m \u001b[0;34m\u001b[0m\u001b[0m\n\u001b[1;32m   1487\u001b[0m         \u001b[0mlength\u001b[0m \u001b[0;34m=\u001b[0m \u001b[0mc_bst_ulong\u001b[0m\u001b[0;34m(\u001b[0m\u001b[0;34m)\u001b[0m\u001b[0;34m\u001b[0m\u001b[0;34m\u001b[0m\u001b[0m\n",
      "\u001b[0;32m/opt/conda/lib/python3.7/site-packages/xgboost/core.py\u001b[0m in \u001b[0;36m_validate_features\u001b[0;34m(self, data)\u001b[0m\n\u001b[1;32m   2059\u001b[0m \u001b[0;34m\u001b[0m\u001b[0m\n\u001b[1;32m   2060\u001b[0m                 raise ValueError(msg.format(self.feature_names,\n\u001b[0;32m-> 2061\u001b[0;31m                                             data.feature_names))\n\u001b[0m\u001b[1;32m   2062\u001b[0m \u001b[0;34m\u001b[0m\u001b[0m\n\u001b[1;32m   2063\u001b[0m     def get_split_value_histogram(self, feature, fmap='', bins=None,\n",
      "\u001b[0;31mValueError\u001b[0m: feature_names mismatch: ['f0', 'f1', 'f2', 'f3', 'f4', 'f5', 'f6', 'f7', 'f8', 'f9', 'f10', 'f11', 'f12', 'f13', 'f14', 'f15', 'f16', 'f17', 'f18', 'f19', 'f20', 'f21', 'f22', 'f23', 'f24', 'f25', 'f26', 'f27', 'f28', 'f29', 'f30', 'f31', 'f32', 'f33', 'f34', 'f35', 'f36', 'f37', 'f38', 'f39', 'f40', 'f41', 'f42', 'f43', 'f44', 'f45', 'f46', 'f47', 'f48', 'f49', 'f50', 'f51', 'f52', 'f53', 'f54', 'f55', 'f56', 'f57', 'f58', 'f59', 'f60', 'f61', 'f62', 'f63', 'f64', 'f65', 'f66', 'f67', 'f68', 'f69', 'f70', 'f71', 'f72', 'f73', 'f74', 'f75', 'f76', 'f77', 'f78', 'f79', 'f80', 'f81', 'f82', 'f83', 'f84', 'f85', 'f86', 'f87', 'f88', 'f89', 'f90', 'f91', 'f92'] ['weight', 'feature_0', 'feature_1', 'feature_2', 'feature_3', 'feature_5', 'feature_7', 'feature_8', 'feature_9', 'feature_10', 'feature_11', 'feature_12', 'feature_13', 'feature_14', 'feature_15', 'feature_16', 'feature_17', 'feature_19', 'feature_20', 'feature_21', 'feature_22', 'feature_27', 'feature_29', 'feature_30', 'feature_31', 'feature_34', 'feature_37', 'feature_39', 'feature_41', 'feature_42', 'feature_43', 'feature_44', 'feature_45', 'feature_46', 'feature_47', 'feature_48', 'feature_49', 'feature_50', 'feature_51', 'feature_52', 'feature_53', 'feature_54', 'feature_55', 'feature_56', 'feature_59', 'feature_60', 'feature_62', 'feature_64', 'feature_65', 'feature_67', 'feature_70', 'feature_71', 'feature_72', 'feature_73', 'feature_74', 'feature_75', 'feature_77', 'feature_78', 'feature_79', 'feature_80', 'feature_81', 'feature_82', 'feature_83', 'feature_84', 'feature_85', 'feature_86', 'feature_87', 'feature_89', 'feature_90', 'feature_91', 'feature_92', 'feature_93', 'feature_94', 'feature_95', 'feature_96', 'feature_97', 'feature_98', 'feature_99', 'feature_102', 'feature_103', 'feature_104', 'feature_105', 'feature_106', 'feature_109', 'feature_111', 'feature_112', 'feature_115', 'feature_117', 'feature_118', 'feature_120', 'feature_121', 'feature_123', 'ts_id']\nexpected f87, f90, f55, f17, f70, f77, f30, f75, f27, f89, f25, f60, f7, f67, f1, f69, f46, f16, f85, f8, f54, f68, f19, f71, f74, f65, f9, f41, f84, f3, f56, f32, f34, f24, f81, f2, f76, f18, f37, f28, f47, f66, f13, f5, f44, f20, f26, f88, f43, f86, f78, f36, f10, f35, f14, f21, f0, f49, f23, f83, f4, f42, f91, f50, f73, f58, f33, f64, f12, f29, f79, f80, f52, f62, f51, f22, f72, f48, f82, f53, f40, f61, f63, f45, f92, f15, f11, f39, f6, f31, f38, f57, f59 in input data\ntraining data did not have the following fields: feature_65, feature_103, feature_34, feature_0, feature_5, feature_53, feature_45, feature_3, feature_27, feature_77, feature_123, feature_39, feature_95, ts_id, feature_46, feature_51, feature_79, feature_64, feature_47, feature_93, feature_22, feature_20, feature_48, feature_50, feature_19, feature_109, feature_10, weight, feature_75, feature_70, feature_106, feature_83, feature_60, feature_117, feature_9, feature_13, feature_112, feature_62, feature_94, feature_14, feature_7, feature_118, feature_41, feature_67, feature_121, feature_55, feature_87, feature_78, feature_31, feature_92, feature_54, feature_98, feature_71, feature_1, feature_102, feature_37, feature_52, feature_91, feature_97, feature_2, feature_16, feature_115, feature_90, feature_89, feature_85, feature_72, feature_111, feature_84, feature_96, feature_86, feature_73, feature_80, feature_81, feature_105, feature_99, feature_21, feature_74, feature_43, feature_120, feature_104, feature_56, feature_49, feature_82, feature_59, feature_11, feature_44, feature_12, feature_8, feature_30, feature_29, feature_17, feature_15, feature_42"
     ]
    }
   ],
   "source": [
    "ypred = model.predict(testx)"
   ]
  },
  {
   "cell_type": "code",
   "execution_count": 24,
   "metadata": {
    "execution": {
     "iopub.execute_input": "2021-02-19T21:39:01.128191Z",
     "iopub.status.busy": "2021-02-19T21:39:01.127558Z",
     "iopub.status.idle": "2021-02-19T21:39:01.143370Z",
     "shell.execute_reply": "2021-02-19T21:39:01.142968Z"
    },
    "papermill": {
     "duration": 0.051937,
     "end_time": "2021-02-19T21:39:01.143477",
     "exception": false,
     "start_time": "2021-02-19T21:39:01.091540",
     "status": "completed"
    },
    "tags": []
   },
   "outputs": [
    {
     "ename": "ValueError",
     "evalue": "Length of values (398675) does not match length of index (15219)",
     "output_type": "error",
     "traceback": [
      "\u001b[0;31m---------------------------------------------------------------------------\u001b[0m",
      "\u001b[0;31mValueError\u001b[0m                                Traceback (most recent call last)",
      "\u001b[0;32m<ipython-input-24-132bc169d0fc>\u001b[0m in \u001b[0;36m<module>\u001b[0;34m\u001b[0m\n\u001b[1;32m      3\u001b[0m \u001b[0;34m\u001b[0m\u001b[0m\n\u001b[1;32m      4\u001b[0m \u001b[0msub\u001b[0m \u001b[0;34m=\u001b[0m \u001b[0mtest\u001b[0m\u001b[0;34m[\u001b[0m\u001b[0;34m[\u001b[0m\u001b[0;34m'ts_id'\u001b[0m\u001b[0;34m]\u001b[0m\u001b[0;34m]\u001b[0m\u001b[0;34m\u001b[0m\u001b[0;34m\u001b[0m\u001b[0m\n\u001b[0;32m----> 5\u001b[0;31m \u001b[0msub\u001b[0m\u001b[0;34m[\u001b[0m\u001b[0;34m'action'\u001b[0m\u001b[0;34m]\u001b[0m \u001b[0;34m=\u001b[0m \u001b[0myprd\u001b[0m\u001b[0;34m\u001b[0m\u001b[0;34m\u001b[0m\u001b[0m\n\u001b[0m\u001b[1;32m      6\u001b[0m \u001b[0msub\u001b[0m\u001b[0;34m.\u001b[0m\u001b[0mto_csv\u001b[0m\u001b[0;34m(\u001b[0m\u001b[0;34m'xgb_trialsubmission'\u001b[0m\u001b[0;34m,\u001b[0m \u001b[0mindex\u001b[0m \u001b[0;34m=\u001b[0m \u001b[0;32mFalse\u001b[0m\u001b[0;34m)\u001b[0m\u001b[0;34m\u001b[0m\u001b[0;34m\u001b[0m\u001b[0m\n",
      "\u001b[0;32m/opt/conda/lib/python3.7/site-packages/pandas/core/frame.py\u001b[0m in \u001b[0;36m__setitem__\u001b[0;34m(self, key, value)\u001b[0m\n\u001b[1;32m   3042\u001b[0m         \u001b[0;32melse\u001b[0m\u001b[0;34m:\u001b[0m\u001b[0;34m\u001b[0m\u001b[0;34m\u001b[0m\u001b[0m\n\u001b[1;32m   3043\u001b[0m             \u001b[0;31m# set column\u001b[0m\u001b[0;34m\u001b[0m\u001b[0;34m\u001b[0m\u001b[0;34m\u001b[0m\u001b[0m\n\u001b[0;32m-> 3044\u001b[0;31m             \u001b[0mself\u001b[0m\u001b[0;34m.\u001b[0m\u001b[0m_set_item\u001b[0m\u001b[0;34m(\u001b[0m\u001b[0mkey\u001b[0m\u001b[0;34m,\u001b[0m \u001b[0mvalue\u001b[0m\u001b[0;34m)\u001b[0m\u001b[0;34m\u001b[0m\u001b[0;34m\u001b[0m\u001b[0m\n\u001b[0m\u001b[1;32m   3045\u001b[0m \u001b[0;34m\u001b[0m\u001b[0m\n\u001b[1;32m   3046\u001b[0m     \u001b[0;32mdef\u001b[0m \u001b[0m_setitem_slice\u001b[0m\u001b[0;34m(\u001b[0m\u001b[0mself\u001b[0m\u001b[0;34m,\u001b[0m \u001b[0mkey\u001b[0m\u001b[0;34m:\u001b[0m \u001b[0mslice\u001b[0m\u001b[0;34m,\u001b[0m \u001b[0mvalue\u001b[0m\u001b[0;34m)\u001b[0m\u001b[0;34m:\u001b[0m\u001b[0;34m\u001b[0m\u001b[0;34m\u001b[0m\u001b[0m\n",
      "\u001b[0;32m/opt/conda/lib/python3.7/site-packages/pandas/core/frame.py\u001b[0m in \u001b[0;36m_set_item\u001b[0;34m(self, key, value)\u001b[0m\n\u001b[1;32m   3118\u001b[0m         \"\"\"\n\u001b[1;32m   3119\u001b[0m         \u001b[0mself\u001b[0m\u001b[0;34m.\u001b[0m\u001b[0m_ensure_valid_index\u001b[0m\u001b[0;34m(\u001b[0m\u001b[0mvalue\u001b[0m\u001b[0;34m)\u001b[0m\u001b[0;34m\u001b[0m\u001b[0;34m\u001b[0m\u001b[0m\n\u001b[0;32m-> 3120\u001b[0;31m         \u001b[0mvalue\u001b[0m \u001b[0;34m=\u001b[0m \u001b[0mself\u001b[0m\u001b[0;34m.\u001b[0m\u001b[0m_sanitize_column\u001b[0m\u001b[0;34m(\u001b[0m\u001b[0mkey\u001b[0m\u001b[0;34m,\u001b[0m \u001b[0mvalue\u001b[0m\u001b[0;34m)\u001b[0m\u001b[0;34m\u001b[0m\u001b[0;34m\u001b[0m\u001b[0m\n\u001b[0m\u001b[1;32m   3121\u001b[0m         \u001b[0mNDFrame\u001b[0m\u001b[0;34m.\u001b[0m\u001b[0m_set_item\u001b[0m\u001b[0;34m(\u001b[0m\u001b[0mself\u001b[0m\u001b[0;34m,\u001b[0m \u001b[0mkey\u001b[0m\u001b[0;34m,\u001b[0m \u001b[0mvalue\u001b[0m\u001b[0;34m)\u001b[0m\u001b[0;34m\u001b[0m\u001b[0;34m\u001b[0m\u001b[0m\n\u001b[1;32m   3122\u001b[0m \u001b[0;34m\u001b[0m\u001b[0m\n",
      "\u001b[0;32m/opt/conda/lib/python3.7/site-packages/pandas/core/frame.py\u001b[0m in \u001b[0;36m_sanitize_column\u001b[0;34m(self, key, value, broadcast)\u001b[0m\n\u001b[1;32m   3766\u001b[0m \u001b[0;34m\u001b[0m\u001b[0m\n\u001b[1;32m   3767\u001b[0m             \u001b[0;31m# turn me into an ndarray\u001b[0m\u001b[0;34m\u001b[0m\u001b[0;34m\u001b[0m\u001b[0;34m\u001b[0m\u001b[0m\n\u001b[0;32m-> 3768\u001b[0;31m             \u001b[0mvalue\u001b[0m \u001b[0;34m=\u001b[0m \u001b[0msanitize_index\u001b[0m\u001b[0;34m(\u001b[0m\u001b[0mvalue\u001b[0m\u001b[0;34m,\u001b[0m \u001b[0mself\u001b[0m\u001b[0;34m.\u001b[0m\u001b[0mindex\u001b[0m\u001b[0;34m)\u001b[0m\u001b[0;34m\u001b[0m\u001b[0;34m\u001b[0m\u001b[0m\n\u001b[0m\u001b[1;32m   3769\u001b[0m             \u001b[0;32mif\u001b[0m \u001b[0;32mnot\u001b[0m \u001b[0misinstance\u001b[0m\u001b[0;34m(\u001b[0m\u001b[0mvalue\u001b[0m\u001b[0;34m,\u001b[0m \u001b[0;34m(\u001b[0m\u001b[0mnp\u001b[0m\u001b[0;34m.\u001b[0m\u001b[0mndarray\u001b[0m\u001b[0;34m,\u001b[0m \u001b[0mIndex\u001b[0m\u001b[0;34m)\u001b[0m\u001b[0;34m)\u001b[0m\u001b[0;34m:\u001b[0m\u001b[0;34m\u001b[0m\u001b[0;34m\u001b[0m\u001b[0m\n\u001b[1;32m   3770\u001b[0m                 \u001b[0;32mif\u001b[0m \u001b[0misinstance\u001b[0m\u001b[0;34m(\u001b[0m\u001b[0mvalue\u001b[0m\u001b[0;34m,\u001b[0m \u001b[0mlist\u001b[0m\u001b[0;34m)\u001b[0m \u001b[0;32mand\u001b[0m \u001b[0mlen\u001b[0m\u001b[0;34m(\u001b[0m\u001b[0mvalue\u001b[0m\u001b[0;34m)\u001b[0m \u001b[0;34m>\u001b[0m \u001b[0;36m0\u001b[0m\u001b[0;34m:\u001b[0m\u001b[0;34m\u001b[0m\u001b[0;34m\u001b[0m\u001b[0m\n",
      "\u001b[0;32m/opt/conda/lib/python3.7/site-packages/pandas/core/internals/construction.py\u001b[0m in \u001b[0;36msanitize_index\u001b[0;34m(data, index)\u001b[0m\n\u001b[1;32m    746\u001b[0m     \u001b[0;32mif\u001b[0m \u001b[0mlen\u001b[0m\u001b[0;34m(\u001b[0m\u001b[0mdata\u001b[0m\u001b[0;34m)\u001b[0m \u001b[0;34m!=\u001b[0m \u001b[0mlen\u001b[0m\u001b[0;34m(\u001b[0m\u001b[0mindex\u001b[0m\u001b[0;34m)\u001b[0m\u001b[0;34m:\u001b[0m\u001b[0;34m\u001b[0m\u001b[0;34m\u001b[0m\u001b[0m\n\u001b[1;32m    747\u001b[0m         raise ValueError(\n\u001b[0;32m--> 748\u001b[0;31m             \u001b[0;34m\"Length of values \"\u001b[0m\u001b[0;34m\u001b[0m\u001b[0;34m\u001b[0m\u001b[0m\n\u001b[0m\u001b[1;32m    749\u001b[0m             \u001b[0;34mf\"({len(data)}) \"\u001b[0m\u001b[0;34m\u001b[0m\u001b[0;34m\u001b[0m\u001b[0m\n\u001b[1;32m    750\u001b[0m             \u001b[0;34m\"does not match length of index \"\u001b[0m\u001b[0;34m\u001b[0m\u001b[0;34m\u001b[0m\u001b[0m\n",
      "\u001b[0;31mValueError\u001b[0m: Length of values (398675) does not match length of index (15219)"
     ]
    }
   ],
   "source": [
    "y_test = y[:len(test)]\n",
    "y_test\n",
    "\n",
    "sub = test[['ts_id']]\n",
    "sub['action'] = yprd\n",
    "sub.to_csv('xgb_trialsubmission', index = False)"
   ]
  },
  {
   "cell_type": "code",
   "execution_count": 25,
   "metadata": {
    "execution": {
     "iopub.execute_input": "2021-02-19T21:39:01.205006Z",
     "iopub.status.busy": "2021-02-19T21:39:01.204339Z",
     "iopub.status.idle": "2021-02-19T21:39:01.207534Z",
     "shell.execute_reply": "2021-02-19T21:39:01.207960Z"
    },
    "papermill": {
     "duration": 0.04115,
     "end_time": "2021-02-19T21:39:01.208075",
     "exception": false,
     "start_time": "2021-02-19T21:39:01.166925",
     "status": "completed"
    },
    "tags": []
   },
   "outputs": [
    {
     "ename": "FileNotFoundError",
     "evalue": "[Errno 2] No such file or directory: '/kaggle/input/cat-model/cat_model.sav'",
     "output_type": "error",
     "traceback": [
      "\u001b[0;31m---------------------------------------------------------------------------\u001b[0m",
      "\u001b[0;31mFileNotFoundError\u001b[0m                         Traceback (most recent call last)",
      "\u001b[0;32m<ipython-input-25-0bbf2d34b37d>\u001b[0m in \u001b[0;36m<module>\u001b[0;34m\u001b[0m\n\u001b[1;32m      2\u001b[0m \u001b[0;31m#load our saved model\u001b[0m\u001b[0;34m\u001b[0m\u001b[0;34m\u001b[0m\u001b[0;34m\u001b[0m\u001b[0m\n\u001b[1;32m      3\u001b[0m \u001b[0mPkl_Filename\u001b[0m \u001b[0;34m=\u001b[0m \u001b[0;34m\"/kaggle/input/cat-model/cat_model.sav\"\u001b[0m\u001b[0;34m\u001b[0m\u001b[0;34m\u001b[0m\u001b[0m\n\u001b[0;32m----> 4\u001b[0;31m \u001b[0;32mwith\u001b[0m \u001b[0mopen\u001b[0m\u001b[0;34m(\u001b[0m\u001b[0mPkl_Filename\u001b[0m\u001b[0;34m,\u001b[0m \u001b[0;34m'rb'\u001b[0m\u001b[0;34m)\u001b[0m \u001b[0;32mas\u001b[0m \u001b[0mfile\u001b[0m\u001b[0;34m:\u001b[0m\u001b[0;34m\u001b[0m\u001b[0;34m\u001b[0m\u001b[0m\n\u001b[0m\u001b[1;32m      5\u001b[0m     \u001b[0mmodel\u001b[0m \u001b[0;34m=\u001b[0m \u001b[0mpickle\u001b[0m\u001b[0;34m.\u001b[0m\u001b[0mload\u001b[0m\u001b[0;34m(\u001b[0m\u001b[0mfile\u001b[0m\u001b[0;34m)\u001b[0m\u001b[0;34m\u001b[0m\u001b[0;34m\u001b[0m\u001b[0m\n\u001b[1;32m      6\u001b[0m \u001b[0;34m\u001b[0m\u001b[0m\n",
      "\u001b[0;31mFileNotFoundError\u001b[0m: [Errno 2] No such file or directory: '/kaggle/input/cat-model/cat_model.sav'"
     ]
    }
   ],
   "source": [
    "import pickle\n",
    "#load our saved model \n",
    "Pkl_Filename = \"/kaggle/input/cat-model/cat_model.sav\" \n",
    "with open(Pkl_Filename, 'rb') as file:  \n",
    "    model = pickle.load(file)\n",
    "\n",
    "model\n",
    "\n",
    "import janestreet\n",
    "env = janestreet.make_env() # initialize the environment\n",
    "iter_test = env.iter_test() # an iterator which loops over the test set\n",
    "\n",
    "for (test_df, sample_prediction_df) in iter_test:\n",
    "    sample_prediction_df.action = model.predict(test_df) #make your 0/1 prediction here\n",
    "    env.predict(sample_prediction_df) "
   ]
  },
  {
   "cell_type": "code",
   "execution_count": 26,
   "metadata": {
    "execution": {
     "iopub.execute_input": "2021-02-19T21:39:01.259352Z",
     "iopub.status.busy": "2021-02-19T21:39:01.258858Z",
     "iopub.status.idle": "2021-02-19T21:39:01.262784Z",
     "shell.execute_reply": "2021-02-19T21:39:01.262342Z"
    },
    "papermill": {
     "duration": 0.030739,
     "end_time": "2021-02-19T21:39:01.262889",
     "exception": false,
     "start_time": "2021-02-19T21:39:01.232150",
     "status": "completed"
    },
    "tags": []
   },
   "outputs": [],
   "source": [
    "# from sklearn.neighbors import KNeighborsClassifier\n",
    "# from sklearn.model_selection import GridSearchCV\n",
    "# model = KNeighborsClassifier()\n",
    "# grid_params = {'n_neighbors':[5],\n",
    "#               'weights':['uniform'],\n",
    "#               'metric':['euclidean']}"
   ]
  },
  {
   "cell_type": "code",
   "execution_count": 27,
   "metadata": {
    "execution": {
     "iopub.execute_input": "2021-02-19T21:39:01.313926Z",
     "iopub.status.busy": "2021-02-19T21:39:01.313274Z",
     "iopub.status.idle": "2021-02-19T21:39:01.317284Z",
     "shell.execute_reply": "2021-02-19T21:39:01.316777Z"
    },
    "papermill": {
     "duration": 0.030611,
     "end_time": "2021-02-19T21:39:01.317382",
     "exception": false,
     "start_time": "2021-02-19T21:39:01.286771",
     "status": "completed"
    },
    "tags": []
   },
   "outputs": [],
   "source": [
    "# gs = GridSearchCV(model,grid_params)\n",
    "# gs_results = gs.fit(X_train,y_train)\n",
    "#gs_results.best_score_"
   ]
  },
  {
   "cell_type": "code",
   "execution_count": 28,
   "metadata": {
    "execution": {
     "iopub.execute_input": "2021-02-19T21:39:01.369165Z",
     "iopub.status.busy": "2021-02-19T21:39:01.368679Z",
     "iopub.status.idle": "2021-02-19T21:39:01.372578Z",
     "shell.execute_reply": "2021-02-19T21:39:01.372143Z"
    },
    "papermill": {
     "duration": 0.031017,
     "end_time": "2021-02-19T21:39:01.372677",
     "exception": false,
     "start_time": "2021-02-19T21:39:01.341660",
     "status": "completed"
    },
    "tags": []
   },
   "outputs": [],
   "source": [
    "# from sklearn.linear_model import LogisticRegression\n",
    "# model = LogisticRegression()\n",
    "# model.fit(X_train,y_train)"
   ]
  },
  {
   "cell_type": "code",
   "execution_count": 29,
   "metadata": {
    "execution": {
     "iopub.execute_input": "2021-02-19T21:39:01.424453Z",
     "iopub.status.busy": "2021-02-19T21:39:01.423973Z",
     "iopub.status.idle": "2021-02-19T21:39:01.427817Z",
     "shell.execute_reply": "2021-02-19T21:39:01.427372Z"
    },
    "papermill": {
     "duration": 0.030868,
     "end_time": "2021-02-19T21:39:01.427917",
     "exception": false,
     "start_time": "2021-02-19T21:39:01.397049",
     "status": "completed"
    },
    "tags": []
   },
   "outputs": [],
   "source": [
    "# from sklearn.ensemble import RandomForestClassifier\n",
    "# model = RandomForestClassifier()\n",
    "# model.fit(X_train,y_train)"
   ]
  },
  {
   "cell_type": "code",
   "execution_count": 30,
   "metadata": {
    "execution": {
     "iopub.execute_input": "2021-02-19T21:39:01.481810Z",
     "iopub.status.busy": "2021-02-19T21:39:01.480114Z",
     "iopub.status.idle": "2021-02-19T21:39:01.482405Z",
     "shell.execute_reply": "2021-02-19T21:39:01.482840Z"
    },
    "papermill": {
     "duration": 0.030656,
     "end_time": "2021-02-19T21:39:01.482956",
     "exception": false,
     "start_time": "2021-02-19T21:39:01.452300",
     "status": "completed"
    },
    "tags": []
   },
   "outputs": [],
   "source": [
    "# import xgboost\n",
    "# from xgboost import XGBClassifier,XGBRegressor\n",
    "# model = XGBClassifier()\n",
    "# yprd = model.predict(X_test)\n",
    "# model.score(X_test,y_test)"
   ]
  },
  {
   "cell_type": "code",
   "execution_count": 31,
   "metadata": {
    "execution": {
     "iopub.execute_input": "2021-02-19T21:39:01.538704Z",
     "iopub.status.busy": "2021-02-19T21:39:01.536987Z",
     "iopub.status.idle": "2021-02-19T21:39:01.539265Z",
     "shell.execute_reply": "2021-02-19T21:39:01.539666Z"
    },
    "papermill": {
     "duration": 0.032291,
     "end_time": "2021-02-19T21:39:01.539779",
     "exception": false,
     "start_time": "2021-02-19T21:39:01.507488",
     "status": "completed"
    },
    "tags": []
   },
   "outputs": [],
   "source": [
    "# from sklearn.discriminant_analysis import LinearDiscriminantAnalysis\n",
    "# lda = LinearDiscriminantAnalysis(n_components = 5)\n",
    "# X = lda.fit_transform(X_train,y_train)\n",
    "# X_test = lda.transform(X_test)\n",
    "#yprd = model.predict(X_test)\n"
   ]
  },
  {
   "cell_type": "code",
   "execution_count": null,
   "metadata": {
    "papermill": {
     "duration": 0.0245,
     "end_time": "2021-02-19T21:39:01.588833",
     "exception": false,
     "start_time": "2021-02-19T21:39:01.564333",
     "status": "completed"
    },
    "tags": []
   },
   "outputs": [],
   "source": []
  }
 ],
 "metadata": {
  "kernelspec": {
   "display_name": "Python 3",
   "language": "python",
   "name": "python3"
  },
  "language_info": {
   "codemirror_mode": {
    "name": "ipython",
    "version": 3
   },
   "file_extension": ".py",
   "mimetype": "text/x-python",
   "name": "python",
   "nbconvert_exporter": "python",
   "pygments_lexer": "ipython3",
   "version": "3.7.9"
  },
  "papermill": {
   "default_parameters": {},
   "duration": 20552.687042,
   "end_time": "2021-02-19T21:39:02.823317",
   "environment_variables": {},
   "exception": null,
   "input_path": "__notebook__.ipynb",
   "output_path": "__notebook__.ipynb",
   "parameters": {},
   "start_time": "2021-02-19T15:56:30.136275",
   "version": "2.2.2"
  }
 },
 "nbformat": 4,
 "nbformat_minor": 4
}
