{
 "cells": [
  {
   "cell_type": "markdown",
   "metadata": {},
   "source": [
    "# OpenCV Callbacks"
   ]
  },
  {
   "cell_type": "code",
   "execution_count": 2,
   "metadata": {
    "ExecuteTime": {
     "end_time": "2019-11-19T09:54:11.762369Z",
     "start_time": "2019-11-19T09:54:09.945225Z"
    }
   },
   "outputs": [],
   "source": [
    "import cv2 as cv\n",
    "import numpy as np\n",
    "import matplotlib.pyplot as plt\n",
    "%matplotlib inline"
   ]
  },
  {
   "cell_type": "markdown",
   "metadata": {},
   "source": [
    "## Keyboard callbacks"
   ]
  },
  {
   "cell_type": "code",
   "execution_count": 2,
   "metadata": {
    "ExecuteTime": {
     "end_time": "2019-11-19T11:10:33.575331Z",
     "start_time": "2019-11-19T11:10:32.647518Z"
    }
   },
   "outputs": [],
   "source": [
    "# Load an image and show it on screen with cv2.imshow\n",
    "# When the key g or G is detected then change the image to show in grayscale\n",
    "# When the key c or C is detected then change the image to show in color\n",
    "# When the key t or T is detected then change the image to show the thresholded version of the image\n",
    "# When the key esc is detected close the image\n",
    "rgb_image = cv.cvtColor(cv.imread('img/photo.jpeg'),cv.COLOR_BGR2RGB)\n",
    "cv.imshow('image',rgb_image)\n",
    "cv.waitKey(0)\n",
    "cv.destroyAllWindows()"
   ]
  },
  {
   "cell_type": "code",
   "execution_count": 9,
   "metadata": {},
   "outputs": [
    {
     "data": {
      "text/plain": [
       "-1"
      ]
     },
     "execution_count": 9,
     "metadata": {},
     "output_type": "execute_result"
    }
   ],
   "source": [
    "window_name = 'image'\n",
    "#cv.namedWindow(window_name)\n",
    "key = 0\n",
    "rgb_image = cv.cvtColor(cv.imread('img/photo.jpeg'),cv.COLOR_BGR2RGB)\n",
    "gray_image = cv.cvtColor(rgb_image,cv.COLOR_RGB2GRAY)\n",
    "_,thresh_img = cv.threshold(rgb_image,127,255,cv.THRESH_BINARY)\n",
    "\n",
    "cv.imshow(window_name,rgb_image)\n",
    "while True:\n",
    "    if key == ord('g') or key == ord('G'):\n",
    "        cv.imshow(window_name,gray_image)\n",
    "    elif key == ord('c') or key == ord('C'):\n",
    "        cv.imshow(window_name,rgb_image)\n",
    "    elif key == ord('t') or key == ord('T'):\n",
    "        cv.imshow(window_name,thresh_img)\n",
    "    elif key == 27:\n",
    "        break\n",
    "    key = cv.waitKey(0)\n",
    "    \n",
    "    \n",
    "cv.destroyAllWindows()\n",
    "cv.waitKey(1)\n",
    "\n",
    "\n",
    "    "
   ]
  },
  {
   "cell_type": "markdown",
   "metadata": {},
   "source": [
    "[Hint](# \"You will need to use cv2.waitKey and python ord functions\") "
   ]
  },
  {
   "cell_type": "code",
   "execution_count": 12,
   "metadata": {},
   "outputs": [
    {
     "data": {
      "text/plain": [
       "-1"
      ]
     },
     "execution_count": 12,
     "metadata": {},
     "output_type": "execute_result"
    }
   ],
   "source": [
    "# Do the same as above but using your webcam image \n",
    "window_name = 'image'\n",
    "#cv.namedWindow(window_name)\n",
    "key = 0\n",
    "# capture = cv.VideoCapture(0)\n",
    "# _,frame = capture.read()\n",
    "\n",
    "bgr_image = cv.imread('img/web_cam.jpg')\n",
    "rgb_image = cv.cvtColor(bgr_image,cv.COLOR_BGR2RGB)\n",
    "gray_image = cv.cvtColor(rgb_image,cv.COLOR_RGB2GRAY)\n",
    "_,thresh_img = cv.threshold(rgb_image,127,255,cv.THRESH_BINARY)\n",
    "\n",
    "cv.imshow(window_name,bgr_image)\n",
    "while True:\n",
    "    if key == ord('g') or key == ord('G'):\n",
    "        cv.imshow(window_name,gray_image)\n",
    "    elif key == ord('c') or key == ord('C'):\n",
    "        cv.imshow(window_name,rgb_image)\n",
    "    elif key == ord('t') or key == ord('T'):\n",
    "        cv.imshow(window_name,thresh_img)\n",
    "    elif key == 27:\n",
    "        break\n",
    "    key = cv.waitKey(0)\n",
    "    \n",
    "    \n",
    "cv.destroyAllWindows()\n",
    "cv.waitKey(1)\n"
   ]
  },
  {
   "cell_type": "markdown",
   "metadata": {},
   "source": [
    "[Hint](# \"You will need to use cv2.VideoCapture function\") "
   ]
  },
  {
   "cell_type": "markdown",
   "metadata": {},
   "source": [
    "## Mouse callbacks"
   ]
  },
  {
   "cell_type": "code",
   "execution_count": 14,
   "metadata": {},
   "outputs": [],
   "source": [
    "# Load an image and show it on screen with cv2.imshow\n",
    "# When the user clicks on top of the image save the coordinates\n",
    "# The user will then move the cursor without releasing the mouse button to another position\n",
    "# When the user releases the button draw a rectagle around the ROI\n",
    "# When the key esc is detected close the image\n",
    "bgr_image = cv.imread('img/photo.jpeg')\n",
    "#rgb_image = cv.cvtColor(cv.imread('img/photo.jpeg'),cv.COLOR_BGR2RGB)\n",
    "cv.imshow('image',bgr_image)\n",
    "cv.waitKey(0)\n",
    "cv.destroyAllWindows()"
   ]
  },
  {
   "cell_type": "code",
   "execution_count": 56,
   "metadata": {},
   "outputs": [
    {
     "data": {
      "text/plain": [
       "-1"
      ]
     },
     "execution_count": 56,
     "metadata": {},
     "output_type": "execute_result"
    }
   ],
   "source": [
    "img = bgr_image.copy()\n",
    "window_name = 'window'\n",
    "cv.namedWindow(window_name)\n",
    "\n",
    "def draw_rect(action,x,y,flags,userdata):\n",
    "    if (action == cv.EVENT_LBUTTONDOWN):\n",
    "        cv.rectangle(userdata,(x,y),(x+200,y+200),(0,255,0),1)\n",
    "        cv.imshow(window_name,userdata)\n",
    "#     if (action == cv.EVENT_LBUTTONUP):\n",
    "#         cv.rectangle(userdata,(x,y),(x+200,y+200),(0,255,0),1)\n",
    "#         cv.imshow(window_name,userdata)\n",
    "cv.setMouseCallback(window_name,draw_rect,img)\n",
    "cv.imshow(window_name,img)\n",
    "cv.waitKey(0)\n",
    "cv.destroyAllWindows()\n",
    "cv.waitKey(27)"
   ]
  },
  {
   "cell_type": "code",
   "execution_count": 53,
   "metadata": {},
   "outputs": [
    {
     "name": "stdout",
     "output_type": "stream",
     "text": [
      "[]\n"
     ]
    }
   ],
   "source": [
    "# Crop and save the ROI image to disk \n",
    "roi = img[Y[1]:Y[0],X[1]:X[0]]\n",
    "print(roi)\n",
    "#cv.imwrite('img/crop.jpg',roi)"
   ]
  },
  {
   "cell_type": "markdown",
   "metadata": {},
   "source": [
    "[Hint](# \"cv2.setMouseCallback\") "
   ]
  },
  {
   "cell_type": "markdown",
   "metadata": {},
   "source": [
    "## Trackbars"
   ]
  },
  {
   "cell_type": "code",
   "execution_count": 3,
   "metadata": {
    "ExecuteTime": {
     "end_time": "2019-11-19T11:17:26.647991Z",
     "start_time": "2019-11-19T11:17:26.635749Z"
    }
   },
   "outputs": [],
   "source": [
    "# Create a named window, load and show an image in that window\n",
    "bgr_image = cv.imread('img/photo.jpeg')\n",
    "window_name = 'my_window'\n",
    "cv.namedWindow(window_name)\n",
    "cv.imshow(window_name,bgr_image)\n",
    "cv.waitKey()\n",
    "cv.destroyAllWindows()"
   ]
  },
  {
   "cell_type": "markdown",
   "metadata": {},
   "source": [
    "[Hint](# \"cv2.namedWindow\") "
   ]
  },
  {
   "cell_type": "code",
   "execution_count": null,
   "metadata": {},
   "outputs": [],
   "source": [
    "# Add at least 3 different trackbars to the window (choose of any parameters that you want to modify with them)\n",
    "# Each trackbar will modify some parameter of the image, write a function for each trackbar\n",
    "# When the user move the trackbar around the image should be updated accordingly\n",
    "# When the key esc is detected close the image\n",
    "threshold_value = 0\n",
    "threshold_type = cv.THRESH_BINARY\n",
    "threshold_types = [cv.THRESH_BINARY,cv.THRESH_BINARY_INV,cv.THRESH_TOZERO,cv.THRESH_TOZERO_INV,cv.THRESH_TRUNC]\n",
    "cv.namedWindow(window_name,cv.WINDOW_AUTOSIZE)\n",
    "\n",
    "def change_threshold_value(val):\n",
    "    threshold_value = val\n",
    "    _,thresh = cv.threshold(bgr_image,threshold_value,255,threshold_type)\n",
    "    cv.imshow(window_name,thresh)\n",
    "\n",
    "def change_threshold_types(val):\n",
    "    threshold_value = threshold_types[val]\n",
    "    _,thresh = cv.threshold(bgr_image,threshold_value,255,threshold_type)\n",
    "    cv.imshow(window_name,thresh)\n",
    "\n",
    "\n",
    "cv.createTrackbar('Threshold Value',window_name,threshold_value,255,change_threshold_value)\n",
    "cv.createTrackbar('Threshold type',window_name,threshold_value,4,change_threshold_types)\n",
    "cv.imshow(window_name,bgr_image)\n",
    "cv.waitKey(0)\n",
    "cv.destroyAllWindows\n",
    "cv.waitKey(1)"
   ]
  },
  {
   "cell_type": "markdown",
   "metadata": {},
   "source": [
    "[Hint](# \"cv2.createTrackbar\") "
   ]
  },
  {
   "cell_type": "code",
   "execution_count": null,
   "metadata": {
    "ExecuteTime": {
     "end_time": "2019-11-19T11:17:40.562115Z",
     "start_time": "2019-11-19T11:17:39.321415Z"
    },
    "scrolled": false
   },
   "outputs": [],
   "source": [
    "# Do the same as above but using your webcam image so the trackbars will apply the changes on live image\n"
   ]
  }
 ],
 "metadata": {
  "kernelspec": {
   "display_name": "Python 3",
   "language": "python",
   "name": "python3"
  },
  "language_info": {
   "codemirror_mode": {
    "name": "ipython",
    "version": 3
   },
   "file_extension": ".py",
   "mimetype": "text/x-python",
   "name": "python",
   "nbconvert_exporter": "python",
   "pygments_lexer": "ipython3",
   "version": "3.8.8"
  }
 },
 "nbformat": 4,
 "nbformat_minor": 2
}
