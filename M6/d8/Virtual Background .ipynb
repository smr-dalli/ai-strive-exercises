{
 "cells": [
  {
   "cell_type": "code",
   "execution_count": null,
   "id": "missing-pierre",
   "metadata": {},
   "outputs": [],
   "source": [
    "import numpy as np\n",
    "import cv2\n"
   ]
  },
  {
   "cell_type": "code",
   "execution_count": 14,
   "id": "combined-advertiser",
   "metadata": {},
   "outputs": [
    {
     "data": {
      "text/plain": [
       "array([[0, 1, 0],\n",
       "       [1, 1, 1],\n",
       "       [0, 1, 0]], dtype=uint8)"
      ]
     },
     "execution_count": 14,
     "metadata": {},
     "output_type": "execute_result"
    }
   ],
   "source": [
    "kernel = cv2.getStructuringElement(cv2.MORPH_ELLIPSE,(3,3))\n",
    "kernel\n"
   ]
  },
  {
   "cell_type": "code",
   "execution_count": 5,
   "id": "written-attitude",
   "metadata": {},
   "outputs": [],
   "source": [
    "video = cv2.VideoCapture(0)\n",
    "image = cv2.imread('img/video.avi')\n",
    "background = cv2.createBackgroundSubtractorMOG2()\n",
    "kernel = cv2.getStructuringElement(cv2.MORPH_ELLIPSE,(3,3))\n",
    "\n",
    "while (video.isOpened()):\n",
    "    val,frame = video.read()\n",
    "    mask = background.apply(frame)\n",
    "    \n",
    "    cv2.imshow('img',mask)\n",
    "    key = cv2.waitKey(30)\n",
    "    if key == ord('q') or key == 27:\n",
    "        break\n",
    "video.release()\n",
    "cv2.destroyAllWindows()\n"
   ]
  },
  {
   "cell_type": "code",
   "execution_count": 12,
   "id": "passing-contributor",
   "metadata": {},
   "outputs": [],
   "source": [
    "video = cv2.VideoCapture(0)\n",
    "image = cv2.imread('img/scenary.jpg')\n",
    "th = 50\n",
    "iteration = 0\n",
    "frame_counter = 0\n",
    "next_frame = None\n",
    "previous_frame = None\n",
    "\n",
    "\n",
    "\n",
    "while(video.isOpened()):\n",
    "    _,frame = video.read()\n",
    "    if frame_counter % 2 == 0:\n",
    "        frame_counter = 0\n",
    "        previous_frame = frame\n",
    "        \n",
    "    if frame_counter %2 ==1:\n",
    "        next_frame = frame\n",
    "    frame_counter += 1\n",
    "    iteration += 1\n",
    "    \n",
    "    if iteration > 2:\n",
    "        diff = cv2.absdiff(previous_frame, next_frame)\n",
    "        mask = cv2.cvtColor(diff, cv2.COLOR_BGR2GRAY)\n",
    "        isMask = mask > th\n",
    "        nonMask = mask <= th\n",
    "        result = np.zeros_like(next_frame, np.uint8)\n",
    "        resized = cv2.resize(image, (result.shape[1], result.shape[0]), interpolation = cv2.INTER_AREA)\n",
    "        result[isMask] = next_frame[isMask]\n",
    "        result[nonMask] = resized[nonMask]\n",
    "        cv2.imshow(\"output\" + str(iteration) + \".jpg\", result)\n",
    "        #cv2.imshow('my_window',result)\n",
    "    key = cv2.waitKey(30)\n",
    "    if key == ord('q') or key == 27:\n",
    "        break\n",
    "video.release()\n",
    "cv2.destroyAllWindows()\n",
    "        "
   ]
  }
 ],
 "metadata": {
  "kernelspec": {
   "display_name": "Python 3",
   "language": "python",
   "name": "python3"
  },
  "language_info": {
   "codemirror_mode": {
    "name": "ipython",
    "version": 3
   },
   "file_extension": ".py",
   "mimetype": "text/x-python",
   "name": "python",
   "nbconvert_exporter": "python",
   "pygments_lexer": "ipython3",
   "version": "3.8.8"
  }
 },
 "nbformat": 4,
 "nbformat_minor": 5
}
