{
 "cells": [
  {
   "cell_type": "code",
   "execution_count": 5,
   "id": "architectural-stylus",
   "metadata": {},
   "outputs": [
    {
     "data": {
      "text/plain": [
       "{0: 'an',\n",
       " 1: 'Sai',\n",
       " 2: 'is',\n",
       " 3: 'My',\n",
       " 4: 'Mohan',\n",
       " 5: 'Indian',\n",
       " 6: 'name',\n",
       " 7: 'which'}"
      ]
     },
     "execution_count": 5,
     "metadata": {},
     "output_type": "execute_result"
    }
   ],
   "source": [
    "sentence = 'My name is Sai Mohan which is an Indian name'\n",
    "words = sentence.split(' ')\n",
    "vocab = dict(enumerate(set(words)))\n",
    "vocab"
   ]
  }
 ],
 "metadata": {
  "kernelspec": {
   "display_name": "Python 3",
   "language": "python",
   "name": "python3"
  },
  "language_info": {
   "codemirror_mode": {
    "name": "ipython",
    "version": 3
   },
   "file_extension": ".py",
   "mimetype": "text/x-python",
   "name": "python",
   "nbconvert_exporter": "python",
   "pygments_lexer": "ipython3",
   "version": "3.8.8"
  }
 },
 "nbformat": 4,
 "nbformat_minor": 5
}
