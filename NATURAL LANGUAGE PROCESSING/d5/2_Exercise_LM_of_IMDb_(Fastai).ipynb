{
  "nbformat": 4,
  "nbformat_minor": 0,
  "metadata": {
    "kernelspec": {
      "display_name": "Python 3",
      "language": "python",
      "name": "python3"
    },
    "language_info": {
      "codemirror_mode": {
        "name": "ipython",
        "version": 3
      },
      "file_extension": ".py",
      "mimetype": "text/x-python",
      "name": "python",
      "nbconvert_exporter": "python",
      "pygments_lexer": "ipython3",
      "version": "3.9.2"
    },
    "colab": {
      "name": "2. Exercise - LM of IMDb (Fastai).ipynb",
      "provenance": []
    },
    "accelerator": "GPU"
  },
  "cells": [
    {
      "cell_type": "markdown",
      "metadata": {
        "id": "kGM5S8MLAFQc"
      },
      "source": [
        "# Finetune a Langage Model with Fast.ai\n",
        "Notebook based on:\n",
        "- https://github.com/fastai/fastbook/blob/master/10_nlp.ipynb\n",
        "- https://github.com/fastai/course-nlp/blob/master/5-nn-imdb.ipynb\n",
        "\n",
        "Video:\n",
        "- https://www.youtube.com/watch?v=WjnwWeGjZcM (From 0:00 to 55:00)"
      ]
    },
    {
      "cell_type": "markdown",
      "metadata": {
        "id": "wqjx5gEGAFQd"
      },
      "source": [
        "#### Get latest Fast.ai version (without installing the Pytorch dependency)"
      ]
    },
    {
      "cell_type": "code",
      "metadata": {
        "colab": {
          "base_uri": "https://localhost:8080/"
        },
        "id": "tbM2SWBwAFQe",
        "outputId": "b6aea9ed-f4e5-49e6-b362-9bfd8360031e"
      },
      "source": [
        "!pip install --upgrade --no-deps fastai\n",
        "!pip install --upgrade --no-deps fastcore"
      ],
      "execution_count": null,
      "outputs": [
        {
          "output_type": "stream",
          "text": [
            "Collecting fastai\n",
            "\u001b[?25l  Downloading https://files.pythonhosted.org/packages/5b/53/edf39e15b7ec5e805a0b6f72adbe48497ebcfa009a245eca7044ae9ee1c6/fastai-2.3.0-py3-none-any.whl (193kB)\n",
            "\r\u001b[K     |█▊                              | 10kB 15.7MB/s eta 0:00:01\r\u001b[K     |███▍                            | 20kB 17.8MB/s eta 0:00:01\r\u001b[K     |█████                           | 30kB 10.6MB/s eta 0:00:01\r\u001b[K     |██████▊                         | 40kB 8.8MB/s eta 0:00:01\r\u001b[K     |████████▌                       | 51kB 4.4MB/s eta 0:00:01\r\u001b[K     |██████████▏                     | 61kB 5.0MB/s eta 0:00:01\r\u001b[K     |███████████▉                    | 71kB 5.1MB/s eta 0:00:01\r\u001b[K     |█████████████▌                  | 81kB 5.5MB/s eta 0:00:01\r\u001b[K     |███████████████▏                | 92kB 5.7MB/s eta 0:00:01\r\u001b[K     |█████████████████               | 102kB 6.1MB/s eta 0:00:01\r\u001b[K     |██████████████████▋             | 112kB 6.1MB/s eta 0:00:01\r\u001b[K     |████████████████████▎           | 122kB 6.1MB/s eta 0:00:01\r\u001b[K     |██████████████████████          | 133kB 6.1MB/s eta 0:00:01\r\u001b[K     |███████████████████████▊        | 143kB 6.1MB/s eta 0:00:01\r\u001b[K     |█████████████████████████▍      | 153kB 6.1MB/s eta 0:00:01\r\u001b[K     |███████████████████████████     | 163kB 6.1MB/s eta 0:00:01\r\u001b[K     |████████████████████████████▊   | 174kB 6.1MB/s eta 0:00:01\r\u001b[K     |██████████████████████████████▍ | 184kB 6.1MB/s eta 0:00:01\r\u001b[K     |████████████████████████████████| 194kB 6.1MB/s \n",
            "\u001b[?25hInstalling collected packages: fastai\n",
            "  Found existing installation: fastai 1.0.61\n",
            "    Uninstalling fastai-1.0.61:\n",
            "      Successfully uninstalled fastai-1.0.61\n",
            "Successfully installed fastai-2.3.0\n",
            "Collecting fastcore\n",
            "\u001b[?25l  Downloading https://files.pythonhosted.org/packages/0c/98/60404e2817cff113a6ae4023bc1772e23179408fdf7857fa410551758dfe/fastcore-1.3.19-py3-none-any.whl (53kB)\n",
            "\u001b[K     |████████████████████████████████| 61kB 3.4MB/s \n",
            "\u001b[?25hInstalling collected packages: fastcore\n",
            "Successfully installed fastcore-1.3.19\n"
          ],
          "name": "stdout"
        }
      ]
    },
    {
      "cell_type": "markdown",
      "metadata": {
        "id": "Mh_hNmndAFQf"
      },
      "source": [
        "#### Imports"
      ]
    },
    {
      "cell_type": "code",
      "metadata": {
        "id": "TF7gbueHAFQg"
      },
      "source": [
        "from fastai.text.all import * # We need fastai version 2 for this\n",
        "from pathlib import Path"
      ],
      "execution_count": null,
      "outputs": []
    },
    {
      "cell_type": "markdown",
      "metadata": {
        "id": "JsNHebmQAFQg"
      },
      "source": [
        "#### Check GPU usage"
      ]
    },
    {
      "cell_type": "code",
      "metadata": {
        "colab": {
          "base_uri": "https://localhost:8080/"
        },
        "id": "M2yk9-pHAFQg",
        "outputId": "9596937d-49ed-4953-b7c9-56a38e0bd392"
      },
      "source": [
        "if torch.cuda.is_available():\n",
        "    print(\"Using GPU:\", torch.cuda.get_device_name(0))\n",
        "else:\n",
        "    print(\"WARNING: Not GPU detected\")"
      ],
      "execution_count": null,
      "outputs": [
        {
          "output_type": "stream",
          "text": [
            "Using GPU: Tesla K80\n"
          ],
          "name": "stdout"
        }
      ]
    },
    {
      "cell_type": "markdown",
      "metadata": {
        "id": "wTyxxsbQAFQh"
      },
      "source": [
        "# Get data"
      ]
    },
    {
      "cell_type": "code",
      "metadata": {
        "id": "Uq2ylUJQAFQh"
      },
      "source": [
        "CLOUD = True"
      ],
      "execution_count": null,
      "outputs": []
    },
    {
      "cell_type": "code",
      "metadata": {
        "colab": {
          "base_uri": "https://localhost:8080/",
          "height": 35
        },
        "id": "c3e7nZagAFQi",
        "outputId": "e5415aa5-3ba6-47ec-c5e9-5f7f36e64c89"
      },
      "source": [
        "if CLOUD:\n",
        "    # Download the data from internet\n",
        "    # If you are using cloud platforms\n",
        "    # like Google Colab or Kaggle kernels\n",
        "    data_path = untar_data(URLs.IMDB)\n",
        "else:\n",
        "    # Point to the path where the data is\n",
        "    # located at your local machine\n",
        "    data_path = Path(\"../../Datasets/NLP/IMBd\")\n",
        "    \n",
        "print(\"Dataset is loacted at:\", data_path)"
      ],
      "execution_count": null,
      "outputs": [
        {
          "output_type": "display_data",
          "data": {
            "text/html": [
              ""
            ],
            "text/plain": [
              "<IPython.core.display.HTML object>"
            ]
          },
          "metadata": {
            "tags": []
          }
        },
        {
          "output_type": "stream",
          "text": [
            "Dataset is loacted at: /root/.fastai/data/imdb\n"
          ],
          "name": "stdout"
        }
      ]
    },
    {
      "cell_type": "code",
      "metadata": {
        "colab": {
          "base_uri": "https://localhost:8080/"
        },
        "id": "SS8nL2zJAFQi",
        "outputId": "78332bdc-81be-4979-ab17-9d8480afc56e"
      },
      "source": [
        "print(\"Train:\", len(list( (data_path/\"train\").glob('**/*.txt') )), \"reviews\")\n",
        "print(\"Test: \", len(list( (data_path/\"test\").glob('**/*.txt')  )), \"reviews\")\n",
        "print(\"Unsup:\", len(list( (data_path/\"unsup\").glob('**/*.txt') )), \"reviews\")"
      ],
      "execution_count": null,
      "outputs": [
        {
          "output_type": "stream",
          "text": [
            "Train: 25000 reviews\n",
            "Test:  25000 reviews\n",
            "Unsup: 50000 reviews\n"
          ],
          "name": "stdout"
        }
      ]
    },
    {
      "cell_type": "markdown",
      "metadata": {
        "id": "U-tXV5RnAFQi"
      },
      "source": [
        "# Dataset"
      ]
    },
    {
      "cell_type": "code",
      "metadata": {
        "colab": {
          "base_uri": "https://localhost:8080/"
        },
        "id": "NWk74cH1AFQj",
        "outputId": "c84c6a4c-1223-4428-8914-169a5fac6fc5"
      },
      "source": [
        "files = get_text_files(data_path, folders = ['train', 'test', 'unsup'])\n",
        "files"
      ],
      "execution_count": null,
      "outputs": [
        {
          "output_type": "execute_result",
          "data": {
            "text/plain": [
              "(#100000) [Path('/root/.fastai/data/imdb/train/neg/11850_3.txt'),Path('/root/.fastai/data/imdb/train/neg/11981_4.txt'),Path('/root/.fastai/data/imdb/train/neg/7924_1.txt'),Path('/root/.fastai/data/imdb/train/neg/6308_1.txt'),Path('/root/.fastai/data/imdb/train/neg/5460_4.txt'),Path('/root/.fastai/data/imdb/train/neg/284_2.txt'),Path('/root/.fastai/data/imdb/train/neg/11313_3.txt'),Path('/root/.fastai/data/imdb/train/neg/919_1.txt'),Path('/root/.fastai/data/imdb/train/neg/35_3.txt'),Path('/root/.fastai/data/imdb/train/neg/5452_4.txt')...]"
            ]
          },
          "metadata": {
            "tags": []
          },
          "execution_count": 14
        }
      ]
    },
    {
      "cell_type": "code",
      "metadata": {
        "colab": {
          "base_uri": "https://localhost:8080/",
          "height": 35
        },
        "id": "qqNVIjgVAFQj",
        "outputId": "657e6517-c159-4cbc-8ddf-a17d8842c54b"
      },
      "source": [
        "txt = files[0].open().read()\n",
        "txt[:75]"
      ],
      "execution_count": null,
      "outputs": [
        {
          "output_type": "execute_result",
          "data": {
            "application/vnd.google.colaboratory.intrinsic+json": {
              "type": "string"
            },
            "text/plain": [
              "'\"Rival reporters Pat Morgan (Ginger Rogers) and Ted Rand (Lyle Talbot) are '"
            ]
          },
          "metadata": {
            "tags": []
          },
          "execution_count": 15
        }
      ]
    },
    {
      "cell_type": "markdown",
      "metadata": {
        "id": "8r51ws3pAFQj"
      },
      "source": [
        "## Dataloader\n",
        "\n",
        "At every epoch:\n",
        "\n",
        "1. **Shuffle** (sort randomly) our collection of texts.\n",
        "2. **Concatenate** the individual texts together into a big stream. \n",
        "3. **Cut** this stream into a certain number of batches (which is our batch size).\n",
        "   - For instance, if the stream has 50,000 tokens and we set a batch size of 10, this will give us 10 mini-streams of 5,000 tokens.\n",
        "   \n",
        "So to recap, at every epoch we shuffle our collection of documents and concatenate them into a stream of tokens. We then cut that stream into a batch of fixed-size consecutive mini-streams. Our model will then read the mini-streams in order, and thanks to an inner state, it will produce the same activation whatever sequence length we picked."
      ]
    },
    {
      "cell_type": "markdown",
      "metadata": {
        "id": "B7FGGsKSAFQj"
      },
      "source": [
        "- takes 5 mins for tokenization in Kaggle\n",
        "- takes 1 mins for tokenization in local machine"
      ]
    },
    {
      "cell_type": "code",
      "metadata": {
        "id": "ETvoIaydAFQk"
      },
      "source": [
        "get_imdb = partial(get_text_files, folders=['train', 'test', 'unsup'])\n",
        "\n",
        "imdb_dls_lm = DataBlock(\n",
        "    blocks    = TextBlock.from_folder(data_path, is_lm=True),\n",
        "    get_items = get_imdb,\n",
        "    splitter  = RandomSplitter(0.1)\n",
        ").dataloaders(data_path, path=data_path, bs=16, seq_len=80)"
      ],
      "execution_count": 31,
      "outputs": []
    },
    {
      "cell_type": "code",
      "metadata": {
        "id": "p-uNDccSAFQk",
        "colab": {
          "base_uri": "https://localhost:8080/",
          "height": 249
        },
        "outputId": "b92ca3b9-368c-45d7-ccc6-a95ebef676b8"
      },
      "source": [
        "imdb_dls_lm.show_batch(max_n=2)"
      ],
      "execution_count": 32,
      "outputs": [
        {
          "output_type": "display_data",
          "data": {
            "text/html": [
              "<table border=\"1\" class=\"dataframe\">\n",
              "  <thead>\n",
              "    <tr style=\"text-align: right;\">\n",
              "      <th></th>\n",
              "      <th>text</th>\n",
              "      <th>text_</th>\n",
              "    </tr>\n",
              "  </thead>\n",
              "  <tbody>\n",
              "    <tr>\n",
              "      <th>0</th>\n",
              "      <td>xxbos xxmaj i 've seen all of the xxmaj robin xxmaj hood xxmaj movies and this one is the best . xxmaj the most exciting , and great actors . xxmaj if ever you just watch one movie with xxmaj errol xxmaj flynn this is it . i give it ten stars . \\n\\n xxmaj spoiler : xxmaj robin xxmaj hood is a knight which becomes a bandit to protect the poor people of xxmaj england . xxmaj he is</td>\n",
              "      <td>xxmaj i 've seen all of the xxmaj robin xxmaj hood xxmaj movies and this one is the best . xxmaj the most exciting , and great actors . xxmaj if ever you just watch one movie with xxmaj errol xxmaj flynn this is it . i give it ten stars . \\n\\n xxmaj spoiler : xxmaj robin xxmaj hood is a knight which becomes a bandit to protect the poor people of xxmaj england . xxmaj he is doing</td>\n",
              "    </tr>\n",
              "    <tr>\n",
              "      <th>1</th>\n",
              "      <td>xxmaj of xxmaj the xxmaj river . \" \\n\\n xxmaj in a nutshell , the story is about a man , \" lin mcadam , \" ( stewart ) who owns this prestigious xxmaj winchester 73 rifle , a weapon he won fair - and - square in a contest . xxmaj it is then stolen and passed on from villain to villain . xxmaj all of those villains are interesting characters . \\n\\n xxmaj aiding xxmaj stewart act out</td>\n",
              "      <td>of xxmaj the xxmaj river . \" \\n\\n xxmaj in a nutshell , the story is about a man , \" lin mcadam , \" ( stewart ) who owns this prestigious xxmaj winchester 73 rifle , a weapon he won fair - and - square in a contest . xxmaj it is then stolen and passed on from villain to villain . xxmaj all of those villains are interesting characters . \\n\\n xxmaj aiding xxmaj stewart act out this</td>\n",
              "    </tr>\n",
              "  </tbody>\n",
              "</table>"
            ],
            "text/plain": [
              "<IPython.core.display.HTML object>"
            ]
          },
          "metadata": {
            "tags": []
          }
        }
      ]
    },
    {
      "cell_type": "code",
      "metadata": {
        "id": "9_6Oy7-xAFQk",
        "colab": {
          "base_uri": "https://localhost:8080/"
        },
        "outputId": "d4b878cc-04bf-4087-8307-e17433662e4b"
      },
      "source": [
        "print(imdb_dls_lm.vocab[:100])"
      ],
      "execution_count": 33,
      "outputs": [
        {
          "output_type": "stream",
          "text": [
            "['xxunk', 'xxpad', 'xxbos', 'xxeos', 'xxfld', 'xxrep', 'xxwrep', 'xxup', 'xxmaj', 'the', '.', ',', 'and', 'a', 'of', 'to', 'is', 'it', 'in', 'i', 'this', 'that', '\"', \"'s\", '-', 'was', '\\n\\n', 'as', 'with', 'for', 'movie', 'but', 'film', 'you', ')', 'on', \"n't\", '(', 'not', 'are', 'he', 'his', 'have', 'be', 'one', 'all', 'at', 'they', 'by', 'an', 'who', 'from', 'so', 'like', '!', 'there', 'or', 'just', 'her', 'do', 'about', 'has', 'out', \"'\", 'if', 'what', 'some', '?', 'good', 'when', 'more', 'very', 'she', 'up', 'would', 'no', '…', 'time', 'even', 'my', 'can', 'their', 'which', 'only', 'story', 'really', 'see', 'had', 'were', 'did', 'me', 'well', 'we', 'does', 'than', 'much', ':', 'could', 'bad', 'get']\n"
          ],
          "name": "stdout"
        }
      ]
    },
    {
      "cell_type": "code",
      "metadata": {
        "id": "GLBJzXOvAFQk",
        "colab": {
          "base_uri": "https://localhost:8080/"
        },
        "outputId": "0a1b344f-47ec-4638-b3f1-0d3268aa70da"
      },
      "source": [
        "len(imdb_dls_lm.vocab)"
      ],
      "execution_count": 34,
      "outputs": [
        {
          "output_type": "execute_result",
          "data": {
            "text/plain": [
              "60008"
            ]
          },
          "metadata": {
            "tags": []
          },
          "execution_count": 34
        }
      ]
    },
    {
      "cell_type": "markdown",
      "metadata": {
        "id": "XYwWKDmXAFQl"
      },
      "source": [
        "# Create the Fastai learner (dataloader + model + loss)"
      ]
    },
    {
      "cell_type": "code",
      "metadata": {
        "id": "_FcbARShAFQl"
      },
      "source": [
        "learn = language_model_learner(\n",
        "    dls       = imdb_dls_lm,\n",
        "    arch      = AWD_LSTM,\n",
        "    drop_mult = 0.3, \n",
        "    metrics   = [accuracy, Perplexity()],\n",
        "    cbs       = [ShowGraphCallback]\n",
        ").to_fp16()"
      ],
      "execution_count": 35,
      "outputs": []
    },
    {
      "cell_type": "markdown",
      "metadata": {
        "id": "-L5GEAmYAFQl"
      },
      "source": [
        "### Text Generation BEFORE FINETUNNNG WITH IMDB (Just for fun :D)"
      ]
    },
    {
      "cell_type": "code",
      "metadata": {
        "id": "jtmROrMgAFQl",
        "colab": {
          "base_uri": "https://localhost:8080/",
          "height": 193
        },
        "outputId": "fc6d93b6-c977-4bf5-bfb7-7f3a1fbbda32"
      },
      "source": [
        "TEXT        = \"The\"\n",
        "N_WORDS     = 40\n",
        "N_SENTENCES = 5\n",
        "\n",
        "preds = [learn.predict(TEXT, N_WORDS, temperature=0.75) for _ in range(N_SENTENCES)]\n",
        "\n",
        "print(\"\\n\\n\".join(preds))"
      ],
      "execution_count": 36,
      "outputs": [
        {
          "output_type": "display_data",
          "data": {
            "text/html": [
              ""
            ],
            "text/plain": [
              "<IPython.core.display.HTML object>"
            ]
          },
          "metadata": {
            "tags": []
          }
        },
        {
          "output_type": "display_data",
          "data": {
            "text/html": [
              ""
            ],
            "text/plain": [
              "<IPython.core.display.HTML object>"
            ]
          },
          "metadata": {
            "tags": []
          }
        },
        {
          "output_type": "display_data",
          "data": {
            "text/html": [
              ""
            ],
            "text/plain": [
              "<IPython.core.display.HTML object>"
            ]
          },
          "metadata": {
            "tags": []
          }
        },
        {
          "output_type": "display_data",
          "data": {
            "text/html": [
              ""
            ],
            "text/plain": [
              "<IPython.core.display.HTML object>"
            ]
          },
          "metadata": {
            "tags": []
          }
        },
        {
          "output_type": "display_data",
          "data": {
            "text/html": [
              ""
            ],
            "text/plain": [
              "<IPython.core.display.HTML object>"
            ]
          },
          "metadata": {
            "tags": []
          }
        },
        {
          "output_type": "stream",
          "text": [
            "The Harry Potter and the Deathly Hallows – Part 2 , Harry Potter and the Deathly Hallows – Part 2 , by David Duchovny and Simon Book\n",
            "\n",
            "The British Invasion of the Troubles , one of the main British - American military campaigns of the Second World War , was launched in May 1944 . It was an\n",
            "\n",
            "The Hurricane Katrina of 2008 = = = a high - intensity hurricane that resulted in significant rains of about 10 inches ( 250 mm ) in the United States during June 2008 . The\n",
            "\n",
            "The Cleveland Browns = a football team , and the Cleveland Browns , remains a professional football team . The club was founded in Cleveland in 1878 by Lewis Hamilton , a\n",
            "\n",
            "The New York Times reporter Lisa Tate said she would like to see \" a new New York City site \" . New York Times writer Jeffrey Geddes\n"
          ],
          "name": "stdout"
        }
      ]
    },
    {
      "cell_type": "markdown",
      "metadata": {
        "id": "-EE4okJlAFQm"
      },
      "source": [
        "## Fine-Tuning the Language Model with IMDB\n",
        "- This takes 24:46 mins on GTX 1080ti 11GB\n",
        "- This takes 27:48 mins on Tesla P100 16GB (Kaggle GPU)\n",
        "- This takes ~22mins mins on Tesla T4 (Colab GPU)\n",
        "- This takes >30mins mins on Tesla K80 (Colab GPU)"
      ]
    },
    {
      "cell_type": "code",
      "metadata": {
        "id": "meE_5UXqAFQm",
        "colab": {
          "base_uri": "https://localhost:8080/",
          "height": 328
        },
        "outputId": "50c1456d-732a-4302-c4b6-b9aa450c71a5"
      },
      "source": [
        "learn.fit_one_cycle(1, 2e-2)"
      ],
      "execution_count": 37,
      "outputs": [
        {
          "output_type": "display_data",
          "data": {
            "text/html": [
              "<table border=\"1\" class=\"dataframe\">\n",
              "  <thead>\n",
              "    <tr style=\"text-align: left;\">\n",
              "      <th>epoch</th>\n",
              "      <th>train_loss</th>\n",
              "      <th>valid_loss</th>\n",
              "      <th>accuracy</th>\n",
              "      <th>perplexity</th>\n",
              "      <th>time</th>\n",
              "    </tr>\n",
              "  </thead>\n",
              "  <tbody>\n",
              "    <tr>\n",
              "      <td>0</td>\n",
              "      <td>4.144604</td>\n",
              "      <td>4.032389</td>\n",
              "      <td>0.292296</td>\n",
              "      <td>56.395489</td>\n",
              "      <td>2:40:14</td>\n",
              "    </tr>\n",
              "  </tbody>\n",
              "</table>"
            ],
            "text/plain": [
              "<IPython.core.display.HTML object>"
            ]
          },
          "metadata": {
            "tags": []
          }
        },
        {
          "output_type": "display_data",
          "data": {
            "image/png": "[encoded data removed]",
            "text/plain": [
              "<Figure size 432x288 with 1 Axes>"
            ]
          },
          "metadata": {
            "tags": []
          }
        }
      ]
    },
    {
      "cell_type": "markdown",
      "metadata": {
        "id": "m5gKcqaIAFQm"
      },
      "source": [
        "### Saving and Loading Models\n",
        "You can easily save the state of your model like so:"
      ]
    },
    {
      "cell_type": "code",
      "metadata": {
        "id": "kBEqaywiAFQm",
        "colab": {
          "base_uri": "https://localhost:8080/"
        },
        "outputId": "c205038f-6694-4392-a1bd-50829ef1ef39"
      },
      "source": [
        "learn.save('IMDb_LM_1epoch_frozen')"
      ],
      "execution_count": 38,
      "outputs": [
        {
          "output_type": "execute_result",
          "data": {
            "text/plain": [
              "Path('/root/.fastai/data/imdb/models/IMDb_LM_1epoch_frozen.pth')"
            ]
          },
          "metadata": {
            "tags": []
          },
          "execution_count": 38
        }
      ]
    },
    {
      "cell_type": "code",
      "metadata": {
        "id": "jQACYBAsAFQm",
        "colab": {
          "base_uri": "https://localhost:8080/"
        },
        "outputId": "f97582a6-9eb8-4f89-c7a4-f3161376ab02"
      },
      "source": [
        "learn.path"
      ],
      "execution_count": 39,
      "outputs": [
        {
          "output_type": "execute_result",
          "data": {
            "text/plain": [
              "Path('/root/.fastai/data/imdb')"
            ]
          },
          "metadata": {
            "tags": []
          },
          "execution_count": 39
        }
      ]
    },
    {
      "cell_type": "markdown",
      "metadata": {
        "id": "UlWVDCRgAFQn"
      },
      "source": [
        "This will create a file in `learn.path/models/` named *IMDb_LM_1epoch_frozen.pth*. If you want to load your model in another machine after creating your `Learner` the same way, or resume training later, you can load the content of this file with:"
      ]
    },
    {
      "cell_type": "code",
      "metadata": {
        "id": "O1s7yT3bAFQn"
      },
      "source": [
        "learn = learn.load('IMDb_LM_1epoch_frozen')"
      ],
      "execution_count": 40,
      "outputs": []
    },
    {
      "cell_type": "markdown",
      "metadata": {
        "id": "nBHTODW4AFQn"
      },
      "source": [
        "Once the initial training has completed, we can continue fine-tuning the model after unfreezing:"
      ]
    },
    {
      "cell_type": "code",
      "metadata": {
        "id": "Oa1CRGFwAFQn"
      },
      "source": [
        "learn.unfreeze()\n",
        "learn.fit_one_cycle(10, 2e-3)"
      ],
      "execution_count": 41,
      "outputs": []
    },
    {
      "cell_type": "markdown",
      "metadata": {
        "id": "HxIH32s6AFQn"
      },
      "source": [
        "Once this is done, we save all of our model except the final layer that converts activations to probabilities of picking each token in our vocabulary. The model not including the final layer is called the *encoder*. We can save it with `save_encoder`:"
      ]
    },
    {
      "cell_type": "code",
      "metadata": {
        "id": "c6pAC32WAFQn"
      },
      "source": [
        "learn.save_encoder('finetuned_IMDb_LM')"
      ],
      "execution_count": null,
      "outputs": []
    },
    {
      "cell_type": "markdown",
      "metadata": {
        "id": "GNz-ObfaAFQo"
      },
      "source": [
        "> jargon: Encoder: The model not including the task-specific final layer(s). This term means much the same thing as _body_ when applied to vision CNNs, but \"encoder\" tends to be more used for NLP and generative models.\n",
        "\n",
        "This completes the second stage of the text classification process: fine-tuning the language model. We can now use it to fine-tune a classifier using the IMDb sentiment labels."
      ]
    },
    {
      "cell_type": "markdown",
      "metadata": {
        "id": "-S4vnv0gAFQo"
      },
      "source": [
        "### Text Generation AFTER FINETUNNNG WITH IMDB (Just for fun :D)\n",
        "Before we move on to fine-tuning the classifier, let's quickly try something different: using our model to generate random reviews. Since it's trained to guess what the next word of the sentence is, we can use the model to write new reviews:"
      ]
    },
    {
      "cell_type": "code",
      "metadata": {
        "id": "AAIJydViAFQo",
        "colab": {
          "base_uri": "https://localhost:8080/",
          "height": 193
        },
        "outputId": "914290f0-c484-4244-8844-2d7716dc58d7"
      },
      "source": [
        "TEXT        = \"The\"\n",
        "N_WORDS     = 40\n",
        "N_SENTENCES = 5\n",
        "\n",
        "preds = [learn.predict(TEXT, N_WORDS, temperature=0.75) for _ in range(N_SENTENCES)]\n",
        "\n",
        "print(\"\\n\\n\".join(preds))"
      ],
      "execution_count": 42,
      "outputs": [
        {
          "output_type": "display_data",
          "data": {
            "text/html": [
              ""
            ],
            "text/plain": [
              "<IPython.core.display.HTML object>"
            ]
          },
          "metadata": {
            "tags": []
          }
        },
        {
          "output_type": "display_data",
          "data": {
            "text/html": [
              ""
            ],
            "text/plain": [
              "<IPython.core.display.HTML object>"
            ]
          },
          "metadata": {
            "tags": []
          }
        },
        {
          "output_type": "display_data",
          "data": {
            "text/html": [
              ""
            ],
            "text/plain": [
              "<IPython.core.display.HTML object>"
            ]
          },
          "metadata": {
            "tags": []
          }
        },
        {
          "output_type": "display_data",
          "data": {
            "text/html": [
              ""
            ],
            "text/plain": [
              "<IPython.core.display.HTML object>"
            ]
          },
          "metadata": {
            "tags": []
          }
        },
        {
          "output_type": "display_data",
          "data": {
            "text/html": [
              ""
            ],
            "text/plain": [
              "<IPython.core.display.HTML object>"
            ]
          },
          "metadata": {
            "tags": []
          }
        },
        {
          "output_type": "stream",
          "text": [
            "The new James Bond movie was made in the late seventies and early 90s . It was a thriller for the started to be made . It was a classic and i was in a huge mood\n",
            "\n",
            "The movie is basically a rather dull film which takes on a rather hard time to get a movie so it 's thoroughly entertaining . But in some ways it 's a movie that can only be seen by a\n",
            "\n",
            "The Spanish People i believe in a Spanish American woman who played a Spanish cast who wrote a great story . This movie is beautiful , certainly the most powerful of the movie .\n",
            "\n",
            "The Hulk Hogan is a big movie star , but i ca n't remember anyone thinking he 's in a movie . You know he 's showing no matter how long he 's wasted . He really\n",
            "\n",
            "The list of good acting is , normally , very poor , well - flawed , and extremely dull . All in all , it seems this is better than this . The acting is horrible , especially when\n"
          ],
          "name": "stdout"
        }
      ]
    },
    {
      "cell_type": "code",
      "metadata": {
        "id": "8J2IDCBXAFQp",
        "colab": {
          "base_uri": "https://localhost:8080/",
          "height": 193
        },
        "outputId": "2abc52c0-b758-43d9-bd53-b19bedc0d6cf"
      },
      "source": [
        "TEXT        = \"I liked this movie because\"\n",
        "N_WORDS     = 40\n",
        "N_SENTENCES = 5\n",
        "\n",
        "preds = [learn.predict(TEXT, N_WORDS, temperature=0.75) for _ in range(N_SENTENCES)]\n",
        "\n",
        "print(\"\\n\\n\".join(preds))"
      ],
      "execution_count": 43,
      "outputs": [
        {
          "output_type": "display_data",
          "data": {
            "text/html": [
              ""
            ],
            "text/plain": [
              "<IPython.core.display.HTML object>"
            ]
          },
          "metadata": {
            "tags": []
          }
        },
        {
          "output_type": "display_data",
          "data": {
            "text/html": [
              ""
            ],
            "text/plain": [
              "<IPython.core.display.HTML object>"
            ]
          },
          "metadata": {
            "tags": []
          }
        },
        {
          "output_type": "display_data",
          "data": {
            "text/html": [
              ""
            ],
            "text/plain": [
              "<IPython.core.display.HTML object>"
            ]
          },
          "metadata": {
            "tags": []
          }
        },
        {
          "output_type": "display_data",
          "data": {
            "text/html": [
              ""
            ],
            "text/plain": [
              "<IPython.core.display.HTML object>"
            ]
          },
          "metadata": {
            "tags": []
          }
        },
        {
          "output_type": "display_data",
          "data": {
            "text/html": [
              ""
            ],
            "text/plain": [
              "<IPython.core.display.HTML object>"
            ]
          },
          "metadata": {
            "tags": []
          }
        },
        {
          "output_type": "stream",
          "text": [
            "i liked this movie because it had a good sense of humor . It was but it was a game that i love to watch . That show is awesome and i wish i could have played this movie . When you\n",
            "\n",
            "i liked this movie because i loved it . Great acting of many parts but it was painful to watch . Do n't waste your time on the movie . Please do yourself a favor and watch this movie at all costs\n",
            "\n",
            "i liked this movie because i was raised by Good Jane and his father , Dr . Arthur Kennedy . The production of this movie is a masterpiece but the story is more realistic than it was in\n",
            "\n",
            "i liked this movie because it was about Jane Fonda playing the wife of her husband . She was capable of a job and should have been in a jordan position in a naval unit for the naval battle . The\n",
            "\n",
            "i liked this movie because it was \" cheesy \" . It was very good . But it was not good . Yes , it was a good movie , but i think the plot was horrible . It was n't\n"
          ],
          "name": "stdout"
        }
      ]
    },
    {
      "cell_type": "markdown",
      "metadata": {
        "id": "fAsMo3j5AFQp"
      },
      "source": [
        "As you can see, we add some randomness (we pick a random word based on the probabilities returned by the model) so we don't get exactly the same review twice. Our model doesn't have any programmed knowledge of the structure of a sentence or grammar rules, yet it has clearly learned a lot about English sentences: we can see it capitalizes properly (*I* is just transformed to *i* because our rules require two characters or more to consider a word as capitalized, so it's normal to see it lowercased) and is using consistent tense. The general review makes sense at first glance, and it's only if you read carefully that you can notice something is a bit off. Not bad for a model trained in a couple of hours! \n",
        "\n",
        "But our end goal wasn't to train a model to generate reviews, but to classify them... so let's use this model to do just that."
      ]
    },
    {
      "cell_type": "markdown",
      "metadata": {
        "id": "Isz9qsOeAFQp"
      },
      "source": [
        "# <center> END\n",
        "<center> We have fintuned the Language Model with the IMDb dataset.\n",
        "<center> The next step is using that model to train a classifier."
      ]
    }
  ]
}