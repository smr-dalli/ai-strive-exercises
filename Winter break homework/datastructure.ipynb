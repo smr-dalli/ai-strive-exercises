{
 "cells": [
  {
   "cell_type": "code",
   "execution_count": 2,
   "metadata": {},
   "outputs": [
    {
     "name": "stdout",
     "output_type": "stream",
     "text": [
      "[6, 12, 18, 4, 12, 20, 28]\n"
     ]
    }
   ],
   "source": [
    "#Exercise Question 1: Given a two list. Create a third list by picking an odd-index element from the first list and even index elements from second.\n",
    "\n",
    "listOne = [3, 6, 9, 12, 15, 18, 21]\n",
    "listTwo = [4, 8, 12, 16, 20, 24, 28]\n",
    "list3 = listOne[1::2] + listTwo[::2]\n",
    "print(list3)"
   ]
  },
  {
   "cell_type": "code",
   "execution_count": 23,
   "metadata": {},
   "outputs": [
    {
     "name": "stdout",
     "output_type": "stream",
     "text": [
      "List After removing element at index 4: [34, 54, 67, 89, 43, 94]\n",
      "List after Adding element at index 2: [34, 54, 11, 67, 89, 43, 94]\n",
      "List after Adding element at last: [34, 54, 11, 67, 89, 43, 94, 11]\n"
     ]
    }
   ],
   "source": [
    "#Exercise Question 2: Given an input list removes the element at index 4 and add it to the 2nd position and also, at the end of the list\n",
    "list1 =  [34, 54, 67, 89, 11, 43, 94]\n",
    "x = list1[4]\n",
    "list1.remove(list1[4])\n",
    "print(f'List After removing element at index 4: {list1}')\n",
    "\n",
    "list1.insert(2,x)\n",
    "print(f'List after Adding element at index 2: {list1}')\n",
    "\n",
    "list1.append(x)\n",
    "print(f'List after Adding element at last: {list1}')\n",
    "\n",
    "    "
   ]
  },
  {
   "cell_type": "code",
   "execution_count": 34,
   "metadata": {},
   "outputs": [
    {
     "name": "stdout",
     "output_type": "stream",
     "text": [
      "Chunk  1: [11, 45, 8]\n",
      "After reversing it: [8, 45, 11]\n",
      "\n",
      "Chunk  1: [23, 14, 12]\n",
      "After reversing it: [12, 14, 23]\n",
      "\n",
      "Chunk  1: [78, 45, 89]\n",
      "After reversing it: [89, 45, 78]\n"
     ]
    }
   ],
   "source": [
    "#Exercise Question 3: Given a list slice it into a 3 equal chunks and rever each list\n",
    "samplelist = [11, 45, 8, 23, 14, 12, 78, 45, 89]\n",
    "list1 = samplelist[:3]\n",
    "print(f'Chunk  1: {list1}')\n",
    "print(f'After reversing it: {list1[::-1]}\\n')\n",
    "\n",
    "\n",
    "list2 = samplelist[3:6]\n",
    "print(f'Chunk  1: {list2}')\n",
    "print(f'After reversing it: {list2[::-1]}\\n')\n",
    "\n",
    "list3 = samplelist[6:]\n",
    "print(f'Chunk  1: {list3}')\n",
    "print(f'After reversing it: {list3[::-1]}')\n",
    "\n"
   ]
  },
  {
   "cell_type": "code",
   "execution_count": 39,
   "metadata": {},
   "outputs": [
    {
     "name": "stdout",
     "output_type": "stream",
     "text": [
      "{11: 2, 45: 3, 8: 1, 23: 2, 89: 1}\n"
     ]
    }
   ],
   "source": [
    "#Exercise Question 4: Given a list iterate it and count the occurrence of each element and create a dictionary to show the count of each element\n",
    "list1 =  [11, 45, 8, 11, 23, 45, 23, 45, 89]\n",
    "dict = {}\n",
    "for i in list1:\n",
    "    counts = list1.count(i)\n",
    "    dict[i] = counts\n",
    "print(dict)"
   ]
  },
  {
   "cell_type": "code",
   "execution_count": 40,
   "metadata": {},
   "outputs": [
    {
     "name": "stdout",
     "output_type": "stream",
     "text": [
      "{(7, 49), (2, 4), (4, 16), (8, 64), (6, 36), (3, 9), (5, 25)}\n"
     ]
    }
   ],
   "source": [
    "#Exercise Question 5: Given a two list of equal size create a set such that it shows the element from both lists in the pair\n",
    "firstlist  = [2, 3, 4, 5, 6, 7, 8]\n",
    "secondlist = [4, 9, 16, 25, 36, 49, 64]\n",
    "new_set = set(zip(firstlist,secondlist))\n",
    "print(new_set)"
   ]
  },
  {
   "cell_type": "code",
   "execution_count": 47,
   "metadata": {},
   "outputs": [
    {
     "name": "stdout",
     "output_type": "stream",
     "text": [
      "{57, 83, 29}\n",
      "{65, 42, 78, 23}\n"
     ]
    }
   ],
   "source": [
    "#Exercise Question 6: Given a following two sets find the intersection and remove those elements from the first set\n",
    "firstset = {65, 42, 78, 83, 23, 57, 29}\n",
    "secondset = {67, 73, 43, 48, 83, 57, 29}\n",
    "new_set = firstset.intersection(secondset)\n",
    "print(new_set)\n",
    "new_firstset = firstset.difference(new_set)\n",
    "print(new_firstset)\n"
   ]
  },
  {
   "cell_type": "code",
   "execution_count": 65,
   "metadata": {},
   "outputs": [
    {
     "name": "stdout",
     "output_type": "stream",
     "text": [
      "First set is subset of second set - True\n",
      "Second set is subset of First set - False\n",
      "\n",
      "First set is Super set of second set - False\n",
      "Second set is Super set of First set - True\n"
     ]
    }
   ],
   "source": [
    "#Exercise Question 7: Given two sets, Checks if One Set is Subset or superset of Another Set. if the subset is found delete all elements from that set\n",
    "\n",
    "firstset = {27, 43, 34}\n",
    "secondset = {34, 93, 22, 27, 43, 53, 48}\n",
    "new_set =  firstset.issubset(secondset)\n",
    "new_set1 = secondset.issubset(firstset)\n",
    "new_set2 = firstset.issuperset(secondset)\n",
    "new_set3 = secondset.issuperset(firstset)\n",
    "if(firstset.issubset(secondset)):\n",
    "      firstset.clear()\n",
    "if (secondset.issubset(firstset)):\n",
    "      secondset.clear()\n",
    "\n",
    "\n",
    "print(f'First set is subset of second set - {new_set}')\n",
    "print(f'Second set is subset of First set - {new_set1}\\n')\n",
    "\n",
    "print(f'First set is Super set of second set - {new_set2}')\n",
    "print(f'Second set is Super set of First set - {new_set3}')\n",
    "\n"
   ]
  },
  {
   "cell_type": "code",
   "execution_count": 71,
   "metadata": {},
   "outputs": [
    {
     "name": "stdout",
     "output_type": "stream",
     "text": [
      "After removing unwanted elemnts from list: [64, 37, 83, 97]\n"
     ]
    }
   ],
   "source": [
    "#Exercise Question 8: Iterate a given list and Check if a given element already exists in a dictionary as a key’s value if not delete it from the list\n",
    "\n",
    "rollNumber = [47, 64, 69, 37, 76, 83, 95, 97]\n",
    "sampleDict ={'Jhon':47, 'Emma':69, 'Kelly':76, 'Jason':97}\n",
    "for ele in rollNumber:\n",
    "    if ele in sampleDict:\n",
    "        pass\n",
    "    else:\n",
    "        rollNumber.remove(ele)\n",
    "print(f'After removing unwanted elemnts from list: {rollNumber}')\n"
   ]
  },
  {
   "cell_type": "code",
   "execution_count": 76,
   "metadata": {},
   "outputs": [
    {
     "name": "stdout",
     "output_type": "stream",
     "text": [
      "[47, 52, 44, 53, 54]\n"
     ]
    }
   ],
   "source": [
    "#Exercise Question 9: Given a dictionary get all values from the dictionary and add it in a list but don’t add duplicates\n",
    "list1 = []\n",
    "speed ={'jan':47, 'feb':52, 'march':47, 'April':44, 'May':52, 'June':53, 'july':54, 'Aug':44, 'Sept':54}\n",
    "for ele in speed.values():\n",
    "    if ele not in list1:\n",
    "        list1.append(ele)\n",
    "print(list1)\n",
    "    "
   ]
  },
  {
   "cell_type": "code",
   "execution_count": 82,
   "metadata": {},
   "outputs": [
    {
     "name": "stdout",
     "output_type": "stream",
     "text": [
      "(87, 41, 65, 94, 41, 99, 94)\n",
      "max 99\n",
      "min 41\n"
     ]
    }
   ],
   "source": [
    "#Exercise Question 10: Remove duplicate from a list and create a tuple and find the minimum and maximum number\n",
    "sampleList = [87, 45, 41, 65, 94, 41, 99, 94]\n",
    "list1 = []\n",
    "for ele in sampleList:\n",
    "    if ele not in samplelist:\n",
    "        list1.append(ele)\n",
    "print(tuple(list1))\n",
    "print('max', max(tuple(list1)))\n",
    "print('min',min(tuple(list1)))"
   ]
  },
  {
   "cell_type": "code",
   "execution_count": null,
   "metadata": {},
   "outputs": [],
   "source": []
  }
 ],
 "metadata": {
  "kernelspec": {
   "display_name": "Python 3",
   "language": "python",
   "name": "python3"
  },
  "language_info": {
   "codemirror_mode": {
    "name": "ipython",
    "version": 3
   },
   "file_extension": ".py",
   "mimetype": "text/x-python",
   "name": "python",
   "nbconvert_exporter": "python",
   "pygments_lexer": "ipython3",
   "version": "3.8.5"
  }
 },
 "nbformat": 4,
 "nbformat_minor": 4
}
