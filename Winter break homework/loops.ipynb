{
 "cells": [
  {
   "cell_type": "code",
   "execution_count": 1,
   "metadata": {},
   "outputs": [
    {
     "name": "stdout",
     "output_type": "stream",
     "text": [
      "1\n",
      "2\n",
      "3\n",
      "4\n",
      "5\n",
      "6\n",
      "7\n",
      "8\n",
      "9\n",
      "10\n"
     ]
    }
   ],
   "source": [
    "#Exercise Question 1: Print First 10 natural numbers using while loop\n",
    "i = 1\n",
    "while i <= 10:\n",
    "    print(i)\n",
    "    i += 1"
   ]
  },
  {
   "cell_type": "code",
   "execution_count": 2,
   "metadata": {},
   "outputs": [
    {
     "name": "stdout",
     "output_type": "stream",
     "text": [
      "1\n",
      "12\n",
      "123\n",
      "1234\n",
      "12345\n"
     ]
    }
   ],
   "source": [
    "#Exercise Question 2: Print the following pattern\n",
    "#1 \n",
    "#1 2 \n",
    "#1 2 3 \n",
    "#1 2 3 4 \n",
    "#1 2 3 4 5\n",
    "for i in range(1,6):\n",
    "    for j in range(i):\n",
    "        print(j+1,end = '')\n",
    "    print()"
   ]
  },
  {
   "cell_type": "code",
   "execution_count": 3,
   "metadata": {},
   "outputs": [
    {
     "name": "stdout",
     "output_type": "stream",
     "text": [
      "enter the number30\n"
     ]
    }
   ],
   "source": [
    "#Exercise Question 3: Accept number from user and calculate the sum of all number between 1 and given number\n",
    "number = int(input('enter the number'))\n",
    "   "
   ]
  },
  {
   "cell_type": "code",
   "execution_count": 4,
   "metadata": {},
   "outputs": [
    {
     "name": "stdout",
     "output_type": "stream",
     "text": [
      "435\n"
     ]
    }
   ],
   "source": [
    "#continue\n",
    "total = 0\n",
    "for i in range(number):\n",
    "    total += i\n",
    "print(total)"
   ]
  },
  {
   "cell_type": "code",
   "execution_count": 5,
   "metadata": {},
   "outputs": [
    {
     "name": "stdout",
     "output_type": "stream",
     "text": [
      "enter the number7\n",
      "7*1 = 7\n",
      "7*2 = 14\n",
      "7*3 = 21\n",
      "7*4 = 28\n",
      "7*5 = 35\n",
      "7*6 = 42\n",
      "7*7 = 49\n",
      "7*8 = 56\n",
      "7*9 = 63\n"
     ]
    }
   ],
   "source": [
    "#Exercise Question 4: Print multiplication table of given number\n",
    "num = int(input('enter the number'))\n",
    "for i in range(1,10):\n",
    "    c = num*i\n",
    "    print(f'{num}*{i} = {c}')"
   ]
  },
  {
   "cell_type": "code",
   "execution_count": 6,
   "metadata": {},
   "outputs": [
    {
     "name": "stdout",
     "output_type": "stream",
     "text": [
      "15\n",
      "55\n",
      "75\n",
      "150\n"
     ]
    }
   ],
   "source": [
    "#Exercise Question 5: Given a list iterate it and display numbers which are divisible by 5 and if you find number greater than 150 stop the loop iteration\n",
    "list1 = [12, 15, 32, 42, 55, 75, 122, 132, 150, 180, 200]\n",
    "for i in list1:\n",
    "    if i%5 == 0 and i <= 150:\n",
    "        print(i)"
   ]
  },
  {
   "cell_type": "code",
   "execution_count": 7,
   "metadata": {},
   "outputs": [
    {
     "name": "stdout",
     "output_type": "stream",
     "text": [
      "enter the value: 1234567\n",
      "The total number of digits in a number are 7\n"
     ]
    }
   ],
   "source": [
    "#Exercise Question 6: Given a number count the total number of digits in a number\n",
    "n = int(input('enter the value: '))\n",
    "print(f'The total number of digits in a number are {len(str(n))}')"
   ]
  },
  {
   "cell_type": "code",
   "execution_count": 25,
   "metadata": {},
   "outputs": [
    {
     "name": "stdout",
     "output_type": "stream",
     "text": [
      "54321\n",
      "4321\n",
      "321\n",
      "21\n",
      "1\n"
     ]
    }
   ],
   "source": [
    "#Exercise Question 7: Print the following pattern using for loop\n",
    "#5 4 3 2 1 \n",
    "#4 3 2 1 \n",
    "#3 2 1 \n",
    "#2 1 \n",
    "#1\n",
    "number = 5\n",
    "for i in range(number):\n",
    "    for j in range(number - i):\n",
    "        print(number-(i+j), end = '')\n",
    "    print()\n",
    "  \n",
    "\n",
    "   "
   ]
  },
  {
   "cell_type": "code",
   "execution_count": 22,
   "metadata": {},
   "outputs": [
    {
     "name": "stdout",
     "output_type": "stream",
     "text": [
      "50\n",
      "40\n",
      "30\n",
      "20\n",
      "10\n"
     ]
    }
   ],
   "source": [
    "#Exercise Question 8: Reverse the following list using for loop\n",
    "list1 = [10, 20, 30, 40, 50]\n",
    "for i in list1[::-1]:\n",
    "    print(i)"
   ]
  },
  {
   "cell_type": "code",
   "execution_count": 10,
   "metadata": {},
   "outputs": [
    {
     "name": "stdout",
     "output_type": "stream",
     "text": [
      "-10\n",
      "-9\n",
      "-8\n",
      "-7\n",
      "-6\n",
      "-5\n",
      "-4\n",
      "-3\n",
      "-2\n",
      "-1\n"
     ]
    }
   ],
   "source": [
    "#Exercise Question 9: Display -10 to -1 using for loop\n",
    "for i in range(-10,0):\n",
    "    print(i)"
   ]
  },
  {
   "cell_type": "code",
   "execution_count": 11,
   "metadata": {},
   "outputs": [
    {
     "name": "stdout",
     "output_type": "stream",
     "text": [
      "0\n",
      "1\n",
      "2\n",
      "3\n",
      "4\n",
      "5\n",
      "6\n",
      "7\n",
      "8\n",
      "9\n",
      "Done!\n"
     ]
    }
   ],
   "source": [
    "#Exercise Question 10: Display a message “Done” after successful execution of for loop\n",
    "for i in range(10):\n",
    "    print(i)\n",
    "else:\n",
    "    print('Done!')"
   ]
  },
  {
   "cell_type": "code",
   "execution_count": 12,
   "metadata": {},
   "outputs": [
    {
     "name": "stdout",
     "output_type": "stream",
     "text": [
      "29\n",
      "31\n",
      "37\n",
      "41\n",
      "43\n",
      "47\n",
      "53\n",
      "59\n",
      "61\n",
      "67\n",
      "71\n",
      "73\n",
      "79\n",
      "83\n",
      "89\n",
      "97\n"
     ]
    }
   ],
   "source": [
    "#Exercise Question 11: Python program to display all the prime numbers within a range\n",
    "#number = int(input('enter the number: '))\n",
    "for i in range(25,100):\n",
    "    if i%2 != 0 and i%3 != 0 and i%5 != 0 and i%7 != 0:\n",
    "        print(i)"
   ]
  },
  {
   "cell_type": "code",
   "execution_count": 13,
   "metadata": {},
   "outputs": [
    {
     "name": "stdout",
     "output_type": "stream",
     "text": [
      "0 1 1 2 3 5 8 13 21 34 "
     ]
    }
   ],
   "source": [
    "#Exercise Question 12: Display Fibonacci series up to 10 terms\n",
    "# 0  1  1  2  3  5  8  13  21  34\n",
    "num1,num2 = 0,1\n",
    "count = 0\n",
    "while(count<=9):\n",
    "    print(num1,end =' ')\n",
    "    total = num1 + num2\n",
    "    num1 = num2\n",
    "    num2 = total\n",
    "    count +=1\n",
    "    "
   ]
  },
  {
   "cell_type": "code",
   "execution_count": 14,
   "metadata": {},
   "outputs": [
    {
     "name": "stdout",
     "output_type": "stream",
     "text": [
      "enter any number: 5\n",
      "120\n"
     ]
    }
   ],
   "source": [
    "#Exercise Question 13: Write a loop to find the factorial of any number\n",
    "fact = 1\n",
    "number = int(input('enter any number: '))\n",
    "if number == 0:\n",
    "        print('Factorial of 0 is 1')\n",
    "else:\n",
    "    for i in range(1,number):\n",
    "        fact = fact*(number+1 -i)\n",
    "    print(fact)\n",
    "    "
   ]
  },
  {
   "cell_type": "code",
   "execution_count": 16,
   "metadata": {},
   "outputs": [
    {
     "name": "stdout",
     "output_type": "stream",
     "text": [
      "enter a number: 13579\n",
      "Reverse a given integer number:  97531\n"
     ]
    }
   ],
   "source": [
    "#Exercise Question 14: Reverse a given integer number\n",
    "number = int(input('enter a number: '))\n",
    "int_reverse = str(number)[::-1]\n",
    "print('Reverse a given integer number: ',int(int_reverse))"
   ]
  },
  {
   "cell_type": "code",
   "execution_count": 17,
   "metadata": {},
   "outputs": [
    {
     "name": "stdout",
     "output_type": "stream",
     "text": [
      "20 40 60 80 100 "
     ]
    }
   ],
   "source": [
    "#Exercise Question 15: Use a loop to display elements from a given list which are present at even positions\n",
    "my_list = [10, 20, 30, 40, 50, 60, 70, 80, 90, 100]\n",
    "for i in my_list[1::2]:\n",
    "    print(i, end = ' ')"
   ]
  },
  {
   "cell_type": "code",
   "execution_count": 18,
   "metadata": {},
   "outputs": [
    {
     "name": "stdout",
     "output_type": "stream",
     "text": [
      "enter the number: 8\n",
      "The cube of the number 0 is 0\n",
      "The cube of the number 1 is 1\n",
      "The cube of the number 2 is 8\n",
      "The cube of the number 3 is 27\n",
      "The cube of the number 4 is 64\n",
      "The cube of the number 5 is 125\n",
      "The cube of the number 6 is 216\n",
      "The cube of the number 7 is 343\n"
     ]
    }
   ],
   "source": [
    "#Exercise Question 16: Display the cube of the number up to a given integer\n",
    "number = int(input('enter the number: '))\n",
    "for i in range(number):\n",
    "    print(f'The cube of the number {i} is {i**3}')"
   ]
  },
  {
   "cell_type": "code",
   "execution_count": 19,
   "metadata": {},
   "outputs": [
    {
     "name": "stdout",
     "output_type": "stream",
     "text": [
      "2 22 222 2222 22222 \n",
      "sum of the series is:  24690\n"
     ]
    }
   ],
   "source": [
    "#Exercise Question 17: Find the sum of the series 2 +22 + 222 + 2222 + .. n terms\n",
    "total = 0\n",
    "ini = 2\n",
    "for i in range(5):\n",
    "    print(ini,end = ' ')\n",
    "    total += ini\n",
    "    ini = (ini*10)+2\n",
    "print('\\nsum of the series is: ',total)\n",
    "    \n",
    "    \n",
    "    \n"
   ]
  },
  {
   "cell_type": "code",
   "execution_count": 20,
   "metadata": {},
   "outputs": [
    {
     "name": "stdout",
     "output_type": "stream",
     "text": [
      "*\n",
      "**\n",
      "***\n",
      "****\n",
      "*****\n",
      "******\n",
      "*****\n",
      "****\n",
      "***\n",
      "**\n"
     ]
    }
   ],
   "source": [
    "#Exercise Question 18: Print the following pattern\n",
    "for i in range(1,6):\n",
    "    for j in range(i):\n",
    "        print('*',end = '')\n",
    "    print()\n",
    "for i in range(1,6):\n",
    "    for j in range(6-i+1):\n",
    "        print('*',end = '')\n",
    "    print()"
   ]
  },
  {
   "cell_type": "code",
   "execution_count": null,
   "metadata": {},
   "outputs": [],
   "source": []
  }
 ],
 "metadata": {
  "kernelspec": {
   "display_name": "Python 3",
   "language": "python",
   "name": "python3"
  },
  "language_info": {
   "codemirror_mode": {
    "name": "ipython",
    "version": 3
   },
   "file_extension": ".py",
   "mimetype": "text/x-python",
   "name": "python",
   "nbconvert_exporter": "python",
   "pygments_lexer": "ipython3",
   "version": "3.8.5"
  }
 },
 "nbformat": 4,
 "nbformat_minor": 4
}
