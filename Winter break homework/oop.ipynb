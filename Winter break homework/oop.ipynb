{
 "cells": [
  {
   "cell_type": "code",
   "execution_count": 6,
   "metadata": {},
   "outputs": [
    {
     "name": "stdout",
     "output_type": "stream",
     "text": [
      "max_speed: 70 mileage: 40\n",
      "max_speed: 50 mileage: 40\n"
     ]
    }
   ],
   "source": [
    "#Exercise Question 1: Create a Vehicle class with max_speed and mileage instance attributes\n",
    "\n",
    "class Vehicle():\n",
    "    def __init__(self,max_speed,mileage):\n",
    "        self.max_speed = max_speed;\n",
    "        self.mileage = mileage;\n",
    "        \n",
    "car1 = Vehicle(70,40)\n",
    "car2 = Vehicle(50,40)\n",
    "print('max_speed:',car1.max_speed, 'mileage:',car1.mileage)\n",
    "print('max_speed:',car2.max_speed, 'mileage:',car2.mileage)\n"
   ]
  },
  {
   "cell_type": "code",
   "execution_count": 11,
   "metadata": {},
   "outputs": [
    {
     "name": "stdout",
     "output_type": "stream",
     "text": [
      "<__main__.Vehicle object at 0x000001DD84ECA790>\n",
      "<__main__.Vehicle object at 0x000001DD84ECAA90>\n"
     ]
    }
   ],
   "source": [
    "#Exercise Question 2: Create a Vehicle class without any variables and methods\n",
    "\n",
    "class Vehicle():\n",
    "    pass\n",
    "\n",
    "bus1 = Vehicle()\n",
    "bus2 = Vehicle()\n",
    "print(bus1)\n",
    "print(bus2)\n"
   ]
  },
  {
   "cell_type": "code",
   "execution_count": 17,
   "metadata": {},
   "outputs": [
    {
     "name": "stdout",
     "output_type": "stream",
     "text": [
      "Name:School Volvo, speed: 180, Mileage: 12\n",
      "Name:School Volvo, speed: 180, Mileage: 12\n"
     ]
    }
   ],
   "source": [
    "#Exercise Question 3: Create child method Bus that will inherit all of the variables and methods of the Vehicle class\n",
    "\n",
    "class Vehicle:\n",
    "    def __init__(self,name,max_speed,mileage):\n",
    "        self.name = name;\n",
    "        self.max_speed = max_speed;\n",
    "        self.mileage = mileage;\n",
    "    def bus(self):\n",
    "        return (f'Name:{self.name}, speed: {self.max_speed}, Mileage: {self.mileage}')\n",
    "Bus = Vehicle('School Volvo',180,12)\n",
    "print(Vehicle.bus(Bus))\n",
    "print(Bus.bus())\n",
    "        \n",
    "#Vehicle Name: School Volvo Speed: 180 Mileage: 12"
   ]
  },
  {
   "cell_type": "code",
   "execution_count": 37,
   "metadata": {},
   "outputs": [
    {
     "name": "stdout",
     "output_type": "stream",
     "text": [
      "The seating capacity of a bus is 50 passengers\n"
     ]
    }
   ],
   "source": [
    "#Exercise Question 4: Class Inheritance\n",
    "#Create a Bus class that inherits from the Vehicle class. Give the capacity argument of Bus.seating_capacity() a default value of 50.\n",
    "class Vehicle():\n",
    "    def __init__(self,name,max_speed, mileage):\n",
    "        self.name = name;\n",
    "        self.max_speed = max_speed;\n",
    "        self.mileage = mileage;\n",
    "#The seating capacity of a bus is 50 passengers      \n",
    "class Bus(Vehicle):\n",
    "    def __init__(self,name,max_speed, mileage, capacity = 50):\n",
    "        super().__init__(name,max_speed,mileage)\n",
    "        self.capacity = capacity;\n",
    "        print( f'The seating capacity of a bus is {self.capacity} passengers')\n",
    "Bus1 = Bus('Volvo', 40, 20)\n",
    "\n",
    "\n",
    "    "
   ]
  },
  {
   "cell_type": "code",
   "execution_count": 44,
   "metadata": {},
   "outputs": [
    {
     "name": "stdout",
     "output_type": "stream",
     "text": [
      "Color: white Vehicle name: School Volvo Speed: 180 Mileage: 12\n",
      "Color: white Vehicle name: Audi Q5 Speed: 240 Mileage: 18\n"
     ]
    }
   ],
   "source": [
    "#Exercise Question 5: Define property that should have the same value for every class instance\n",
    "#Define a class attribute”color” with a default value white. I.e., Every Vehicle should be white.\n",
    "class Vehicle:\n",
    "    color = 'white'\n",
    "\n",
    "    def __init__(self, name, max_speed, mileage):\n",
    "        self.name = name\n",
    "        self.max_speed = max_speed\n",
    "        self.mileage = mileage\n",
    "\n",
    "class Bus(Vehicle):\n",
    "    pass\n",
    "\n",
    "class Car(Vehicle):\n",
    "    pass\n",
    "#Color: White, Vehicle name: School Volvo, Speed: 180, Mileage: 12\n",
    "#Color: White, Vehicle name: Audi Q5, Speed: 240, Mileage: 18\n",
    "car1 = Vehicle('School Volvo',180,12)\n",
    "car2 = Vehicle('Audi Q5',240,18)\n",
    "print('Color:',car1.color,'Vehicle name:',car1.name,'Speed:',car1.max_speed,'Mileage:',car1.mileage)\n",
    "print('Color:',car2.color,'Vehicle name:',car2.name,'Speed:',car2.max_speed,'Mileage:',car2.mileage)\n"
   ]
  },
  {
   "cell_type": "code",
   "execution_count": 53,
   "metadata": {},
   "outputs": [
    {
     "name": "stdout",
     "output_type": "stream",
     "text": [
      "Total Bus fare is: 5500.0\n"
     ]
    }
   ],
   "source": [
    "#Exercise Question 6: Class Inheritance\n",
    "#Create a Bus child class that inherits from the Vehicle class. The default fare charge of any vehicle is seating capacity * 100. \n",
    "#If Vehicle is Bus instance, we need to add an extra 10% on full fare as a maintenance charge. \n",
    "#So total fare for bus instance will become the final amount = total fare + 10% of the total fare.\n",
    "\n",
    "class Vehicle:\n",
    "    def __init__(self, name, mileage, capacity):\n",
    "        self.name = name\n",
    "        self.mileage = mileage\n",
    "        self.capacity = capacity\n",
    "\n",
    "    def fare(self):\n",
    "        return self.capacity * 100\n",
    "\n",
    "class Bus(Vehicle):\n",
    "     def fare(self):\n",
    "             return super().fare()*1.10\n",
    "            \n",
    "    \n",
    "\n",
    "School_bus = Bus(\"School Volvo\", 12, 50)\n",
    "print(\"Total Bus fare is:\", School_bus.fare())"
   ]
  },
  {
   "cell_type": "code",
   "execution_count": 54,
   "metadata": {},
   "outputs": [
    {
     "name": "stdout",
     "output_type": "stream",
     "text": [
      "<class '__main__.Bus'>\n"
     ]
    }
   ],
   "source": [
    "#Exercise Question 7: Determine which class a given Bus object belongs to (Check type of a object)\n",
    "class Vehicle:\n",
    "    def __init__(self, name, mileage, capacity):\n",
    "        self.name = name\n",
    "        self.mileage = mileage\n",
    "        self.capacity = capacity\n",
    "\n",
    "class Bus(Vehicle):\n",
    "    pass\n",
    "\n",
    "School_bus = Bus(\"School Volvo\", 12, 50)\n",
    "print(type(School_bus))"
   ]
  },
  {
   "cell_type": "code",
   "execution_count": 55,
   "metadata": {},
   "outputs": [
    {
     "name": "stdout",
     "output_type": "stream",
     "text": [
      "True\n"
     ]
    }
   ],
   "source": [
    "#Exercise Question 8: Determine if School_bus is also an instance of the Vehicle class\n",
    "class Vehicle:\n",
    "    def __init__(self, name, mileage, capacity):\n",
    "        self.name = name\n",
    "        self.mileage = mileage\n",
    "        self.capacity = capacity\n",
    "\n",
    "class Bus(Vehicle):\n",
    "    pass\n",
    "\n",
    "School_bus = Bus(\"School Volvo\", 12, 50)\n",
    "\n",
    "# use Python's built-in isinstance() function\n",
    "print(isinstance(School_bus, Vehicle))"
   ]
  },
  {
   "cell_type": "code",
   "execution_count": null,
   "metadata": {},
   "outputs": [],
   "source": []
  }
 ],
 "metadata": {
  "kernelspec": {
   "display_name": "Python 3",
   "language": "python",
   "name": "python3"
  },
  "language_info": {
   "codemirror_mode": {
    "name": "ipython",
    "version": 3
   },
   "file_extension": ".py",
   "mimetype": "text/x-python",
   "name": "python",
   "nbconvert_exporter": "python",
   "pygments_lexer": "ipython3",
   "version": "3.8.5"
  }
 },
 "nbformat": 4,
 "nbformat_minor": 4
}
