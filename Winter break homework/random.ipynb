{
 "cells": [
  {
   "cell_type": "code",
   "execution_count": 22,
   "metadata": {},
   "outputs": [
    {
     "name": "stdout",
     "output_type": "stream",
     "text": [
      "180\n",
      "160\n",
      "175\n"
     ]
    }
   ],
   "source": [
    "import random\n",
    "for i in range(3):\n",
    "    print(random.randrange(100,200,5))"
   ]
  },
  {
   "cell_type": "code",
   "execution_count": 32,
   "metadata": {},
   "outputs": [
    {
     "name": "stdout",
     "output_type": "stream",
     "text": [
      "[2429064515, 2756643286]\n"
     ]
    }
   ],
   "source": [
    "#Question 2: Random Lottery Pick. Generate 100 random lottery tickets and pick two lucky tickets from it as a winner.\n",
    "#The lottery number must be 10 digits long.\n",
    "#All 100 ticket number must be unique.\n",
    "lottery_box = []\n",
    "for i in range(100):\n",
    "    lottery_box.append(random.randrange(1000000000,9999999999))\n",
    "tickets = random.sample(lottery_box,2)\n",
    "print(tickets)"
   ]
  },
  {
   "cell_type": "code",
   "execution_count": 48,
   "metadata": {},
   "outputs": [
    {
     "name": "stdout",
     "output_type": "stream",
     "text": [
      "787869"
     ]
    }
   ],
   "source": [
    "#Question 3: Generate 6 digit random secure OTP\n",
    "for i in range(6):\n",
    "    print(random.randrange(10),end = '')"
   ]
  },
  {
   "cell_type": "code",
   "execution_count": 51,
   "metadata": {},
   "outputs": [
    {
     "name": "stdout",
     "output_type": "stream",
     "text": [
      "v\n"
     ]
    }
   ],
   "source": [
    "#Question 4: Pick a random character from a given String\n",
    "name = 'pynative'\n",
    "print(random.choice(name))"
   ]
  },
  {
   "cell_type": "code",
   "execution_count": 57,
   "metadata": {},
   "outputs": [
    {
     "data": {
      "text/plain": [
       "'Cchzl'"
      ]
     },
     "execution_count": 57,
     "metadata": {},
     "output_type": "execute_result"
    }
   ],
   "source": [
    "#Question 5: Generate  random String of length 5\n",
    "import string\n",
    "import random\n",
    "def random_string(str_length):\n",
    "    letters = string.ascii_letters\n",
    "    c = ''.join(random.choice(letters) for i in range(str_length))\n",
    "    return c\n",
    "random_string(5)\n",
    "    "
   ]
  },
  {
   "cell_type": "code",
   "execution_count": 65,
   "metadata": {},
   "outputs": [
    {
     "data": {
      "text/plain": [
       "\"J7?,DzW*'D\""
      ]
     },
     "execution_count": 65,
     "metadata": {},
     "output_type": "execute_result"
    }
   ],
   "source": [
    "#Question 6: Generate a random Password which meets the following conditions\n",
    "#Password length must be 10 characters long.\n",
    "#It must contain at least 2 upper case letters, 1 digit, and 1 special symbol.\n",
    "import string\n",
    "import random\n",
    "def randompassword():\n",
    "    random_password = string.ascii_letters + string.digits + string.punctuation\n",
    "    password = random.sample(random_password,6)\n",
    "    password += random.sample(string.ascii_uppercase,2)\n",
    "    password += random.choice(string.digits)\n",
    "    password += random.choice(string.punctuation)\n",
    "    \n",
    "    passwordlist = list(password)\n",
    "    random.SystemRandom().shuffle(passwordlist)\n",
    "    password = ''.join(passwordlist)\n",
    "    return password\n",
    "randompassword()"
   ]
  },
  {
   "cell_type": "code",
   "execution_count": 66,
   "metadata": {},
   "outputs": [
    {
     "name": "stdout",
     "output_type": "stream",
     "text": [
      "20.746728962343106\n"
     ]
    }
   ],
   "source": [
    "#Question 7: Calculate multiplication of two random float numbers\n",
    "\n",
    "#First random float number must be between 0.1 and 1\n",
    "#Second random float number must be between 9.5 and 99.5\n",
    "first_num = random.random()\n",
    "second_num = random.uniform(9.5,99.5)\n",
    "new_number = first_num * second_num\n",
    "print(new_number)"
   ]
  },
  {
   "cell_type": "code",
   "execution_count": 67,
   "metadata": {},
   "outputs": [
    {
     "name": "stdout",
     "output_type": "stream",
     "text": [
      "Random secure Hexadecimal token is  3ae1192a4ce17f193f7abe512962401443f9c78ae0c3a94e133590c25082369f892f4cfee1ff5c05e4d5670c0dc93edb7d7218f236b7841683edf8f90c42a41a\n",
      "Random secure URL is  PhJ7n5loAs3ObY9xSP6hFZEEN4zOwEHLmOqkpB1ocDKjEmUltSSfx7AJkDSokQgHgAuHgKodCVbuUpN_RBgW-A\n"
     ]
    }
   ],
   "source": [
    "#Question 8: Generate random secure token of 64 bytes and random URL\n",
    "import secrets\n",
    "\n",
    "print(\"Random secure Hexadecimal token is \", secrets.token_hex(64))\n",
    "print(\"Random secure URL is \", secrets.token_urlsafe(64))"
   ]
  },
  {
   "cell_type": "code",
   "execution_count": 85,
   "metadata": {},
   "outputs": [
    {
     "name": "stdout",
     "output_type": "stream",
     "text": [
      "5\n"
     ]
    }
   ],
   "source": [
    "#Question 9: Roll dice in such a way that every time you get the same number\n",
    "c = []\n",
    "for i in range(1,7):\n",
    "    if i == 5:\n",
    "        c.append(i)\n",
    "print(random.choice(c))"
   ]
  }
 ],
 "metadata": {
  "kernelspec": {
   "display_name": "Python 3",
   "language": "python",
   "name": "python3"
  },
  "language_info": {
   "codemirror_mode": {
    "name": "ipython",
    "version": 3
   },
   "file_extension": ".py",
   "mimetype": "text/x-python",
   "name": "python",
   "nbconvert_exporter": "python",
   "pygments_lexer": "ipython3",
   "version": "3.8.5"
  }
 },
 "nbformat": 4,
 "nbformat_minor": 4
}
