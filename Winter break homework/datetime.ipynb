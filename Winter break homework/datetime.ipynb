{
 "cells": [
  {
   "cell_type": "code",
   "execution_count": 1,
   "metadata": {},
   "outputs": [],
   "source": [
    "import datetime"
   ]
  },
  {
   "cell_type": "code",
   "execution_count": 2,
   "metadata": {},
   "outputs": [
    {
     "name": "stdout",
     "output_type": "stream",
     "text": [
      "2020-12-30 21:47:53.560793\n"
     ]
    }
   ],
   "source": [
    "#Date Exercise 1: Print current time in Python\n",
    "print(datetime.datetime.now())"
   ]
  },
  {
   "cell_type": "code",
   "execution_count": 6,
   "metadata": {},
   "outputs": [
    {
     "name": "stdout",
     "output_type": "stream",
     "text": [
      "21:49:39.536614\n"
     ]
    }
   ],
   "source": [
    "print(datetime.datetime.now().time())"
   ]
  },
  {
   "cell_type": "code",
   "execution_count": 15,
   "metadata": {},
   "outputs": [
    {
     "name": "stdout",
     "output_type": "stream",
     "text": [
      "2020-02-25 16:20:00\n"
     ]
    }
   ],
   "source": [
    "#Date Exercise 2: Python convert string into a datetime object\n",
    "from datetime import datetime\n",
    "date_string = \"Feb 25 2020 4:20PM\"\n",
    "print(datetime.strptime(date_string,'%b %d %Y %I:%M%p'))"
   ]
  },
  {
   "cell_type": "code",
   "execution_count": 17,
   "metadata": {},
   "outputs": [
    {
     "name": "stdout",
     "output_type": "stream",
     "text": [
      "2020-02-18 00:00:00\n"
     ]
    }
   ],
   "source": [
    "#Date Exercise 3: Subtract a week ( 7 days)  from a given date in Python\n",
    "from datetime import timedelta\n",
    "given_date = datetime(2020, 2, 25)\n",
    "new_date = given_date - timedelta(days = 7)\n",
    "print(new_date)"
   ]
  },
  {
   "cell_type": "code",
   "execution_count": 20,
   "metadata": {},
   "outputs": [
    {
     "name": "stdout",
     "output_type": "stream",
     "text": [
      "Tuesday 25 February 2020\n"
     ]
    }
   ],
   "source": [
    "#Date Exercise 4: Print a date in a the format format\n",
    "#Day_name  Day_number  Month_name  Year\n",
    "from datetime import datetime\n",
    "given_date = datetime(2020, 2, 25)\n",
    "date = given_date.strftime('%A %d %B %Y')\n",
    "print(date)"
   ]
  },
  {
   "cell_type": "code",
   "execution_count": 23,
   "metadata": {},
   "outputs": [
    {
     "name": "stdout",
     "output_type": "stream",
     "text": [
      "Sunday\n"
     ]
    }
   ],
   "source": [
    "#Date Exercise 5: Find the day of week of a given date?\n",
    "\n",
    "given_date = datetime(2020, 7, 26)\n",
    "date = given_date.strftime('%A')\n",
    "print(date)"
   ]
  },
  {
   "cell_type": "code",
   "execution_count": 24,
   "metadata": {},
   "outputs": [
    {
     "name": "stdout",
     "output_type": "stream",
     "text": [
      "2020-03-29 22:00:00\n"
     ]
    }
   ],
   "source": [
    "#Date Exercise 6: Add week ( 7 days) and 12 hours to a given date\n",
    "# 2020-03-22 10:00:00\n",
    "given_date = datetime(2020, 3, 22, 10, 0, 0)\n",
    "date = given_date + timedelta(days = 7,hours = 12)\n",
    "print(date)"
   ]
  },
  {
   "cell_type": "code",
   "execution_count": 28,
   "metadata": {},
   "outputs": [
    {
     "name": "stdout",
     "output_type": "stream",
     "text": [
      "1609363917721\n"
     ]
    }
   ],
   "source": [
    "#Date Exercise 7: Print current time in milliseconds\n",
    "import time\n",
    "print(int(round(time.time()*1000)))"
   ]
  },
  {
   "cell_type": "code",
   "execution_count": 34,
   "metadata": {},
   "outputs": [
    {
     "name": "stdout",
     "output_type": "stream",
     "text": [
      "2020-02-25 00:00:00\n"
     ]
    }
   ],
   "source": [
    "#Date Exercise 8: Convert following datetime instance into string format\n",
    "from datetime import datetime\n",
    "given_date = datetime(2020, 2, 25)\n",
    "date = given_date.strftime('%Y-%m-%d %H:%M:%S')\n",
    "print(date)"
   ]
  },
  {
   "cell_type": "code",
   "execution_count": 41,
   "metadata": {},
   "outputs": [
    {
     "name": "stdout",
     "output_type": "stream",
     "text": [
      "2020-06-25\n"
     ]
    }
   ],
   "source": [
    "#Date Exercise 9: Calculate the date 4 months from the current date\n",
    "# 2020-02-25\n",
    "from datetime import datetime\n",
    "from dateutil.relativedelta import relativedelta\n",
    "given_date = datetime(2020, 2, 25).date()\n",
    "date = given_date + relativedelta(months = 4)\n",
    "print(date)"
   ]
  },
  {
   "cell_type": "code",
   "execution_count": 52,
   "metadata": {},
   "outputs": [
    {
     "name": "stdout",
     "output_type": "stream",
     "text": [
      "205\n"
     ]
    }
   ],
   "source": [
    "#Exercise 10: Calculate number of days between two given dates\n",
    "\n",
    "# 2020-02-25\n",
    "date_1 = datetime(2020, 2, 25).date()\n",
    "\n",
    "# 2020-09-17\n",
    "date_2 = datetime(2020, 9, 17).date()\n",
    "x = (date_1) - (date_2)\n",
    "print(abs(x.days))"
   ]
  },
  {
   "cell_type": "code",
   "execution_count": null,
   "metadata": {},
   "outputs": [],
   "source": []
  },
  {
   "cell_type": "code",
   "execution_count": null,
   "metadata": {},
   "outputs": [],
   "source": []
  }
 ],
 "metadata": {
  "kernelspec": {
   "display_name": "Python 3",
   "language": "python",
   "name": "python3"
  },
  "language_info": {
   "codemirror_mode": {
    "name": "ipython",
    "version": 3
   },
   "file_extension": ".py",
   "mimetype": "text/x-python",
   "name": "python",
   "nbconvert_exporter": "python",
   "pygments_lexer": "ipython3",
   "version": "3.8.5"
  }
 },
 "nbformat": 4,
 "nbformat_minor": 4
}
