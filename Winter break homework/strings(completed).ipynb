{
 "cells": [
  {
   "cell_type": "code",
   "execution_count": 2,
   "metadata": {},
   "outputs": [
    {
     "name": "stdout",
     "output_type": "stream",
     "text": [
      "Dip\n",
      "Son\n"
     ]
    }
   ],
   "source": [
    "#Exercise Question 1: Given a string of odd length greater 7, return a string made of the middle three chars of a given String\n",
    "str1 = \"JhonDipPeta\"\n",
    "str2 = \"JaSonAy\"\n",
    "if 'Dip' in str1:\n",
    "    print('Dip')\n",
    "if 'Son' in str2:\n",
    "    print('Son')"
   ]
  },
  {
   "cell_type": "code",
   "execution_count": 3,
   "metadata": {},
   "outputs": [
    {
     "name": "stdout",
     "output_type": "stream",
     "text": [
      "AuKellylt\n"
     ]
    }
   ],
   "source": [
    "#Exercise Question 2: Given 2 strings, s1 and s2, create a new string by appending s2 in the middle of s1\n",
    "s1 = \"Ault\"\n",
    "s2 = \"Kelly\"\n",
    "middle_index = len(s1)//2\n",
    "s3 = s1[:middle_index] + s2 + s1[middle_index:]\n",
    "print(s3)"
   ]
  },
  {
   "cell_type": "code",
   "execution_count": 4,
   "metadata": {},
   "outputs": [
    {
     "name": "stdout",
     "output_type": "stream",
     "text": [
      "AJrpan\n"
     ]
    }
   ],
   "source": [
    "#Exercise Question 3: Given 2 strings, s1, and s2 return a new string made of the first, middle and last char each input string\n",
    "s1 = \"America\"\n",
    "s2 = \"Japan\"\n",
    "s3 = s1[0]+s2[0]+s1[len(s1)//2]+s2[len(s2)//2]+s1[-1]+s2[-1]\n",
    "print(s3)"
   ]
  },
  {
   "cell_type": "code",
   "execution_count": 5,
   "metadata": {},
   "outputs": [
    {
     "name": "stdout",
     "output_type": "stream",
     "text": [
      "yaivePNT\n"
     ]
    }
   ],
   "source": [
    "#Exercise Question 4: Arrange string characters such that lowercase letters should come first\n",
    "str1 = 'PyNaTive'\n",
    "x = []\n",
    "y = []\n",
    "for char in str1:\n",
    "    if char.islower():\n",
    "        x.append(char)\n",
    "    else:\n",
    "        y.append(char)\n",
    "sorted_string = ''.join(x+y)\n",
    "print(sorted_string)\n",
    "\n",
    "    "
   ]
  },
  {
   "cell_type": "code",
   "execution_count": 6,
   "metadata": {},
   "outputs": [
    {
     "name": "stdout",
     "output_type": "stream",
     "text": [
      "Upper case letters: 1\n",
      "Lower case letters: 7\n",
      "Number of digits:   3\n",
      "Special characters: 4\n"
     ]
    }
   ],
   "source": [
    "#Exercise Question 5: Count all lower case, upper case, digits, and special symbols from a given string\n",
    "str1 = \"P@#yn26at^&i5ve\"\n",
    "x = []\n",
    "y = []\n",
    "z = []\n",
    "a = []\n",
    "for char in str1:\n",
    "    if char.isupper():\n",
    "        x.append(char)\n",
    "    elif char.islower():\n",
    "        y.append(char)\n",
    "    elif char.isdigit():\n",
    "        z.append(char)\n",
    "    else:\n",
    "        a.append(char)\n",
    "print(f'Upper case letters: {len(x)}')\n",
    "print(f'Lower case letters: {len(y)}')\n",
    "print(f'Number of digits:   {len(z)}')\n",
    "print(f'Special characters: {len(a)}')\n",
    "    "
   ]
  },
  {
   "cell_type": "code",
   "execution_count": 7,
   "metadata": {},
   "outputs": [
    {
     "name": "stdout",
     "output_type": "stream",
     "text": [
      "AzbycX"
     ]
    }
   ],
   "source": [
    "#Exercise Question 6: Given two strings, s1 and s2, create a mixed String\n",
    "s1 = \"Abc\"\n",
    "s2 = \"Xyz\"\n",
    "for i,j in zip(s1,s2[::-1]):\n",
    "    print(i+j,end = '')"
   ]
  },
  {
   "cell_type": "code",
   "execution_count": 8,
   "metadata": {},
   "outputs": [
    {
     "name": "stdout",
     "output_type": "stream",
     "text": [
      "True\n",
      "False\n"
     ]
    }
   ],
   "source": [
    "#Exercise Question 7: String characters balance Test\n",
    "s1 = \"Yn\"\n",
    "s2 = \"PYnative\"\n",
    "s3 = \"Ynf\"\n",
    "s4 = \"PYnative\"\n",
    "if s1 in s2:\n",
    "    print(True)\n",
    "else:\n",
    "    print(False)\n",
    "\n",
    "if s3 in s4:\n",
    "    print(True)\n",
    "else:\n",
    "    print(False)\n"
   ]
  },
  {
   "cell_type": "code",
   "execution_count": 9,
   "metadata": {},
   "outputs": [
    {
     "name": "stdout",
     "output_type": "stream",
     "text": [
      "The USA count is:2\n"
     ]
    }
   ],
   "source": [
    "#Exercise Question 8: Find all occurrences of “USA” in given string ignoring the case\n",
    "\n",
    "str1 = \"Welcome to USA. usa awesome, isn't it?\"\n",
    "update_str = str1.lower().replace('.','').split()\n",
    "count = []\n",
    "for ele in update_str:\n",
    "    if ele == 'usa':\n",
    "        count.append('usa')\n",
    "    else:\n",
    "        pass\n",
    "print(f'The USA count is:{len(count)}')"
   ]
  },
  {
   "cell_type": "code",
   "execution_count": 10,
   "metadata": {},
   "outputs": [
    {
     "name": "stdout",
     "output_type": "stream",
     "text": [
      "[78, 83, 68, 65]\n",
      "294\n",
      "73.5\n"
     ]
    }
   ],
   "source": [
    "#Exercise Question 9: Given a string, return the sum and average of the digits that appear in the string, ignoring all other characters\n",
    "str1 = \"English = 78 Science = 83 Math = 68 History = 65\"\n",
    "update_str = str1.split()\n",
    "x = []\n",
    "for i in update_str:\n",
    "    if i.isdigit():\n",
    "        x.append(int(i))\n",
    "print(x)\n",
    "\n",
    "print(sum(x))\n",
    "print(sum(x)/len(x))\n",
    "\n",
    "        \n",
    "    \n",
    "    "
   ]
  },
  {
   "cell_type": "code",
   "execution_count": 11,
   "metadata": {},
   "outputs": [
    {
     "name": "stdout",
     "output_type": "stream",
     "text": [
      "{'A': 1, 'p': 2, 'l': 1, 'e': 1}\n"
     ]
    }
   ],
   "source": [
    "#Exercise Question 10: Given an input string, count occurrences of all characters within a string\n",
    "str1 = \"Apple\"\n",
    "dict = {}\n",
    "for i in str1:\n",
    "    count = str1.count(i)\n",
    "    dict[i] = count\n",
    "print(dict)"
   ]
  },
  {
   "cell_type": "code",
   "execution_count": 12,
   "metadata": {},
   "outputs": [
    {
     "name": "stdout",
     "output_type": "stream",
     "text": [
      "evitanYP\n"
     ]
    }
   ],
   "source": [
    "#Exercise Question 11: Reverse a given string\n",
    "\n",
    "str1 = \"PYnative\"\n",
    "print(str1[::-1])"
   ]
  },
  {
   "cell_type": "code",
   "execution_count": 13,
   "metadata": {},
   "outputs": [
    {
     "name": "stdout",
     "output_type": "stream",
     "text": [
      "Last occurrence of Emma starts at:  43\n"
     ]
    }
   ],
   "source": [
    "#Exercise Question 12: Find the last position of a substring “Emma” in a given string\n",
    "\n",
    "str1 = \"Emma is a data scientist who knows Python. Emma works at google.\"\n",
    "index_position = str1.rfind('Emma')\n",
    "print(\"Last occurrence of Emma starts at: \", index_position)\n"
   ]
  },
  {
   "cell_type": "code",
   "execution_count": 14,
   "metadata": {},
   "outputs": [
    {
     "name": "stdout",
     "output_type": "stream",
     "text": [
      "Emma is a data scientist "
     ]
    }
   ],
   "source": [
    "#Exercise Question 13: Split a given string on hyphens into several substrings and display each substring\n",
    "str1 = 'Emma-is-a-data-scientist'\n",
    "new_str = str1.split('-')\n",
    "for ele in new_str:\n",
    "    print(ele,end = ' ')"
   ]
  },
  {
   "cell_type": "code",
   "execution_count": 15,
   "metadata": {},
   "outputs": [
    {
     "name": "stdout",
     "output_type": "stream",
     "text": [
      "['Emma', 'Jon', 'Kelly', 'Eric']\n"
     ]
    }
   ],
   "source": [
    "#Exercise Question 14: Remove empty strings from a list of strings\n",
    "str_list = [\"Emma\", \"Jon\", \"\", \"Kelly\", None, \"Eric\", \"\"]\n",
    "new_list = list(filter(None,str_list))\n",
    "print(new_list)"
   ]
  },
  {
   "cell_type": "code",
   "execution_count": 16,
   "metadata": {},
   "outputs": [
    {
     "name": "stdout",
     "output_type": "stream",
     "text": [
      "Jon is developer  musician\n",
      "\n",
      "Jon is developer  musician\n"
     ]
    }
   ],
   "source": [
    "#Exercise Question 15: Remove special symbols/Punctuation from a given string\n",
    "import re\n",
    "import string\n",
    "str1 = \"/*Jon is @developer & musician\"\n",
    "new_str = re.sub(r'[^\\w\\s]','',str1)\n",
    "print(new_str)\n",
    "print()\n",
    "\n",
    "new_str = str1.translate(str.maketrans('','',string.punctuation))\n",
    "print(new_str)"
   ]
  },
  {
   "cell_type": "code",
   "execution_count": 17,
   "metadata": {},
   "outputs": [
    {
     "name": "stdout",
     "output_type": "stream",
     "text": [
      "2510\n",
      "\n",
      "2510\n"
     ]
    }
   ],
   "source": [
    "#Exercise Question 16: Removal all the characters other than integers from string\n",
    "str1 = 'I am 25 years and 10 months old'\n",
    "new_list = str1.split()\n",
    "for ele in new_list:\n",
    "    if ele.isdigit():\n",
    "        print(int(ele),end = '')\n",
    "print()\n",
    "print()\n",
    "#or\n",
    "new = ''.join([i for i in str1 if i.isdigit()])\n",
    "print(new)"
   ]
  },
  {
   "cell_type": "code",
   "execution_count": 33,
   "metadata": {},
   "outputs": [
    {
     "name": "stdout",
     "output_type": "stream",
     "text": [
      "Emma25\n",
      "scientist50\n"
     ]
    }
   ],
   "source": [
    "#Exercise Question 17: Find words with both alphabets and numbers\n",
    "str1 = \"Emma25 is Data scientist50 and AI Expert\"\n",
    "str_list = str1.split()\n",
    "new_str = '\\n'.join([i for i in str_list if i.isalpha() == False])\n",
    "print(new_str)\n"
   ]
  },
  {
   "cell_type": "code",
   "execution_count": 41,
   "metadata": {},
   "outputs": [
    {
     "name": "stdout",
     "output_type": "stream",
     "text": [
      "##Jon is #developer # musician##\n"
     ]
    }
   ],
   "source": [
    "#Exercise Question 18: From given string replace each punctuation with #\n",
    "\n",
    "from string import punctuation\n",
    "\n",
    "str1 = '/*Jon is @developer & musician!!'\n",
    "\n",
    "for char in punctuation:\n",
    "    str1 = str1.replace(char,'#')\n",
    "    \n",
    "print(str1)\n"
   ]
  },
  {
   "cell_type": "code",
   "execution_count": null,
   "metadata": {},
   "outputs": [],
   "source": []
  }
 ],
 "metadata": {
  "kernelspec": {
   "display_name": "Python 3",
   "language": "python",
   "name": "python3"
  },
  "language_info": {
   "codemirror_mode": {
    "name": "ipython",
    "version": 3
   },
   "file_extension": ".py",
   "mimetype": "text/x-python",
   "name": "python",
   "nbconvert_exporter": "python",
   "pygments_lexer": "ipython3",
   "version": "3.8.5"
  }
 },
 "nbformat": 4,
 "nbformat_minor": 4
}
