{
 "cells": [
  {
   "cell_type": "code",
   "execution_count": 10,
   "metadata": {},
   "outputs": [
    {
     "name": "stdout",
     "output_type": "stream",
     "text": [
      "Satyam 65\n",
      "Tulasi 53\n"
     ]
    }
   ],
   "source": [
    "#Exercise Question 1: Create a function that can accept two arguments name and age and print its value\n",
    "def function(name,age):\n",
    "    x,y = name,age\n",
    "    print(x,y)\n",
    "    \n",
    "function('Satyam', 65)\n",
    "function('Tulasi',53)"
   ]
  },
  {
   "cell_type": "code",
   "execution_count": 20,
   "metadata": {},
   "outputs": [
    {
     "name": "stdout",
     "output_type": "stream",
     "text": [
      "20\n",
      "40\n",
      "60\n",
      "80\n",
      "100\n",
      "\n",
      "20\n",
      "40\n",
      "60\n",
      "80\n",
      "100\n"
     ]
    }
   ],
   "source": [
    "#Exercise Question 2: Write a function func1() such that it can accept a variable length of  argument and print all arguments value\n",
    "def func1(x):\n",
    "    for i in x:\n",
    "        print(i)\n",
    "func1((20,40,60))\n",
    "func1((80,100))\n",
    "\n",
    "#or\n",
    "print()\n",
    "\n",
    "def func1(*x):\n",
    "    for i in x:\n",
    "        print(i)\n",
    "func1(20,40,60)\n",
    "func1(80,100)\n"
   ]
  },
  {
   "cell_type": "code",
   "execution_count": 26,
   "metadata": {},
   "outputs": [
    {
     "data": {
      "text/plain": [
       "'adding two values are :400 and subtracting two values are: -200'"
      ]
     },
     "execution_count": 26,
     "metadata": {},
     "output_type": "execute_result"
    }
   ],
   "source": [
    "#Exercise Question 3: Write a function calculation() such that it can accept two variables and calculate the addition and subtraction of it. And also it must return both addition and subtraction in a single return call\n",
    "def calculation(x,y):\n",
    "    add = x + y\n",
    "    sub = x - y\n",
    "    return (f'Adding two values are :{add} and subtracting two values are: {sub}')\n",
    "calculation(100,300)\n",
    "\n"
   ]
  },
  {
   "cell_type": "code",
   "execution_count": 35,
   "metadata": {},
   "outputs": [
    {
     "name": "stdout",
     "output_type": "stream",
     "text": [
      "('sai', 10000)\n"
     ]
    },
    {
     "data": {
      "text/plain": [
       "('sai', 9000)"
      ]
     },
     "execution_count": 35,
     "metadata": {},
     "output_type": "execute_result"
    }
   ],
   "source": [
    "#Exercise Question 4: Create a function showEmployee() in such a way that it should accept employee name, and it’s salary and display both, and if the salary is missing in function call it should show it as 9000\n",
    "def showEmployee(name,salary = 9000):\n",
    "    person_name = name\n",
    "    person_salary = salary\n",
    "    return person_name, salary\n",
    "print(showEmployee('sai',10000))\n",
    "showEmployee('sai')"
   ]
  },
  {
   "cell_type": "code",
   "execution_count": 40,
   "metadata": {},
   "outputs": [
    {
     "data": {
      "text/plain": [
       "7"
      ]
     },
     "execution_count": 40,
     "metadata": {},
     "output_type": "execute_result"
    }
   ],
   "source": [
    "#Exercise Question 5: Create an inner function to calculate the addition in the following way\n",
    "#Create an outer function that will accept two parameters a and b\n",
    "#Create an inner function inside an outer function that will calculate the addition of a and b\n",
    "#At last, an outer function will add 5 into addition and return it\n",
    "\n",
    "def outerfunc(a,b):\n",
    "    def addition(a,b):\n",
    "        add = a + b\n",
    "        return add\n",
    "    c = addition(a,b)\n",
    "    return (c+5)\n",
    "\n",
    "outerfunc(1,1)\n",
    "    \n"
   ]
  },
  {
   "cell_type": "code",
   "execution_count": 50,
   "metadata": {},
   "outputs": [
    {
     "data": {
      "text/plain": [
       "55"
      ]
     },
     "execution_count": 50,
     "metadata": {},
     "output_type": "execute_result"
    }
   ],
   "source": [
    "#Exercise Question 6: Write a recursive function to calculate the sum of numbers from 0 to 10\n",
    "def summation(n):\n",
    "    sum = 0\n",
    "    for i in n:\n",
    "        sum = sum+i\n",
    "    return sum\n",
    "summation(range(11))\n",
    "        \n",
    "    "
   ]
  },
  {
   "cell_type": "code",
   "execution_count": 53,
   "metadata": {},
   "outputs": [
    {
     "name": "stdout",
     "output_type": "stream",
     "text": [
      "sai 25 Male\n",
      "bandi 25 Male\n"
     ]
    }
   ],
   "source": [
    "#Exercise Question 7: Assign a different name to function and call it through the new name\n",
    "def display_student(name,age,gender):\n",
    "    print(name,age,gender)\n",
    "display_student('sai',25,'Male')\n",
    "show_student = display_student\n",
    "show_student('bandi',25,'Male')\n"
   ]
  },
  {
   "cell_type": "code",
   "execution_count": 64,
   "metadata": {},
   "outputs": [
    {
     "name": "stdout",
     "output_type": "stream",
     "text": [
      "4 6 8 10 12 14 16 18 20 22 24 26 28 "
     ]
    }
   ],
   "source": [
    "#Exercise Question 8: Generate a Python list of all the even numbers between 4 to 30\n",
    "def lists(x):\n",
    "    for i in x:\n",
    "        if i % 2 == 0:\n",
    "            print(i, end = ' ')\n",
    "lists(range(4,30))\n",
    "\n"
   ]
  },
  {
   "cell_type": "code",
   "execution_count": 71,
   "metadata": {},
   "outputs": [
    {
     "name": "stdout",
     "output_type": "stream",
     "text": [
      "24\n"
     ]
    }
   ],
   "source": [
    "#Exercise Question 9: Return the largest item from the given list\n",
    "#aList = [4, 6, 8, 24, 12, 2]\n",
    "def largest(x):\n",
    "    y = max(x)\n",
    "    print(y)\n",
    "largest([4, 6, 8, 24, 12, 2])"
   ]
  },
  {
   "cell_type": "code",
   "execution_count": null,
   "metadata": {},
   "outputs": [],
   "source": []
  }
 ],
 "metadata": {
  "kernelspec": {
   "display_name": "Python 3",
   "language": "python",
   "name": "python3"
  },
  "language_info": {
   "codemirror_mode": {
    "name": "ipython",
    "version": 3
   },
   "file_extension": ".py",
   "mimetype": "text/x-python",
   "name": "python",
   "nbconvert_exporter": "python",
   "pygments_lexer": "ipython3",
   "version": "3.8.5"
  }
 },
 "nbformat": 4,
 "nbformat_minor": 4
}
