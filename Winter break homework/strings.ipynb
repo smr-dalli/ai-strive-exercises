{
 "cells": [
  {
   "cell_type": "code",
   "execution_count": 1,
   "metadata": {},
   "outputs": [
    {
     "name": "stdout",
     "output_type": "stream",
     "text": [
      "Dip\n",
      "Son\n"
     ]
    }
   ],
   "source": [
    "#Exercise Question 1: Given a string of odd length greater 7, return a string made of the middle three chars of a given String\n",
    "str1 = \"JhonDipPeta\"\n",
    "str2 = \"JaSonAy\"\n",
    "if 'Dip' in str1:\n",
    "    print('Dip')\n",
    "if 'Son' in str2:\n",
    "    print('Son')"
   ]
  },
  {
   "cell_type": "code",
   "execution_count": 2,
   "metadata": {},
   "outputs": [
    {
     "name": "stdout",
     "output_type": "stream",
     "text": [
      "AuKellylt\n"
     ]
    }
   ],
   "source": [
    "#Exercise Question 2: Given 2 strings, s1 and s2, create a new string by appending s2 in the middle of s1\n",
    "s1 = \"Ault\"\n",
    "s2 = \"Kelly\"\n",
    "middle_index = len(s1)//2\n",
    "s3 = s1[:middle_index] + s2 + s1[middle_index:]\n",
    "print(s3)"
   ]
  },
  {
   "cell_type": "code",
   "execution_count": 3,
   "metadata": {},
   "outputs": [
    {
     "name": "stdout",
     "output_type": "stream",
     "text": [
      "AJrpan\n"
     ]
    }
   ],
   "source": [
    "#Exercise Question 3: Given 2 strings, s1, and s2 return a new string made of the first, middle and last char each input string\n",
    "s1 = \"America\"\n",
    "s2 = \"Japan\"\n",
    "s3 = s1[0]+s2[0]+s1[len(s1)//2]+s2[len(s2)//2]+s1[-1]+s2[-1]\n",
    "print(s3)"
   ]
  },
  {
   "cell_type": "code",
   "execution_count": 31,
   "metadata": {},
   "outputs": [
    {
     "name": "stdout",
     "output_type": "stream",
     "text": [
      "yaivePNT\n"
     ]
    }
   ],
   "source": [
    "#Exercise Question 4: Arrange string characters such that lowercase letters should come first\n",
    "str1 = 'PyNaTive'\n",
    "x = []\n",
    "y = []\n",
    "for char in str1:\n",
    "    if char.islower():\n",
    "        x.append(char)\n",
    "    else:\n",
    "        y.append(char)\n",
    "sorted_string = ''.join(x+y)\n",
    "print(sorted_string)\n",
    "\n",
    "    "
   ]
  },
  {
   "cell_type": "code",
   "execution_count": 36,
   "metadata": {},
   "outputs": [
    {
     "name": "stdout",
     "output_type": "stream",
     "text": [
      "Upper case letters: 1\n",
      "Lower case letters: 7\n",
      "Number of digits:   3\n",
      "Special characters: 4\n"
     ]
    }
   ],
   "source": [
    "#Exercise Question 5: Count all lower case, upper case, digits, and special symbols from a given string\n",
    "str1 = \"P@#yn26at^&i5ve\"\n",
    "x = []\n",
    "y = []\n",
    "z = []\n",
    "a = []\n",
    "for char in str1:\n",
    "    if char.isupper():\n",
    "        x.append(char)\n",
    "    elif char.islower():\n",
    "        y.append(char)\n",
    "    elif char.isdigit():\n",
    "        z.append(char)\n",
    "    else:\n",
    "        a.append(char)\n",
    "print(f'Upper case letters: {len(x)}')\n",
    "print(f'Lower case letters: {len(y)}')\n",
    "print(f'Number of digits:   {len(z)}')\n",
    "print(f'Special characters: {len(a)}')\n",
    "    "
   ]
  },
  {
   "cell_type": "code",
   "execution_count": null,
   "metadata": {},
   "outputs": [],
   "source": [
    "#Exercise Question 6: Given two strings, s1 and s2, create a mixed String\n",
    "s1 = \"Abc\"\n",
    "s2 = \"Xyz\""
   ]
  }
 ],
 "metadata": {
  "kernelspec": {
   "display_name": "Python 3",
   "language": "python",
   "name": "python3"
  },
  "language_info": {
   "codemirror_mode": {
    "name": "ipython",
    "version": 3
   },
   "file_extension": ".py",
   "mimetype": "text/x-python",
   "name": "python",
   "nbconvert_exporter": "python",
   "pygments_lexer": "ipython3",
   "version": "3.8.5"
  }
 },
 "nbformat": 4,
 "nbformat_minor": 4
}
