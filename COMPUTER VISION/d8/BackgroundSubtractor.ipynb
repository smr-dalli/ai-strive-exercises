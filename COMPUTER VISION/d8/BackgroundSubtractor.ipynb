{
 "cells": [
  {
   "cell_type": "code",
   "execution_count": 1,
   "id": "official-police",
   "metadata": {},
   "outputs": [],
   "source": [
    "import cv2\n",
    "import numpy as np\n",
    "import matplotlib.pyplot as plt\n",
    "%matplotlib inline\n"
   ]
  },
  {
   "cell_type": "code",
   "execution_count": 9,
   "id": "intensive-neutral",
   "metadata": {},
   "outputs": [],
   "source": [
    "video = cv2.VideoCapture(0)\n",
    "background = cv2.createBackgroundSubtractorMOG2(history = 100,varThreshold = 100)\n",
    "\n",
    "\n",
    "while(video.isOpened()):\n",
    "    _,frame = video.read()\n",
    "    \n",
    "    mask = background.apply(frame)\n",
    "    cv2.imshow('my_window',mask)\n",
    "    key = cv2.waitKey(3)\n",
    "    if key == ord('q') or key == 27:\n",
    "        break\n",
    "\n",
    "video.release()\n",
    "cv2.destroyAllWindows()\n"
   ]
  },
  {
   "cell_type": "code",
   "execution_count": 4,
   "id": "armed-haiti",
   "metadata": {},
   "outputs": [],
   "source": [
    "video = cv2.VideoCapture(0)\n",
    "background = cv2.createBackgroundSubtractorKNN(history = 10,dist2Threshold = 400)\n",
    "img = cv2.imread('img/scenary.jpg')\n",
    "\n",
    "\n",
    "while(video.isOpened()):\n",
    "    _,frame = video.read()\n",
    "    \n",
    "    mask = background.apply(frame)\n",
    "#     gray_mask = cv2.cvtColor(mask,cv2.COLOR_BGR2GRAY)\n",
    "#     _,thresh = cv2.threshold(gray_mask,127,255,cv2.THRESH_BINARY_INV)\n",
    "#     canny = cv2.Canny(thresh,100,200)\n",
    "   # cv2.imshow('my_window',mask)\n",
    "    cv2.imshow('my_window',img)\n",
    "    key = cv2.waitKey(3)\n",
    "    if key == ord('q') or key == 27:\n",
    "        break\n",
    "\n",
    "video.release()\n",
    "cv2.destroyAllWindows()"
   ]
  },
  {
   "cell_type": "code",
   "execution_count": 8,
   "id": "shaped-rubber",
   "metadata": {},
   "outputs": [],
   "source": [
    "cap = cv2.VideoCapture(0)\n",
    "cv2.cr\n",
    "\n",
    "while (cap.isOpened()):\n",
    "    _,frame = cap.read()\n",
    "    frame_copy = frame.copy()\n",
    "    gray_frame = cv2.cvtColor(frame_copy,cv2.COLOR_RGB2GRAY)\n",
    "    _,thresh = cv2.threshold(gray_frame,100,255,cv2.THRESH_BINARY)\n",
    "    canny = cv2.Canny(thresh,100,200)\n",
    "    \n",
    "    contour,hieraracy = cv2.findContours(canny,cv2.RETR_EXTERNAL,cv2.CHAIN_APPROX_NONE)\n",
    "    #sort_cont = sorted(contour,key = cv2.contourArea,reverse = True)\n",
    "    cv2.drawContours(frame_copy,contour,-1,(0,255,0),3)\n",
    "    #for i in sort_cont:\n",
    "    #cv2.drawContours(frame_copy,sort_cont[:6],i,(0,255,0),3)\n",
    "    cv2.imshow('my_window',frame_copy)\n",
    "    \n",
    "    key = cv2.waitKey(30)\n",
    "    if key == ord('q') or key == 27:\n",
    "        break\n",
    "cap.release()\n",
    "cv2.destroyAllWindows()"
   ]
  }
 ],
 "metadata": {
  "kernelspec": {
   "display_name": "Python 3",
   "language": "python",
   "name": "python3"
  },
  "language_info": {
   "codemirror_mode": {
    "name": "ipython",
    "version": 3
   },
   "file_extension": ".py",
   "mimetype": "text/x-python",
   "name": "python",
   "nbconvert_exporter": "python",
   "pygments_lexer": "ipython3",
   "version": "3.8.8"
  }
 },
 "nbformat": 4,
 "nbformat_minor": 5
}
